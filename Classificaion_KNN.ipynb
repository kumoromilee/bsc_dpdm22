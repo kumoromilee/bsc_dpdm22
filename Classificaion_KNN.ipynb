{
  "nbformat": 4,
  "nbformat_minor": 0,
  "metadata": {
    "colab": {
      "provenance": [],
      "toc_visible": true,
      "include_colab_link": true
    },
    "kernelspec": {
      "name": "python3",
      "display_name": "Python 3"
    },
    "language_info": {
      "name": "python"
    }
  },
  "cells": [
    {
      "cell_type": "markdown",
      "metadata": {
        "id": "view-in-github",
        "colab_type": "text"
      },
      "source": [
        "<a href=\"https://colab.research.google.com/github/kumoromilee/bsc_dpdm22/blob/main/Classificaion_KNN.ipynb\" target=\"_parent\"><img src=\"https://colab.research.google.com/assets/colab-badge.svg\" alt=\"Open In Colab\"/></a>"
      ]
    },
    {
      "cell_type": "code",
      "execution_count": 1,
      "metadata": {
        "id": "PqpT4aFGVTcZ"
      },
      "outputs": [],
      "source": [
        "#นำเข้าข้อมูล digits\n",
        "from sklearn.datasets import load_digits\n",
        "digits = load_digits()\n",
        "#print(digits.data.shape)\n",
        "\n",
        "import matplotlib.pyplot as plt"
      ]
    },
    {
      "cell_type": "code",
      "source": [
        "digits"
      ],
      "metadata": {
        "colab": {
          "base_uri": "https://localhost:8080/"
        },
        "id": "tD1VZZF2WFex",
        "outputId": "3b89e028-0fdf-449a-d330-b22e1915ab0c"
      },
      "execution_count": 2,
      "outputs": [
        {
          "output_type": "execute_result",
          "data": {
            "text/plain": [
              "{'data': array([[ 0.,  0.,  5., ...,  0.,  0.,  0.],\n",
              "        [ 0.,  0.,  0., ..., 10.,  0.,  0.],\n",
              "        [ 0.,  0.,  0., ..., 16.,  9.,  0.],\n",
              "        ...,\n",
              "        [ 0.,  0.,  1., ...,  6.,  0.,  0.],\n",
              "        [ 0.,  0.,  2., ..., 12.,  0.,  0.],\n",
              "        [ 0.,  0., 10., ..., 12.,  1.,  0.]]),\n",
              " 'target': array([0, 1, 2, ..., 8, 9, 8]),\n",
              " 'frame': None,\n",
              " 'feature_names': ['pixel_0_0',\n",
              "  'pixel_0_1',\n",
              "  'pixel_0_2',\n",
              "  'pixel_0_3',\n",
              "  'pixel_0_4',\n",
              "  'pixel_0_5',\n",
              "  'pixel_0_6',\n",
              "  'pixel_0_7',\n",
              "  'pixel_1_0',\n",
              "  'pixel_1_1',\n",
              "  'pixel_1_2',\n",
              "  'pixel_1_3',\n",
              "  'pixel_1_4',\n",
              "  'pixel_1_5',\n",
              "  'pixel_1_6',\n",
              "  'pixel_1_7',\n",
              "  'pixel_2_0',\n",
              "  'pixel_2_1',\n",
              "  'pixel_2_2',\n",
              "  'pixel_2_3',\n",
              "  'pixel_2_4',\n",
              "  'pixel_2_5',\n",
              "  'pixel_2_6',\n",
              "  'pixel_2_7',\n",
              "  'pixel_3_0',\n",
              "  'pixel_3_1',\n",
              "  'pixel_3_2',\n",
              "  'pixel_3_3',\n",
              "  'pixel_3_4',\n",
              "  'pixel_3_5',\n",
              "  'pixel_3_6',\n",
              "  'pixel_3_7',\n",
              "  'pixel_4_0',\n",
              "  'pixel_4_1',\n",
              "  'pixel_4_2',\n",
              "  'pixel_4_3',\n",
              "  'pixel_4_4',\n",
              "  'pixel_4_5',\n",
              "  'pixel_4_6',\n",
              "  'pixel_4_7',\n",
              "  'pixel_5_0',\n",
              "  'pixel_5_1',\n",
              "  'pixel_5_2',\n",
              "  'pixel_5_3',\n",
              "  'pixel_5_4',\n",
              "  'pixel_5_5',\n",
              "  'pixel_5_6',\n",
              "  'pixel_5_7',\n",
              "  'pixel_6_0',\n",
              "  'pixel_6_1',\n",
              "  'pixel_6_2',\n",
              "  'pixel_6_3',\n",
              "  'pixel_6_4',\n",
              "  'pixel_6_5',\n",
              "  'pixel_6_6',\n",
              "  'pixel_6_7',\n",
              "  'pixel_7_0',\n",
              "  'pixel_7_1',\n",
              "  'pixel_7_2',\n",
              "  'pixel_7_3',\n",
              "  'pixel_7_4',\n",
              "  'pixel_7_5',\n",
              "  'pixel_7_6',\n",
              "  'pixel_7_7'],\n",
              " 'target_names': array([0, 1, 2, 3, 4, 5, 6, 7, 8, 9]),\n",
              " 'images': array([[[ 0.,  0.,  5., ...,  1.,  0.,  0.],\n",
              "         [ 0.,  0., 13., ..., 15.,  5.,  0.],\n",
              "         [ 0.,  3., 15., ..., 11.,  8.,  0.],\n",
              "         ...,\n",
              "         [ 0.,  4., 11., ..., 12.,  7.,  0.],\n",
              "         [ 0.,  2., 14., ..., 12.,  0.,  0.],\n",
              "         [ 0.,  0.,  6., ...,  0.,  0.,  0.]],\n",
              " \n",
              "        [[ 0.,  0.,  0., ...,  5.,  0.,  0.],\n",
              "         [ 0.,  0.,  0., ...,  9.,  0.,  0.],\n",
              "         [ 0.,  0.,  3., ...,  6.,  0.,  0.],\n",
              "         ...,\n",
              "         [ 0.,  0.,  1., ...,  6.,  0.,  0.],\n",
              "         [ 0.,  0.,  1., ...,  6.,  0.,  0.],\n",
              "         [ 0.,  0.,  0., ..., 10.,  0.,  0.]],\n",
              " \n",
              "        [[ 0.,  0.,  0., ..., 12.,  0.,  0.],\n",
              "         [ 0.,  0.,  3., ..., 14.,  0.,  0.],\n",
              "         [ 0.,  0.,  8., ..., 16.,  0.,  0.],\n",
              "         ...,\n",
              "         [ 0.,  9., 16., ...,  0.,  0.,  0.],\n",
              "         [ 0.,  3., 13., ..., 11.,  5.,  0.],\n",
              "         [ 0.,  0.,  0., ..., 16.,  9.,  0.]],\n",
              " \n",
              "        ...,\n",
              " \n",
              "        [[ 0.,  0.,  1., ...,  1.,  0.,  0.],\n",
              "         [ 0.,  0., 13., ...,  2.,  1.,  0.],\n",
              "         [ 0.,  0., 16., ..., 16.,  5.,  0.],\n",
              "         ...,\n",
              "         [ 0.,  0., 16., ..., 15.,  0.,  0.],\n",
              "         [ 0.,  0., 15., ..., 16.,  0.,  0.],\n",
              "         [ 0.,  0.,  2., ...,  6.,  0.,  0.]],\n",
              " \n",
              "        [[ 0.,  0.,  2., ...,  0.,  0.,  0.],\n",
              "         [ 0.,  0., 14., ..., 15.,  1.,  0.],\n",
              "         [ 0.,  4., 16., ..., 16.,  7.,  0.],\n",
              "         ...,\n",
              "         [ 0.,  0.,  0., ..., 16.,  2.,  0.],\n",
              "         [ 0.,  0.,  4., ..., 16.,  2.,  0.],\n",
              "         [ 0.,  0.,  5., ..., 12.,  0.,  0.]],\n",
              " \n",
              "        [[ 0.,  0., 10., ...,  1.,  0.,  0.],\n",
              "         [ 0.,  2., 16., ...,  1.,  0.,  0.],\n",
              "         [ 0.,  0., 15., ..., 15.,  0.,  0.],\n",
              "         ...,\n",
              "         [ 0.,  4., 16., ..., 16.,  6.,  0.],\n",
              "         [ 0.,  8., 16., ..., 16.,  8.,  0.],\n",
              "         [ 0.,  1.,  8., ..., 12.,  1.,  0.]]]),\n",
              " 'DESCR': \".. _digits_dataset:\\n\\nOptical recognition of handwritten digits dataset\\n--------------------------------------------------\\n\\n**Data Set Characteristics:**\\n\\n    :Number of Instances: 1797\\n    :Number of Attributes: 64\\n    :Attribute Information: 8x8 image of integer pixels in the range 0..16.\\n    :Missing Attribute Values: None\\n    :Creator: E. Alpaydin (alpaydin '@' boun.edu.tr)\\n    :Date: July; 1998\\n\\nThis is a copy of the test set of the UCI ML hand-written digits datasets\\nhttps://archive.ics.uci.edu/ml/datasets/Optical+Recognition+of+Handwritten+Digits\\n\\nThe data set contains images of hand-written digits: 10 classes where\\neach class refers to a digit.\\n\\nPreprocessing programs made available by NIST were used to extract\\nnormalized bitmaps of handwritten digits from a preprinted form. From a\\ntotal of 43 people, 30 contributed to the training set and different 13\\nto the test set. 32x32 bitmaps are divided into nonoverlapping blocks of\\n4x4 and the number of on pixels are counted in each block. This generates\\nan input matrix of 8x8 where each element is an integer in the range\\n0..16. This reduces dimensionality and gives invariance to small\\ndistortions.\\n\\nFor info on NIST preprocessing routines, see M. D. Garris, J. L. Blue, G.\\nT. Candela, D. L. Dimmick, J. Geist, P. J. Grother, S. A. Janet, and C.\\nL. Wilson, NIST Form-Based Handprint Recognition System, NISTIR 5469,\\n1994.\\n\\n.. topic:: References\\n\\n  - C. Kaynak (1995) Methods of Combining Multiple Classifiers and Their\\n    Applications to Handwritten Digit Recognition, MSc Thesis, Institute of\\n    Graduate Studies in Science and Engineering, Bogazici University.\\n  - E. Alpaydin, C. Kaynak (1998) Cascading Classifiers, Kybernetika.\\n  - Ken Tang and Ponnuthurai N. Suganthan and Xi Yao and A. Kai Qin.\\n    Linear dimensionalityreduction using relevance weighted LDA. School of\\n    Electrical and Electronic Engineering Nanyang Technological University.\\n    2005.\\n  - Claudio Gentile. A New Approximate Maximal Margin Classification\\n    Algorithm. NIPS. 2000.\\n\"}"
            ]
          },
          "metadata": {},
          "execution_count": 2
        }
      ]
    },
    {
      "cell_type": "code",
      "source": [
        "ind = 28\n",
        "plt.gray()\n",
        "plt.matshow(digits.images[ind])\n",
        "print(digits.target[ind])"
      ],
      "metadata": {
        "colab": {
          "base_uri": "https://localhost:8080/",
          "height": 310
        },
        "id": "f2Apy5kPWkY_",
        "outputId": "27c52cf1-4ac5-4e8f-ed0e-afb0c7ade795"
      },
      "execution_count": 3,
      "outputs": [
        {
          "output_type": "stream",
          "name": "stdout",
          "text": [
            "8\n"
          ]
        },
        {
          "output_type": "display_data",
          "data": {
            "text/plain": [
              "<Figure size 432x288 with 0 Axes>"
            ]
          },
          "metadata": {}
        },
        {
          "output_type": "display_data",
          "data": {
            "text/plain": [
              "<Figure size 288x288 with 1 Axes>"
            ],
            "image/png": "[encoded data removed]"
          },
          "metadata": {
            "needs_background": "light"
          }
        }
      ]
    },
    {
      "cell_type": "markdown",
      "source": [
        "##  Quiz 3 march\n",
        "\n",
        "1.   แบ่ง data ออกเป็น 80train 20 test โดยใช้ random_state = 9\n",
        "2.   หา parameters ที่ดีที่สุด (K (1,3,5))distance_weighted(yes/no) ด้วย 10-fold-cross-valkidation\n",
        "3. test parameters ที่ดีที่สุดกับ test data\n",
        "\n"
      ],
      "metadata": {
        "id": "FZIvajSIXM1S"
      }
    },
    {
      "cell_type": "markdown",
      "source": [
        "## 1 set test set train"
      ],
      "metadata": {
        "id": "r1LUKbkLbMWk"
      }
    },
    {
      "cell_type": "code",
      "source": [
        "from sklearn.datasets import load_digits\n",
        "from sklearn.model_selection import train_test_split\n",
        "\n",
        "# Load the digits dataset\n",
        "digits = load_digits()\n",
        "\n",
        "# Split the data into training and testing sets\n",
        "X_train, X_test, y_train, y_test = train_test_split(digits.data, digits.target, test_size=0.2, random_state=2)\n",
        "\n",
        "# Print the shapes of the training and testing sets\n",
        "print(\"Training set shape:\", X_train.shape, y_train.shape)\n",
        "print(\"Testing set shape:\", X_test.shape, y_test.shape)"
      ],
      "metadata": {
        "colab": {
          "base_uri": "https://localhost:8080/"
        },
        "id": "pajQxWsEYeYA",
        "outputId": "4dd92893-3e03-4caf-c9e8-83100dd07a20"
      },
      "execution_count": 4,
      "outputs": [
        {
          "output_type": "stream",
          "name": "stdout",
          "text": [
            "Training set shape: (1437, 64) (1437,)\n",
            "Testing set shape: (360, 64) (360,)\n"
          ]
        }
      ]
    },
    {
      "cell_type": "markdown",
      "source": [
        "## 2 with distance_weighted"
      ],
      "metadata": {
        "id": "CnVmKQFTaCVH"
      }
    },
    {
      "cell_type": "code",
      "source": [
        "from sklearn.datasets import load_digits\n",
        "from sklearn.model_selection import cross_val_score\n",
        "from sklearn.neighbors import KNeighborsClassifier\n",
        "\n",
        "# Load the digits dataset\n",
        "digits = load_digits()\n",
        "\n",
        "# Define the distance-weighted k-NN classifier with different values of k\n",
        "k_values = [1, 3, 5]\n",
        "classifiers = [KNeighborsClassifier(n_neighbors=k, weights='distance') for k in k_values]\n",
        "\n",
        "# Perform 10-fold cross-validation for each classifier\n",
        "for i, clf in enumerate(classifiers):\n",
        "    scores = cross_val_score(clf, X_train, y_train, cv=10)\n",
        "    print(\"K =\", k_values[i], \"Accuracy:\", scores.mean())"
      ],
      "metadata": {
        "colab": {
          "base_uri": "https://localhost:8080/"
        },
        "id": "BsYDUnA1Y9J1",
        "outputId": "725fb625-8b66-43d5-90f2-29e6aa737ef4"
      },
      "execution_count": 5,
      "outputs": [
        {
          "output_type": "stream",
          "name": "stdout",
          "text": [
            "K = 1 Accuracy: 0.985402097902098\n",
            "K = 3 Accuracy: 0.9853875291375293\n",
            "K = 5 Accuracy: 0.9839986402486403\n"
          ]
        }
      ]
    },
    {
      "cell_type": "markdown",
      "source": [
        "### without distance_weighted"
      ],
      "metadata": {
        "id": "V6_ybkmAbDs0"
      }
    },
    {
      "cell_type": "code",
      "source": [
        "from sklearn.neighbors import KNeighborsClassifier\n",
        "\n",
        "# Load the digits dataset\n",
        "digits = load_digits()\n",
        "\n",
        "# Define the k values to use\n",
        "k_values = [1, 3, 5]\n",
        "\n",
        "# Perform 10-fold cross-validation for each value of k\n",
        "for k in k_values:\n",
        "    clf = KNeighborsClassifier(n_neighbors=k, weights='uniform') # uniform โดนสุ่มเท่ากัน\n",
        "    scores = cross_val_score(clf, X_train, y_train, cv=10)\n",
        "    print(\"K =\", k, \"Accuracy:\", scores.mean())"
      ],
      "metadata": {
        "colab": {
          "base_uri": "https://localhost:8080/"
        },
        "id": "8HbyzHV-aBtp",
        "outputId": "763b14f5-4f9d-48bd-d42f-6a58542c8734"
      },
      "execution_count": 6,
      "outputs": [
        {
          "output_type": "stream",
          "name": "stdout",
          "text": [
            "K = 1 Accuracy: 0.985402097902098\n",
            "K = 3 Accuracy: 0.9846882284382286\n",
            "K = 5 Accuracy: 0.982600038850039\n"
          ]
        }
      ]
    },
    {
      "cell_type": "markdown",
      "source": [
        "# เลือก k 3 with distance weighted\n"
      ],
      "metadata": {
        "id": "y8WqaEPfbYta"
      }
    },
    {
      "cell_type": "markdown",
      "source": [
        "test parameters ที่ดีที่สุดกับ test data"
      ],
      "metadata": {
        "id": "jIoahBs0bRXr"
      }
    },
    {
      "cell_type": "code",
      "source": [
        "# Fit a k-NN classifier with k=3 and distance-weighted voting\n",
        "clf = KNeighborsClassifier(n_neighbors=1, weights='distance')\n",
        "clf.fit(X_train, y_train)\n",
        "\n",
        "# Predict the class labels of the test set\n",
        "pred = clf.predict(X_test)\n",
        "\n",
        "# Compute the accuracy of the classifier\n",
        "acc = clf.score(X_test, y_test)"
      ],
      "metadata": {
        "id": "qSbJxjsebVzb"
      },
      "execution_count": 7,
      "outputs": []
    },
    {
      "cell_type": "code",
      "source": [
        "acc"
      ],
      "metadata": {
        "colab": {
          "base_uri": "https://localhost:8080/"
        },
        "id": "ow7SwhN2cJZ6",
        "outputId": "94ff0815-b403-4a42-bdb8-9e25f1646f9c"
      },
      "execution_count": 8,
      "outputs": [
        {
          "output_type": "execute_result",
          "data": {
            "text/plain": [
              "0.9861111111111112"
            ]
          },
          "metadata": {},
          "execution_count": 8
        }
      ]
    },
    {
      "cell_type": "markdown",
      "source": [
        "# เฉลย Quiz 1"
      ],
      "metadata": {
        "id": "Q-pQSl9Kf9Ts"
      }
    },
    {
      "cell_type": "code",
      "source": [
        "from sklearn.model_selection import train_test_split, cross_val_score "
      ],
      "metadata": {
        "id": "7UAEmjxNgD9M"
      },
      "execution_count": 9,
      "outputs": []
    },
    {
      "cell_type": "code",
      "source": [
        "X_train, X_test, y_train, y_test = train_test_split(digits.data, digits.target, test_size=0.2, random_state=2)"
      ],
      "metadata": {
        "id": "WaET4089gL-M"
      },
      "execution_count": 10,
      "outputs": []
    },
    {
      "cell_type": "code",
      "source": [
        "from sklearn.neighbors import KNeighborsClassifier"
      ],
      "metadata": {
        "id": "hYjZo4Isgx2e"
      },
      "execution_count": 11,
      "outputs": []
    },
    {
      "cell_type": "code",
      "source": [
        "# model 1 (K=1, weighted)\n",
        "knn_distance= KNeighborsClassifier(n_neighbors=1, weights='distance')\n",
        "scores = cross_val_score(knn_distance, X_train, y_train, cv=10)\n",
        "print(f'Mean Cross-Validation Score: K1weihted', scores.mean())\n",
        "\n",
        "# model 2 (K=3, weighted)\n",
        "knn_distance= KNeighborsClassifier(n_neighbors=3, weights='distance')\n",
        "scores = cross_val_score(knn_distance, X_train, y_train, cv=10)\n",
        "print(f'Mean Cross-Validation Score:  K3weihted', scores.mean())\n",
        "\n",
        "# model 3 (K=5, weighted)\n",
        "knn_distance= KNeighborsClassifier(n_neighbors=5, weights='distance')\n",
        "scores = cross_val_score(knn_distance, X_train, y_train, cv=10)\n",
        "print(f'Mean Cross-Validation Score:  K5weihted', scores.mean())\n",
        "\n",
        "# model 1 (K=1, weighted)\n",
        "knn_distance= KNeighborsClassifier(n_neighbors=1, weights='uniform')\n",
        "scores = cross_val_score(knn_distance, X_train, y_train, cv=10)\n",
        "print(f'Mean Cross-Validation Score: K1weihted', scores.mean())\n",
        "\n",
        "# model 2 (K=3, weighted)\n",
        "knn_distance= KNeighborsClassifier(n_neighbors=3, weights='uniform')\n",
        "scores = cross_val_score(knn_distance, X_train, y_train, cv=10)\n",
        "print(f'Mean Cross-Validation Score:  K3weihted', scores.mean())\n",
        "\n",
        "# model 3 (K=5, weighted)\n",
        "knn_distance= KNeighborsClassifier(n_neighbors=5, weights='uniform')\n",
        "scores = cross_val_score(knn_distance, X_train, y_train, cv=10)\n",
        "print(f'Mean Cross-Validation Score:  K5weihted', scores.mean())"
      ],
      "metadata": {
        "colab": {
          "base_uri": "https://localhost:8080/"
        },
        "id": "lJ1hY805gRyE",
        "outputId": "838d8561-888f-4dd0-b99d-b3cf30c6739d"
      },
      "execution_count": 12,
      "outputs": [
        {
          "output_type": "stream",
          "name": "stdout",
          "text": [
            "Mean Cross-Validation Score: K1weihted 0.985402097902098\n",
            "Mean Cross-Validation Score:  K3weihted 0.9853875291375293\n",
            "Mean Cross-Validation Score:  K5weihted 0.9839986402486403\n",
            "Mean Cross-Validation Score: K1weihted 0.985402097902098\n",
            "Mean Cross-Validation Score:  K3weihted 0.9846882284382286\n",
            "Mean Cross-Validation Score:  K5weihted 0.982600038850039\n"
          ]
        }
      ]
    },
    {
      "cell_type": "markdown",
      "source": [
        "# Evaluate with test set"
      ],
      "metadata": {
        "id": "EKAJ8twyklBf"
      }
    },
    {
      "cell_type": "code",
      "source": [
        "knn_distance = KNeighborsClassifier(n_neighbors=1, weights='distance')\n",
        "\n",
        "knn_distance.fit(X_train,y_train)\n",
        "\n",
        "y_pred = knn_distance.predict(X_test)"
      ],
      "metadata": {
        "id": "5xU1YPAEj3iP"
      },
      "execution_count": 13,
      "outputs": []
    },
    {
      "cell_type": "code",
      "source": [
        "from sklearn.metrics import accuracy_score\n",
        "\n",
        "# Assume y_true and y_pred are the true and predicted labels, respectively\n",
        "accuracy = accuracy_score(y_test, y_pred)\n",
        "\n",
        "# Print the accuracy score\n",
        "print(\"Accuracy score: \", accuracy)\n"
      ],
      "metadata": {
        "colab": {
          "base_uri": "https://localhost:8080/"
        },
        "id": "ZzqfZuNMkrrJ",
        "outputId": "fa29fe64-4c5b-4da0-801d-188c15bd1f1b"
      },
      "execution_count": 14,
      "outputs": [
        {
          "output_type": "stream",
          "name": "stdout",
          "text": [
            "Accuracy score:  0.9861111111111112\n"
          ]
        }
      ]
    },
    {
      "cell_type": "markdown",
      "source": [
        "#HW 7\n",
        "หา โมเดลที่ดีที่สุด จาก Decision tree ,NaiveBayes,KNN,ANN โดย เปรียบเทียบ อย่างละสอง parameter sets"
      ],
      "metadata": {
        "id": "SFLaPxD1xzyJ"
      }
    },
    {
      "cell_type": "code",
      "source": [
        "from sklearn.datasets import load_digits\n",
        "from sklearn.model_selection import train_test_split\n",
        "from sklearn.tree import DecisionTreeClassifier\n",
        "from sklearn.naive_bayes import GaussianNB\n",
        "from sklearn.neighbors import KNeighborsClassifier\n",
        "from sklearn.neural_network import MLPClassifier\n",
        "from sklearn.metrics import accuracy_score\n",
        "\n",
        "# Load the digits dataset \n",
        "digits = load_digits()\n",
        "# Split the dataset into training and testing sets\n",
        "X_train, X_test, y_train, y_test = train_test_split(digits.data, digits.target, test_size=0.2, random_state=2)"
      ],
      "metadata": {
        "id": "GI56KyFPFTrk"
      },
      "execution_count": 15,
      "outputs": []
    },
    {
      "cell_type": "code",
      "source": [
        "# Decision Tree\n",
        "# define\n",
        "dt1 = DecisionTreeClassifier(max_depth=5,random_state=2) #with max depth = 5\n",
        "dt2 = DecisionTreeClassifier(random_state=2)\n",
        "\n",
        "# Fit a decision tree classifier \n",
        "dt1.fit(X_train, y_train)\n",
        "dt2.fit(X_train, y_train)\n",
        "\n",
        "# Predict the class labels of the test set\n",
        "pred_dt1 = dt1.predict(X_test)\n",
        "pred_dt2 = dt2.predict(X_test)\n",
        "\n",
        "# Compute the accuracy of the classifier\n",
        "acc_dt1 = accuracy_score(y_test, pred_dt1)\n",
        "acc_dt2 = accuracy_score(y_test, pred_dt2)\n",
        "print(\"Decision Tree1 Accuracy:\", acc_dt1)\n",
        "print(\"Decision Tree2 Accuracy:\", acc_dt2)\n",
        "\n",
        "# Naive Bayes\n",
        "# define\n",
        "nb1 = GaussianNB()\n",
        "nb2 = GaussianNB(var_smoothing=0.1)\n",
        "\n",
        "# Fit a Gaussian Naive Bayes classifier\n",
        "nb1.fit(X_train, y_train)\n",
        "nb2.fit(X_train, y_train)\n",
        "\n",
        "# Predict the class labels of the test set\n",
        "pred_nb1 = nb1.predict(X_test)\n",
        "pred_nb2 = nb2.predict(X_test)\n",
        "\n",
        "# Compute the accuracy of the classifier\n",
        "acc_nb1 =  accuracy_score(y_test, pred_nb1)\n",
        "acc_nb2 =  accuracy_score(y_test, pred_nb2)\n",
        "print(\"Naive Bayes1 Accuracy:\", acc_nb1)\n",
        "print(\"Naive Bayes2 Accuracy:\", acc_nb2)\n",
        "\n",
        "# KNN k neighbor nearest\n",
        "# Create a k-NN classifier with k=3 \n",
        "knn1 = KNeighborsClassifier(n_neighbors=3, weights='distance') #distance weighting\n",
        "knn2 = KNeighborsClassifier(n_neighbors=3, weights='uniform') # uniform weighting\n",
        "\n",
        "# Fit the classifier to the training data\n",
        "knn1.fit(X_train, y_train)\n",
        "knn2.fit(X_train, y_train)\n",
        "\n",
        "# Predict the class labels of the test set\n",
        "pred_knn1 = knn1.predict(X_test)\n",
        "pred_knn2 = knn2.predict(X_test)\n",
        "\n",
        "# Compute the accuracy of the k-NN classifier\n",
        "acc_knn1 = accuracy_score(y_test, pred_knn1)\n",
        "acc_knn2 = accuracy_score(y_test, pred_knn2)\n",
        "print(\"KNN1 Accuracy:\", acc_knn1)\n",
        "print(\"KNN2 Accuracy:\", acc_knn2)\n",
        "\n",
        "# ANN Artificial neural network\n",
        "# Create an ANN classifier with one hidden layer of 100 neurons\n",
        "ann1 = MLPClassifier(hidden_layer_sizes=(100,), random_state=2)\n",
        "ann2 = MLPClassifier(hidden_layer_sizes=(100,50), random_state=2)\n",
        "\n",
        "# Fit the classifier to the training data\n",
        "ann1.fit(X_train, y_train)\n",
        "ann2.fit(X_train, y_train)\n",
        "\n",
        "# Predict the class labels of the test set\n",
        "pred_ann1 = ann1.predict(X_test)\n",
        "pred_ann2 = ann2.predict(X_test)\n",
        "\n",
        "# Compute the accuracy of the classifier\n",
        "acc_ann1 = accuracy_score(y_test, pred_ann1)\n",
        "acc_ann2 = accuracy_score(y_test, pred_ann2)\n",
        "print(\"ANN1 Accuracy:\", acc_ann1)\n",
        "print(\"ANN2 Accuracy:\", acc_ann2)"
      ],
      "metadata": {
        "id": "4wUeDVlN20wO",
        "outputId": "fc5c524e-5655-4be3-c2ce-82d0cfae6cfc",
        "colab": {
          "base_uri": "https://localhost:8080/"
        }
      },
      "execution_count": 16,
      "outputs": [
        {
          "output_type": "stream",
          "name": "stdout",
          "text": [
            "Decision Tree1 Accuracy: 0.6666666666666666\n",
            "Decision Tree2 Accuracy: 0.8361111111111111\n",
            "Naive Bayes1 Accuracy: 0.8472222222222222\n",
            "Naive Bayes2 Accuracy: 0.8861111111111111\n",
            "KNN1 Accuracy: 0.9833333333333333\n",
            "KNN2 Accuracy: 0.9861111111111112\n",
            "ANN1 Accuracy: 0.9611111111111111\n",
            "ANN2 Accuracy: 0.9638888888888889\n"
          ]
        }
      ]
    }
  ]
}