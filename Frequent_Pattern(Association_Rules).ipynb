{
  "nbformat": 4,
  "nbformat_minor": 0,
  "metadata": {
    "colab": {
      "provenance": [],
      "authorship_tag": "ABX9TyNrGPvdHDuKUJXEXvbwQTn9",
      "include_colab_link": true
    },
    "kernelspec": {
      "name": "python3",
      "display_name": "Python 3"
    },
    "language_info": {
      "name": "python"
    }
  },
  "cells": [
    {
      "cell_type": "markdown",
      "metadata": {
        "id": "view-in-github",
        "colab_type": "text"
      },
      "source": [
        "<a href=\"https://colab.research.google.com/github/kumoromilee/bsc_dpdm22/blob/main/Frequent_Pattern(Association_Rules).ipynb\" target=\"_parent\"><img src=\"https://colab.research.google.com/assets/colab-badge.svg\" alt=\"Open In Colab\"/></a>"
      ]
    },
    {
      "cell_type": "code",
      "execution_count": 3,
      "metadata": {
        "id": "278MMO3mDrGr"
      },
      "outputs": [],
      "source": [
        "import pandas as pd\n",
        "import os"
      ]
    },
    {
      "cell_type": "code",
      "source": [
        "from google.colab import drive\n",
        "drive.mount('/content/drive')"
      ],
      "metadata": {
        "colab": {
          "base_uri": "https://localhost:8080/"
        },
        "id": "VRu9CyN2D70x",
        "outputId": "b36a31e2-bdff-4fad-9b48-f70726e4b0b9"
      },
      "execution_count": 5,
      "outputs": [
        {
          "output_type": "stream",
          "name": "stdout",
          "text": [
            "Mounted at /content/drive\n"
          ]
        }
      ]
    },
    {
      "cell_type": "code",
      "source": [
        "from google.colab import drive\n",
        "drive.mount('/content/drive')\n",
        "path = '/content/drive/MyDrive/bsc_DPDM_data'"
      ],
      "metadata": {
        "colab": {
          "base_uri": "https://localhost:8080/"
        },
        "id": "lIZZJqXfFUym",
        "outputId": "303c26b4-90c8-4057-9b47-637ea203746c"
      },
      "execution_count": 6,
      "outputs": [
        {
          "output_type": "stream",
          "name": "stdout",
          "text": [
            "Drive already mounted at /content/drive; to attempt to forcibly remount, call drive.mount(\"/content/drive\", force_remount=True).\n"
          ]
        }
      ]
    },
    {
      "cell_type": "code",
      "source": [
        "data = pd.read_csv(os.path.join(path,'reduced_marketbasket.csv'),encoding='latin-1')\n",
        "data"
      ],
      "metadata": {
        "colab": {
          "base_uri": "https://localhost:8080/",
          "height": 423
        },
        "id": "SaBtcFh7D7zK",
        "outputId": "2474a3d4-12ae-47ec-bf58-d0d79a363dc3"
      },
      "execution_count": 8,
      "outputs": [
        {
          "output_type": "execute_result",
          "data": {
            "text/plain": [
              "       InvoiceNo StockCode                          Description  Quantity  \\\n",
              "0         536365    85123A   WHITE HANGING HEART T-LIGHT HOLDER         6   \n",
              "1         536365     71053                  WHITE METAL LANTERN         6   \n",
              "2         536365    84406B       CREAM CUPID HEARTS COAT HANGER         8   \n",
              "3         536365    84029G  KNITTED UNION FLAG HOT WATER BOTTLE         6   \n",
              "4         536365    84029E       RED WOOLLY HOTTIE WHITE HEART.         6   \n",
              "...          ...       ...                                  ...       ...   \n",
              "541904    581587     22613          PACK OF 20 SPACEBOY NAPKINS        12   \n",
              "541905    581587     22899         CHILDREN'S APRON DOLLY GIRL          6   \n",
              "541906    581587     23254        CHILDRENS CUTLERY DOLLY GIRL          4   \n",
              "541907    581587     23255      CHILDRENS CUTLERY CIRCUS PARADE         4   \n",
              "541908    581587     22138        BAKING SET 9 PIECE RETROSPOT          3   \n",
              "\n",
              "             InvoiceDate  UnitPrice  CustomerID         Country  \n",
              "0       12/01/2010 08:26       2.55     17850.0  United Kingdom  \n",
              "1       12/01/2010 08:26       3.39     17850.0  United Kingdom  \n",
              "2       12/01/2010 08:26       2.75     17850.0  United Kingdom  \n",
              "3       12/01/2010 08:26       3.39     17850.0  United Kingdom  \n",
              "4       12/01/2010 08:26       3.39     17850.0  United Kingdom  \n",
              "...                  ...        ...         ...             ...  \n",
              "541904  12/09/2011 12:50       0.85     12680.0          France  \n",
              "541905  12/09/2011 12:50       2.10     12680.0          France  \n",
              "541906  12/09/2011 12:50       4.15     12680.0          France  \n",
              "541907  12/09/2011 12:50       4.15     12680.0          France  \n",
              "541908  12/09/2011 12:50       4.95     12680.0          France  \n",
              "\n",
              "[541909 rows x 8 columns]"
            ],
            "text/html": [
              "\n",
              "  <div id=\"df-b3e4c280-a59a-441b-86d0-297baad2a5f3\">\n",
              "    <div class=\"colab-df-container\">\n",
              "      <div>\n",
              "<style scoped>\n",
              "    .dataframe tbody tr th:only-of-type {\n",
              "        vertical-align: middle;\n",
              "    }\n",
              "\n",
              "    .dataframe tbody tr th {\n",
              "        vertical-align: top;\n",
              "    }\n",
              "\n",
              "    .dataframe thead th {\n",
              "        text-align: right;\n",
              "    }\n",
              "</style>\n",
              "<table border=\"1\" class=\"dataframe\">\n",
              "  <thead>\n",
              "    <tr style=\"text-align: right;\">\n",
              "      <th></th>\n",
              "      <th>InvoiceNo</th>\n",
              "      <th>StockCode</th>\n",
              "      <th>Description</th>\n",
              "      <th>Quantity</th>\n",
              "      <th>InvoiceDate</th>\n",
              "      <th>UnitPrice</th>\n",
              "      <th>CustomerID</th>\n",
              "      <th>Country</th>\n",
              "    </tr>\n",
              "  </thead>\n",
              "  <tbody>\n",
              "    <tr>\n",
              "      <th>0</th>\n",
              "      <td>536365</td>\n",
              "      <td>85123A</td>\n",
              "      <td>WHITE HANGING HEART T-LIGHT HOLDER</td>\n",
              "      <td>6</td>\n",
              "      <td>12/01/2010 08:26</td>\n",
              "      <td>2.55</td>\n",
              "      <td>17850.0</td>\n",
              "      <td>United Kingdom</td>\n",
              "    </tr>\n",
              "    <tr>\n",
              "      <th>1</th>\n",
              "      <td>536365</td>\n",
              "      <td>71053</td>\n",
              "      <td>WHITE METAL LANTERN</td>\n",
              "      <td>6</td>\n",
              "      <td>12/01/2010 08:26</td>\n",
              "      <td>3.39</td>\n",
              "      <td>17850.0</td>\n",
              "      <td>United Kingdom</td>\n",
              "    </tr>\n",
              "    <tr>\n",
              "      <th>2</th>\n",
              "      <td>536365</td>\n",
              "      <td>84406B</td>\n",
              "      <td>CREAM CUPID HEARTS COAT HANGER</td>\n",
              "      <td>8</td>\n",
              "      <td>12/01/2010 08:26</td>\n",
              "      <td>2.75</td>\n",
              "      <td>17850.0</td>\n",
              "      <td>United Kingdom</td>\n",
              "    </tr>\n",
              "    <tr>\n",
              "      <th>3</th>\n",
              "      <td>536365</td>\n",
              "      <td>84029G</td>\n",
              "      <td>KNITTED UNION FLAG HOT WATER BOTTLE</td>\n",
              "      <td>6</td>\n",
              "      <td>12/01/2010 08:26</td>\n",
              "      <td>3.39</td>\n",
              "      <td>17850.0</td>\n",
              "      <td>United Kingdom</td>\n",
              "    </tr>\n",
              "    <tr>\n",
              "      <th>4</th>\n",
              "      <td>536365</td>\n",
              "      <td>84029E</td>\n",
              "      <td>RED WOOLLY HOTTIE WHITE HEART.</td>\n",
              "      <td>6</td>\n",
              "      <td>12/01/2010 08:26</td>\n",
              "      <td>3.39</td>\n",
              "      <td>17850.0</td>\n",
              "      <td>United Kingdom</td>\n",
              "    </tr>\n",
              "    <tr>\n",
              "      <th>...</th>\n",
              "      <td>...</td>\n",
              "      <td>...</td>\n",
              "      <td>...</td>\n",
              "      <td>...</td>\n",
              "      <td>...</td>\n",
              "      <td>...</td>\n",
              "      <td>...</td>\n",
              "      <td>...</td>\n",
              "    </tr>\n",
              "    <tr>\n",
              "      <th>541904</th>\n",
              "      <td>581587</td>\n",
              "      <td>22613</td>\n",
              "      <td>PACK OF 20 SPACEBOY NAPKINS</td>\n",
              "      <td>12</td>\n",
              "      <td>12/09/2011 12:50</td>\n",
              "      <td>0.85</td>\n",
              "      <td>12680.0</td>\n",
              "      <td>France</td>\n",
              "    </tr>\n",
              "    <tr>\n",
              "      <th>541905</th>\n",
              "      <td>581587</td>\n",
              "      <td>22899</td>\n",
              "      <td>CHILDREN'S APRON DOLLY GIRL</td>\n",
              "      <td>6</td>\n",
              "      <td>12/09/2011 12:50</td>\n",
              "      <td>2.10</td>\n",
              "      <td>12680.0</td>\n",
              "      <td>France</td>\n",
              "    </tr>\n",
              "    <tr>\n",
              "      <th>541906</th>\n",
              "      <td>581587</td>\n",
              "      <td>23254</td>\n",
              "      <td>CHILDRENS CUTLERY DOLLY GIRL</td>\n",
              "      <td>4</td>\n",
              "      <td>12/09/2011 12:50</td>\n",
              "      <td>4.15</td>\n",
              "      <td>12680.0</td>\n",
              "      <td>France</td>\n",
              "    </tr>\n",
              "    <tr>\n",
              "      <th>541907</th>\n",
              "      <td>581587</td>\n",
              "      <td>23255</td>\n",
              "      <td>CHILDRENS CUTLERY CIRCUS PARADE</td>\n",
              "      <td>4</td>\n",
              "      <td>12/09/2011 12:50</td>\n",
              "      <td>4.15</td>\n",
              "      <td>12680.0</td>\n",
              "      <td>France</td>\n",
              "    </tr>\n",
              "    <tr>\n",
              "      <th>541908</th>\n",
              "      <td>581587</td>\n",
              "      <td>22138</td>\n",
              "      <td>BAKING SET 9 PIECE RETROSPOT</td>\n",
              "      <td>3</td>\n",
              "      <td>12/09/2011 12:50</td>\n",
              "      <td>4.95</td>\n",
              "      <td>12680.0</td>\n",
              "      <td>France</td>\n",
              "    </tr>\n",
              "  </tbody>\n",
              "</table>\n",
              "<p>541909 rows × 8 columns</p>\n",
              "</div>\n",
              "      <button class=\"colab-df-convert\" onclick=\"convertToInteractive('df-b3e4c280-a59a-441b-86d0-297baad2a5f3')\"\n",
              "              title=\"Convert this dataframe to an interactive table.\"\n",
              "              style=\"display:none;\">\n",
              "        \n",
              "  <svg xmlns=\"http://www.w3.org/2000/svg\" height=\"24px\"viewBox=\"0 0 24 24\"\n",
              "       width=\"24px\">\n",
              "    <path d=\"M0 0h24v24H0V0z\" fill=\"none\"/>\n",
              "    <path d=\"M18.56 5.44l.94 2.06.94-2.06 2.06-.94-2.06-.94-.94-2.06-.94 2.06-2.06.94zm-11 1L8.5 8.5l.94-2.06 2.06-.94-2.06-.94L8.5 2.5l-.94 2.06-2.06.94zm10 10l.94 2.06.94-2.06 2.06-.94-2.06-.94-.94-2.06-.94 2.06-2.06.94z\"/><path d=\"M17.41 7.96l-1.37-1.37c-.4-.4-.92-.59-1.43-.59-.52 0-1.04.2-1.43.59L10.3 9.45l-7.72 7.72c-.78.78-.78 2.05 0 2.83L4 21.41c.39.39.9.59 1.41.59.51 0 1.02-.2 1.41-.59l7.78-7.78 2.81-2.81c.8-.78.8-2.07 0-2.86zM5.41 20L4 18.59l7.72-7.72 1.47 1.35L5.41 20z\"/>\n",
              "  </svg>\n",
              "      </button>\n",
              "      \n",
              "  <style>\n",
              "    .colab-df-container {\n",
              "      display:flex;\n",
              "      flex-wrap:wrap;\n",
              "      gap: 12px;\n",
              "    }\n",
              "\n",
              "    .colab-df-convert {\n",
              "      background-color: #E8F0FE;\n",
              "      border: none;\n",
              "      border-radius: 50%;\n",
              "      cursor: pointer;\n",
              "      display: none;\n",
              "      fill: #1967D2;\n",
              "      height: 32px;\n",
              "      padding: 0 0 0 0;\n",
              "      width: 32px;\n",
              "    }\n",
              "\n",
              "    .colab-df-convert:hover {\n",
              "      background-color: #E2EBFA;\n",
              "      box-shadow: 0px 1px 2px rgba(60, 64, 67, 0.3), 0px 1px 3px 1px rgba(60, 64, 67, 0.15);\n",
              "      fill: #174EA6;\n",
              "    }\n",
              "\n",
              "    [theme=dark] .colab-df-convert {\n",
              "      background-color: #3B4455;\n",
              "      fill: #D2E3FC;\n",
              "    }\n",
              "\n",
              "    [theme=dark] .colab-df-convert:hover {\n",
              "      background-color: #434B5C;\n",
              "      box-shadow: 0px 1px 3px 1px rgba(0, 0, 0, 0.15);\n",
              "      filter: drop-shadow(0px 1px 2px rgba(0, 0, 0, 0.3));\n",
              "      fill: #FFFFFF;\n",
              "    }\n",
              "  </style>\n",
              "\n",
              "      <script>\n",
              "        const buttonEl =\n",
              "          document.querySelector('#df-b3e4c280-a59a-441b-86d0-297baad2a5f3 button.colab-df-convert');\n",
              "        buttonEl.style.display =\n",
              "          google.colab.kernel.accessAllowed ? 'block' : 'none';\n",
              "\n",
              "        async function convertToInteractive(key) {\n",
              "          const element = document.querySelector('#df-b3e4c280-a59a-441b-86d0-297baad2a5f3');\n",
              "          const dataTable =\n",
              "            await google.colab.kernel.invokeFunction('convertToInteractive',\n",
              "                                                     [key], {});\n",
              "          if (!dataTable) return;\n",
              "\n",
              "          const docLinkHtml = 'Like what you see? Visit the ' +\n",
              "            '<a target=\"_blank\" href=https://colab.research.google.com/notebooks/data_table.ipynb>data table notebook</a>'\n",
              "            + ' to learn more about interactive tables.';\n",
              "          element.innerHTML = '';\n",
              "          dataTable['output_type'] = 'display_data';\n",
              "          await google.colab.output.renderOutput(dataTable, element);\n",
              "          const docLink = document.createElement('div');\n",
              "          docLink.innerHTML = docLinkHtml;\n",
              "          element.appendChild(docLink);\n",
              "        }\n",
              "      </script>\n",
              "    </div>\n",
              "  </div>\n",
              "  "
            ]
          },
          "metadata": {},
          "execution_count": 8
        }
      ]
    },
    {
      "cell_type": "code",
      "source": [
        "len(set(data['Country']))"
      ],
      "metadata": {
        "colab": {
          "base_uri": "https://localhost:8080/"
        },
        "id": "DD1A4TAuHA05",
        "outputId": "84f40365-df75-41c4-ca44-564e6fcbd718"
      },
      "execution_count": 9,
      "outputs": [
        {
          "output_type": "execute_result",
          "data": {
            "text/plain": [
              "38"
            ]
          },
          "metadata": {},
          "execution_count": 9
        }
      ]
    },
    {
      "cell_type": "code",
      "source": [
        "(set(data['Country']))"
      ],
      "metadata": {
        "id": "l-owe6MrHbw2",
        "outputId": "86d7d46f-3f6d-4f7f-a643-fef63ac76be6",
        "colab": {
          "base_uri": "https://localhost:8080/"
        }
      },
      "execution_count": 10,
      "outputs": [
        {
          "output_type": "execute_result",
          "data": {
            "text/plain": [
              "{'Australia',\n",
              " 'Austria',\n",
              " 'Bahrain',\n",
              " 'Belgium',\n",
              " 'Brazil',\n",
              " 'Canada',\n",
              " 'Channel Islands',\n",
              " 'Cyprus',\n",
              " 'Czech Republic',\n",
              " 'Denmark',\n",
              " 'EIRE',\n",
              " 'European Community',\n",
              " 'Finland',\n",
              " 'France',\n",
              " 'Germany',\n",
              " 'Greece',\n",
              " 'Hong Kong',\n",
              " 'Iceland',\n",
              " 'Israel',\n",
              " 'Italy',\n",
              " 'Japan',\n",
              " 'Lebanon',\n",
              " 'Lithuania',\n",
              " 'Malta',\n",
              " 'Netherlands',\n",
              " 'Norway',\n",
              " 'Poland',\n",
              " 'Portugal',\n",
              " 'RSA',\n",
              " 'Saudi Arabia',\n",
              " 'Singapore',\n",
              " 'Spain',\n",
              " 'Sweden',\n",
              " 'Switzerland',\n",
              " 'USA',\n",
              " 'United Arab Emirates',\n",
              " 'United Kingdom',\n",
              " 'Unspecified'}"
            ]
          },
          "metadata": {},
          "execution_count": 10
        }
      ]
    },
    {
      "cell_type": "code",
      "source": [
        "data.groupby('InvoiceNo')['StockCode'].apply(list)"
      ],
      "metadata": {
        "colab": {
          "base_uri": "https://localhost:8080/"
        },
        "id": "75VvELE2GWxU",
        "outputId": "5953317c-872b-4db2-ee55-d963deee9b75"
      },
      "execution_count": 11,
      "outputs": [
        {
          "output_type": "execute_result",
          "data": {
            "text/plain": [
              "InvoiceNo\n",
              "536365     [85123A, 71053, 84406B, 84029G, 84029E, 22752,...\n",
              "536366                                        [22633, 22632]\n",
              "536367     [84879, 22745, 22748, 22749, 22310, 84969, 226...\n",
              "536368                          [22960, 22913, 22912, 22914]\n",
              "536369                                               [21756]\n",
              "                                 ...                        \n",
              "C581484                                              [23843]\n",
              "C581490                                       [22178, 23144]\n",
              "C581499                                                  [M]\n",
              "C581568                                              [21258]\n",
              "C581569                                       [84978, 20979]\n",
              "Name: StockCode, Length: 25900, dtype: object"
            ]
          },
          "metadata": {},
          "execution_count": 11
        }
      ]
    },
    {
      "cell_type": "code",
      "source": [
        "transactions = data.groupby('InvoiceNo')['StockCode'].apply(list)"
      ],
      "metadata": {
        "id": "DDJeQjBVfheL"
      },
      "execution_count": 12,
      "outputs": []
    },
    {
      "cell_type": "markdown",
      "source": [
        "#ทำ Association Rules"
      ],
      "metadata": {
        "id": "YhpKCo3mfoj5"
      }
    },
    {
      "cell_type": "code",
      "source": [
        "!pip install apyori"
      ],
      "metadata": {
        "id": "QDtVjlqhfsEN",
        "outputId": "bbf96c68-9170-4566-90cc-c9e3240e04a4",
        "colab": {
          "base_uri": "https://localhost:8080/"
        }
      },
      "execution_count": 13,
      "outputs": [
        {
          "output_type": "stream",
          "name": "stdout",
          "text": [
            "Looking in indexes: https://pypi.org/simple, https://us-python.pkg.dev/colab-wheels/public/simple/\n",
            "Collecting apyori\n",
            "  Downloading apyori-1.1.2.tar.gz (8.6 kB)\n",
            "  Preparing metadata (setup.py) ... \u001b[?25l\u001b[?25hdone\n",
            "Building wheels for collected packages: apyori\n",
            "  Building wheel for apyori (setup.py) ... \u001b[?25l\u001b[?25hdone\n",
            "  Created wheel for apyori: filename=apyori-1.1.2-py3-none-any.whl size=5973 sha256=77524a50a6f94accea3758b837e02de723e6a59ab59a32ea501f85987af2ad67\n",
            "  Stored in directory: /root/.cache/pip/wheels/32/2a/54/10c595515f385f3726642b10c60bf788029e8f3a1323e3913a\n",
            "Successfully built apyori\n",
            "Installing collected packages: apyori\n",
            "Successfully installed apyori-1.1.2\n"
          ]
        }
      ]
    },
    {
      "cell_type": "code",
      "source": [
        "from apyori import apriori"
      ],
      "metadata": {
        "id": "FpIrR9aafy5c"
      },
      "execution_count": 14,
      "outputs": []
    },
    {
      "cell_type": "code",
      "source": [
        "frequentItemsets = list(apriori(transactions,min_support = 0.03)) #มีtransactionทั้งหมดเกิน3% \n",
        "frequentItemsets #แต่ละ itemset จะนำโดยRelationRecord"
      ],
      "metadata": {
        "id": "1Um08B0cf32G",
        "outputId": "7c3ef815-7a4a-4846-8c8b-5b41396381fb",
        "colab": {
          "base_uri": "https://localhost:8080/"
        }
      },
      "execution_count": 30,
      "outputs": [
        {
          "output_type": "execute_result",
          "data": {
            "text/plain": [
              "[RelationRecord(items=frozenset({'20712'}), support=0.033667953667953665, ordered_statistics=[OrderedStatistic(items_base=frozenset(), items_add=frozenset({'20712'}), confidence=0.033667953667953665, lift=1.0)]),\n",
              " RelationRecord(items=frozenset({'20719'}), support=0.03254826254826255, ordered_statistics=[OrderedStatistic(items_base=frozenset(), items_add=frozenset({'20719'}), confidence=0.03254826254826255, lift=1.0)]),\n",
              " RelationRecord(items=frozenset({'20724'}), support=0.04054054054054054, ordered_statistics=[OrderedStatistic(items_base=frozenset(), items_add=frozenset({'20724'}), confidence=0.04054054054054054, lift=1.0)]),\n",
              " RelationRecord(items=frozenset({'20725'}), support=0.062084942084942085, ordered_statistics=[OrderedStatistic(items_base=frozenset(), items_add=frozenset({'20725'}), confidence=0.062084942084942085, lift=1.0)]),\n",
              " RelationRecord(items=frozenset({'20726'}), support=0.04003861003861004, ordered_statistics=[OrderedStatistic(items_base=frozenset(), items_add=frozenset({'20726'}), confidence=0.04003861003861004, lift=1.0)]),\n",
              " RelationRecord(items=frozenset({'20727'}), support=0.05, ordered_statistics=[OrderedStatistic(items_base=frozenset(), items_add=frozenset({'20727'}), confidence=0.05, lift=1.0)]),\n",
              " RelationRecord(items=frozenset({'20728'}), support=0.04528957528957529, ordered_statistics=[OrderedStatistic(items_base=frozenset(), items_add=frozenset({'20728'}), confidence=0.04528957528957529, lift=1.0)]),\n",
              " RelationRecord(items=frozenset({'20914'}), support=0.03528957528957529, ordered_statistics=[OrderedStatistic(items_base=frozenset(), items_add=frozenset({'20914'}), confidence=0.03528957528957529, lift=1.0)]),\n",
              " RelationRecord(items=frozenset({'21034'}), support=0.033745173745173745, ordered_statistics=[OrderedStatistic(items_base=frozenset(), items_add=frozenset({'21034'}), confidence=0.033745173745173745, lift=1.0)]),\n",
              " RelationRecord(items=frozenset({'21080'}), support=0.03814671814671815, ordered_statistics=[OrderedStatistic(items_base=frozenset(), items_add=frozenset({'21080'}), confidence=0.03814671814671815, lift=1.0)]),\n",
              " RelationRecord(items=frozenset({'21175'}), support=0.031544401544401544, ordered_statistics=[OrderedStatistic(items_base=frozenset(), items_add=frozenset({'21175'}), confidence=0.031544401544401544, lift=1.0)]),\n",
              " RelationRecord(items=frozenset({'21181'}), support=0.033281853281853284, ordered_statistics=[OrderedStatistic(items_base=frozenset(), items_add=frozenset({'21181'}), confidence=0.033281853281853284, lift=1.0)]),\n",
              " RelationRecord(items=frozenset({'21212'}), support=0.05150579150579151, ordered_statistics=[OrderedStatistic(items_base=frozenset(), items_add=frozenset({'21212'}), confidence=0.05150579150579151, lift=1.0)]),\n",
              " RelationRecord(items=frozenset({'21232'}), support=0.03428571428571429, ordered_statistics=[OrderedStatistic(items_base=frozenset(), items_add=frozenset({'21232'}), confidence=0.03428571428571429, lift=1.0)]),\n",
              " RelationRecord(items=frozenset({'21731'}), support=0.033243243243243244, ordered_statistics=[OrderedStatistic(items_base=frozenset(), items_add=frozenset({'21731'}), confidence=0.033243243243243244, lift=1.0)]),\n",
              " RelationRecord(items=frozenset({'21754'}), support=0.030386100386100387, ordered_statistics=[OrderedStatistic(items_base=frozenset(), items_add=frozenset({'21754'}), confidence=0.030386100386100387, lift=1.0)]),\n",
              " RelationRecord(items=frozenset({'21790'}), support=0.035868725868725866, ordered_statistics=[OrderedStatistic(items_base=frozenset(), items_add=frozenset({'21790'}), confidence=0.035868725868725866, lift=1.0)]),\n",
              " RelationRecord(items=frozenset({'21928'}), support=0.031505791505791504, ordered_statistics=[OrderedStatistic(items_base=frozenset(), items_add=frozenset({'21928'}), confidence=0.031505791505791504, lift=1.0)]),\n",
              " RelationRecord(items=frozenset({'21929'}), support=0.03386100386100386, ordered_statistics=[OrderedStatistic(items_base=frozenset(), items_add=frozenset({'21929'}), confidence=0.03386100386100386, lift=1.0)]),\n",
              " RelationRecord(items=frozenset({'21931'}), support=0.04637065637065637, ordered_statistics=[OrderedStatistic(items_base=frozenset(), items_add=frozenset({'21931'}), confidence=0.04637065637065637, lift=1.0)]),\n",
              " RelationRecord(items=frozenset({'21977'}), support=0.033783783783783786, ordered_statistics=[OrderedStatistic(items_base=frozenset(), items_add=frozenset({'21977'}), confidence=0.033783783783783786, lift=1.0)]),\n",
              " RelationRecord(items=frozenset({'22077'}), support=0.037104247104247104, ordered_statistics=[OrderedStatistic(items_base=frozenset(), items_add=frozenset({'22077'}), confidence=0.037104247104247104, lift=1.0)]),\n",
              " RelationRecord(items=frozenset({'22086'}), support=0.04517374517374517, ordered_statistics=[OrderedStatistic(items_base=frozenset(), items_add=frozenset({'22086'}), confidence=0.04517374517374517, lift=1.0)]),\n",
              " RelationRecord(items=frozenset({'22090'}), support=0.03111969111969112, ordered_statistics=[OrderedStatistic(items_base=frozenset(), items_add=frozenset({'22090'}), confidence=0.03111969111969112, lift=1.0)]),\n",
              " RelationRecord(items=frozenset({'22111'}), support=0.03003861003861004, ordered_statistics=[OrderedStatistic(items_base=frozenset(), items_add=frozenset({'22111'}), confidence=0.03003861003861004, lift=1.0)]),\n",
              " RelationRecord(items=frozenset({'22112'}), support=0.03343629343629344, ordered_statistics=[OrderedStatistic(items_base=frozenset(), items_add=frozenset({'22112'}), confidence=0.03343629343629344, lift=1.0)]),\n",
              " RelationRecord(items=frozenset({'22138'}), support=0.037104247104247104, ordered_statistics=[OrderedStatistic(items_base=frozenset(), items_add=frozenset({'22138'}), confidence=0.037104247104247104, lift=1.0)]),\n",
              " RelationRecord(items=frozenset({'22139'}), support=0.037953667953667954, ordered_statistics=[OrderedStatistic(items_base=frozenset(), items_add=frozenset({'22139'}), confidence=0.037953667953667954, lift=1.0)]),\n",
              " RelationRecord(items=frozenset({'22178'}), support=0.041003861003861004, ordered_statistics=[OrderedStatistic(items_base=frozenset(), items_add=frozenset({'22178'}), confidence=0.041003861003861004, lift=1.0)]),\n",
              " RelationRecord(items=frozenset({'22197'}), support=0.055675675675675676, ordered_statistics=[OrderedStatistic(items_base=frozenset(), items_add=frozenset({'22197'}), confidence=0.055675675675675676, lift=1.0)]),\n",
              " RelationRecord(items=frozenset({'22355'}), support=0.034555984555984555, ordered_statistics=[OrderedStatistic(items_base=frozenset(), items_add=frozenset({'22355'}), confidence=0.034555984555984555, lift=1.0)]),\n",
              " RelationRecord(items=frozenset({'22382'}), support=0.04517374517374517, ordered_statistics=[OrderedStatistic(items_base=frozenset(), items_add=frozenset({'22382'}), confidence=0.04517374517374517, lift=1.0)]),\n",
              " RelationRecord(items=frozenset({'22383'}), support=0.050424710424710424, ordered_statistics=[OrderedStatistic(items_base=frozenset(), items_add=frozenset({'22383'}), confidence=0.050424710424710424, lift=1.0)]),\n",
              " RelationRecord(items=frozenset({'22384'}), support=0.04285714285714286, ordered_statistics=[OrderedStatistic(items_base=frozenset(), items_add=frozenset({'22384'}), confidence=0.04285714285714286, lift=1.0)]),\n",
              " RelationRecord(items=frozenset({'22386'}), support=0.04752895752895753, ordered_statistics=[OrderedStatistic(items_base=frozenset(), items_add=frozenset({'22386'}), confidence=0.04752895752895753, lift=1.0)]),\n",
              " RelationRecord(items=frozenset({'22411'}), support=0.04583011583011583, ordered_statistics=[OrderedStatistic(items_base=frozenset(), items_add=frozenset({'22411'}), confidence=0.04583011583011583, lift=1.0)]),\n",
              " RelationRecord(items=frozenset({'22423'}), support=0.08386100386100385, ordered_statistics=[OrderedStatistic(items_base=frozenset(), items_add=frozenset({'22423'}), confidence=0.08386100386100385, lift=1.0)]),\n",
              " RelationRecord(items=frozenset({'22457'}), support=0.04888030888030888, ordered_statistics=[OrderedStatistic(items_base=frozenset(), items_add=frozenset({'22457'}), confidence=0.04888030888030888, lift=1.0)]),\n",
              " RelationRecord(items=frozenset({'22469'}), support=0.04687258687258687, ordered_statistics=[OrderedStatistic(items_base=frozenset(), items_add=frozenset({'22469'}), confidence=0.04687258687258687, lift=1.0)]),\n",
              " RelationRecord(items=frozenset({'22470'}), support=0.03644787644787645, ordered_statistics=[OrderedStatistic(items_base=frozenset(), items_add=frozenset({'22470'}), confidence=0.03644787644787645, lift=1.0)]),\n",
              " RelationRecord(items=frozenset({'22558'}), support=0.030231660231660233, ordered_statistics=[OrderedStatistic(items_base=frozenset(), items_add=frozenset({'22558'}), confidence=0.030231660231660233, lift=1.0)]),\n",
              " RelationRecord(items=frozenset({'22629'}), support=0.03505791505791506, ordered_statistics=[OrderedStatistic(items_base=frozenset(), items_add=frozenset({'22629'}), confidence=0.03505791505791506, lift=1.0)]),\n",
              " RelationRecord(items=frozenset({'22630'}), support=0.033204633204633204, ordered_statistics=[OrderedStatistic(items_base=frozenset(), items_add=frozenset({'22630'}), confidence=0.033204633204633204, lift=1.0)]),\n",
              " RelationRecord(items=frozenset({'22666'}), support=0.044942084942084945, ordered_statistics=[OrderedStatistic(items_base=frozenset(), items_add=frozenset({'22666'}), confidence=0.044942084942084945, lift=1.0)]),\n",
              " RelationRecord(items=frozenset({'22697'}), support=0.04081081081081081, ordered_statistics=[OrderedStatistic(items_base=frozenset(), items_add=frozenset({'22697'}), confidence=0.04081081081081081, lift=1.0)]),\n",
              " RelationRecord(items=frozenset({'22698'}), support=0.030965250965250966, ordered_statistics=[OrderedStatistic(items_base=frozenset(), items_add=frozenset({'22698'}), confidence=0.030965250965250966, lift=1.0)]),\n",
              " RelationRecord(items=frozenset({'22699'}), support=0.043243243243243246, ordered_statistics=[OrderedStatistic(items_base=frozenset(), items_add=frozenset({'22699'}), confidence=0.043243243243243246, lift=1.0)]),\n",
              " RelationRecord(items=frozenset({'22720'}), support=0.056447876447876445, ordered_statistics=[OrderedStatistic(items_base=frozenset(), items_add=frozenset({'22720'}), confidence=0.056447876447876445, lift=1.0)]),\n",
              " RelationRecord(items=frozenset({'22722'}), support=0.03274131274131274, ordered_statistics=[OrderedStatistic(items_base=frozenset(), items_add=frozenset({'22722'}), confidence=0.03274131274131274, lift=1.0)]),\n",
              " RelationRecord(items=frozenset({'22726'}), support=0.03872586872586872, ordered_statistics=[OrderedStatistic(items_base=frozenset(), items_add=frozenset({'22726'}), confidence=0.03872586872586872, lift=1.0)]),\n",
              " RelationRecord(items=frozenset({'22727'}), support=0.04173745173745174, ordered_statistics=[OrderedStatistic(items_base=frozenset(), items_add=frozenset({'22727'}), confidence=0.04173745173745174, lift=1.0)]),\n",
              " RelationRecord(items=frozenset({'22728'}), support=0.03084942084942085, ordered_statistics=[OrderedStatistic(items_base=frozenset(), items_add=frozenset({'22728'}), confidence=0.03084942084942085, lift=1.0)]),\n",
              " RelationRecord(items=frozenset({'22910'}), support=0.032123552123552127, ordered_statistics=[OrderedStatistic(items_base=frozenset(), items_add=frozenset({'22910'}), confidence=0.032123552123552127, lift=1.0)]),\n",
              " RelationRecord(items=frozenset({'22960'}), support=0.047104247104247106, ordered_statistics=[OrderedStatistic(items_base=frozenset(), items_add=frozenset({'22960'}), confidence=0.047104247104247106, lift=1.0)]),\n",
              " RelationRecord(items=frozenset({'22961'}), support=0.045328185328185326, ordered_statistics=[OrderedStatistic(items_base=frozenset(), items_add=frozenset({'22961'}), confidence=0.045328185328185326, lift=1.0)]),\n",
              " RelationRecord(items=frozenset({'22993'}), support=0.041776061776061774, ordered_statistics=[OrderedStatistic(items_base=frozenset(), items_add=frozenset({'22993'}), confidence=0.041776061776061774, lift=1.0)]),\n",
              " RelationRecord(items=frozenset({'23084'}), support=0.03957528957528957, ordered_statistics=[OrderedStatistic(items_base=frozenset(), items_add=frozenset({'23084'}), confidence=0.03957528957528957, lift=1.0)]),\n",
              " RelationRecord(items=frozenset({'23199'}), support=0.03857142857142857, ordered_statistics=[OrderedStatistic(items_base=frozenset(), items_add=frozenset({'23199'}), confidence=0.03857142857142857, lift=1.0)]),\n",
              " RelationRecord(items=frozenset({'23201'}), support=0.03552123552123552, ordered_statistics=[OrderedStatistic(items_base=frozenset(), items_add=frozenset({'23201'}), confidence=0.03552123552123552, lift=1.0)]),\n",
              " RelationRecord(items=frozenset({'23202'}), support=0.03420849420849421, ordered_statistics=[OrderedStatistic(items_base=frozenset(), items_add=frozenset({'23202'}), confidence=0.03420849420849421, lift=1.0)]),\n",
              " RelationRecord(items=frozenset({'23203'}), support=0.04822393822393822, ordered_statistics=[OrderedStatistic(items_base=frozenset(), items_add=frozenset({'23203'}), confidence=0.04822393822393822, lift=1.0)]),\n",
              " RelationRecord(items=frozenset({'23206'}), support=0.0405019305019305, ordered_statistics=[OrderedStatistic(items_base=frozenset(), items_add=frozenset({'23206'}), confidence=0.0405019305019305, lift=1.0)]),\n",
              " RelationRecord(items=frozenset({'23209'}), support=0.04285714285714286, ordered_statistics=[OrderedStatistic(items_base=frozenset(), items_add=frozenset({'23209'}), confidence=0.04285714285714286, lift=1.0)]),\n",
              " RelationRecord(items=frozenset({'23245'}), support=0.03513513513513514, ordered_statistics=[OrderedStatistic(items_base=frozenset(), items_add=frozenset({'23245'}), confidence=0.03513513513513514, lift=1.0)]),\n",
              " RelationRecord(items=frozenset({'23298'}), support=0.04474903474903475, ordered_statistics=[OrderedStatistic(items_base=frozenset(), items_add=frozenset({'23298'}), confidence=0.04474903474903475, lift=1.0)]),\n",
              " RelationRecord(items=frozenset({'23301'}), support=0.03567567567567568, ordered_statistics=[OrderedStatistic(items_base=frozenset(), items_add=frozenset({'23301'}), confidence=0.03567567567567568, lift=1.0)]),\n",
              " RelationRecord(items=frozenset({'23355'}), support=0.0305019305019305, ordered_statistics=[OrderedStatistic(items_base=frozenset(), items_add=frozenset({'23355'}), confidence=0.0305019305019305, lift=1.0)]),\n",
              " RelationRecord(items=frozenset({'47566'}), support=0.06586872586872587, ordered_statistics=[OrderedStatistic(items_base=frozenset(), items_add=frozenset({'47566'}), confidence=0.06586872586872587, lift=1.0)]),\n",
              " RelationRecord(items=frozenset({'82482'}), support=0.043166023166023165, ordered_statistics=[OrderedStatistic(items_base=frozenset(), items_add=frozenset({'82482'}), confidence=0.043166023166023165, lift=1.0)]),\n",
              " RelationRecord(items=frozenset({'82494L'}), support=0.03594594594594595, ordered_statistics=[OrderedStatistic(items_base=frozenset(), items_add=frozenset({'82494L'}), confidence=0.03594594594594595, lift=1.0)]),\n",
              " RelationRecord(items=frozenset({'84879'}), support=0.05667953667953668, ordered_statistics=[OrderedStatistic(items_base=frozenset(), items_add=frozenset({'84879'}), confidence=0.05667953667953668, lift=1.0)]),\n",
              " RelationRecord(items=frozenset({'84946'}), support=0.03598455598455599, ordered_statistics=[OrderedStatistic(items_base=frozenset(), items_add=frozenset({'84946'}), confidence=0.03598455598455599, lift=1.0)]),\n",
              " RelationRecord(items=frozenset({'84991'}), support=0.03227799227799228, ordered_statistics=[OrderedStatistic(items_base=frozenset(), items_add=frozenset({'84991'}), confidence=0.03227799227799228, lift=1.0)]),\n",
              " RelationRecord(items=frozenset({'85099B'}), support=0.08243243243243244, ordered_statistics=[OrderedStatistic(items_base=frozenset(), items_add=frozenset({'85099B'}), confidence=0.08243243243243244, lift=1.0)]),\n",
              " RelationRecord(items=frozenset({'85099C'}), support=0.03656370656370656, ordered_statistics=[OrderedStatistic(items_base=frozenset(), items_add=frozenset({'85099C'}), confidence=0.03656370656370656, lift=1.0)]),\n",
              " RelationRecord(items=frozenset({'85099F'}), support=0.032046332046332046, ordered_statistics=[OrderedStatistic(items_base=frozenset(), items_add=frozenset({'85099F'}), confidence=0.032046332046332046, lift=1.0)]),\n",
              " RelationRecord(items=frozenset({'85123A'}), support=0.08671814671814672, ordered_statistics=[OrderedStatistic(items_base=frozenset(), items_add=frozenset({'85123A'}), confidence=0.08671814671814672, lift=1.0)]),\n",
              " RelationRecord(items=frozenset({'POST'}), support=0.04841698841698842, ordered_statistics=[OrderedStatistic(items_base=frozenset(), items_add=frozenset({'POST'}), confidence=0.04841698841698842, lift=1.0)]),\n",
              " RelationRecord(items=frozenset({'85099B', '22386'}), support=0.03216216216216216, ordered_statistics=[OrderedStatistic(items_base=frozenset(), items_add=frozenset({'85099B', '22386'}), confidence=0.03216216216216216, lift=1.0), OrderedStatistic(items_base=frozenset({'22386'}), items_add=frozenset({'85099B'}), confidence=0.6766856214459789, lift=8.20897311262335), OrderedStatistic(items_base=frozenset({'85099B'}), items_add=frozenset({'22386'}), confidence=0.39016393442622943, lift=8.20897311262335)]),\n",
              " RelationRecord(items=frozenset({'22699', '22697'}), support=0.03027027027027027, ordered_statistics=[OrderedStatistic(items_base=frozenset(), items_add=frozenset({'22699', '22697'}), confidence=0.03027027027027027, lift=1.0), OrderedStatistic(items_base=frozenset({'22697'}), items_add=frozenset({'22699'}), confidence=0.7417218543046358, lift=17.1523178807947), OrderedStatistic(items_base=frozenset({'22699'}), items_add=frozenset({'22697'}), confidence=0.7, lift=17.1523178807947)])]"
            ]
          },
          "metadata": {},
          "execution_count": 30
        }
      ]
    },
    {
      "cell_type": "code",
      "source": [
        "#itemที่มีคนซื้อเยอะที่สุด \n",
        "#85123A\n",
        "data[data['StockCode'] =='85123A']"
      ],
      "metadata": {
        "id": "X_JjlVxHgo1F"
      },
      "execution_count": null,
      "outputs": []
    },
    {
      "cell_type": "code",
      "source": [
        "frequentItemsets[-1]"
      ],
      "metadata": {
        "id": "D2XbyHIxicqf",
        "outputId": "c7363be3-e820-4f33-fd01-61285fad39a2",
        "colab": {
          "base_uri": "https://localhost:8080/"
        }
      },
      "execution_count": 26,
      "outputs": [
        {
          "output_type": "execute_result",
          "data": {
            "text/plain": [
              "RelationRecord(items=frozenset({'22699', '22697'}), support=0.03027027027027027, ordered_statistics=[OrderedStatistic(items_base=frozenset(), items_add=frozenset({'22699', '22697'}), confidence=0.03027027027027027, lift=1.0), OrderedStatistic(items_base=frozenset({'22697'}), items_add=frozenset({'22699'}), confidence=0.7417218543046358, lift=17.1523178807947), OrderedStatistic(items_base=frozenset({'22699'}), items_add=frozenset({'22697'}), confidence=0.7, lift=17.1523178807947)])"
            ]
          },
          "metadata": {},
          "execution_count": 26
        }
      ]
    },
    {
      "cell_type": "markdown",
      "source": [
        "Note\n",
        "items=frozenset หาว่ามี confident เท่าไหร่\n"
      ],
      "metadata": {
        "id": "ZGWFo45yiqx4"
      }
    },
    {
      "cell_type": "code",
      "source": [
        "frequentItemsets = list(apriori(transactions,min_support = 0.01)) #มีtransactionทั้งหมดเกิน1% \n",
        "frequentItemsets "
      ],
      "metadata": {
        "id": "Ct1Jy_2ej0Cc"
      },
      "execution_count": null,
      "outputs": []
    },
    {
      "cell_type": "code",
      "source": [
        "data[data['StockCode'] =='22469']"
      ],
      "metadata": {
        "id": "vxy5He4Mjg8F"
      },
      "execution_count": null,
      "outputs": []
    },
    {
      "cell_type": "markdown",
      "source": [
        "#เก็บตัวแปรมา 2 ตัว\n",
        "\n",
        "\n",
        "*   เก็บ 2 itemset\n",
        "*   เก็บ 3 itemset\n",
        "\n"
      ],
      "metadata": {
        "id": "PYdpeNbdkug_"
      }
    },
    {
      "cell_type": "code",
      "source": [
        "frequentItemsets = list(apriori(transactions,min_support = 0.015))  \n",
        "frequentItemsets "
      ],
      "metadata": {
        "id": "G8Wa_PVRlOPS"
      },
      "execution_count": null,
      "outputs": []
    },
    {
      "cell_type": "code",
      "source": [
        "# เก็บ 2-itemset\n",
        "two_itemset = []\n",
        "for itemset in frequentItemsets:\n",
        "    if len(itemset.items) == 2:\n",
        "        two_itemset.append(itemset)\n",
        "\n",
        "# เก็บ 3-itemset\n",
        "three_itemset = []\n",
        "for itemset in frequentItemsets:\n",
        "    if len(itemset.items) == 3:\n",
        "        three_itemset.append(itemset)"
      ],
      "metadata": {
        "id": "2OGOS9K8o6xl"
      },
      "execution_count": 32,
      "outputs": []
    },
    {
      "cell_type": "code",
      "source": [
        "two_itemset"
      ],
      "metadata": {
        "id": "QjJ_d0ENpCXw"
      },
      "execution_count": null,
      "outputs": []
    },
    {
      "cell_type": "code",
      "source": [
        "three_itemset"
      ],
      "metadata": {
        "id": "gpI-s72spTqA"
      },
      "execution_count": null,
      "outputs": []
    }
  ]
}