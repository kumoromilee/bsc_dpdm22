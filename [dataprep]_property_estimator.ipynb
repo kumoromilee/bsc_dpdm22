{
  "nbformat": 4,
  "nbformat_minor": 0,
  "metadata": {
    "colab": {
      "provenance": [],
      "toc_visible": true,
      "authorship_tag": "ABX9TyPPuv5cdRVLzsejKocdJ42q",
      "include_colab_link": true
    },
    "kernelspec": {
      "name": "python3",
      "display_name": "Python 3"
    },
    "language_info": {
      "name": "python"
    }
  },
  "cells": [
    {
      "cell_type": "markdown",
      "metadata": {
        "id": "view-in-github",
        "colab_type": "text"
      },
      "source": [
        "<a href=\"https://colab.research.google.com/github/kumoromilee/bsc_dpdm22/blob/main/%5Bdataprep%5D_property_estimator.ipynb\" target=\"_parent\"><img src=\"https://colab.research.google.com/assets/colab-badge.svg\" alt=\"Open In Colab\"/></a>"
      ]
    },
    {
      "cell_type": "markdown",
      "source": [
        "##สรุปข้อมูลของนักประเมินแต่ละคน โดยพิจารณาจาก ความมั่นใจในการประเมิน ประะเมินราคาซื้อ-ขาย ให้คะแนนทรัพย์\n",
        "\n"
      ],
      "metadata": {
        "id": "hhrzYPsuXXIK"
      }
    },
    {
      "cell_type": "code",
      "source": [
        "\n",
        "import pandas as pd"
      ],
      "metadata": {
        "id": "XgIahZfFVhAI"
      },
      "execution_count": null,
      "outputs": []
    },
    {
      "cell_type": "code",
      "source": [
        "\n",
        "from google.colab import drive\n",
        "drive.mount('/content/drive')"
      ],
      "metadata": {
        "colab": {
          "base_uri": "https://localhost:8080/"
        },
        "id": "1fN0um9qViJp",
        "outputId": "2e46bef9-ef9d-40b1-b5ef-3858164cba49"
      },
      "execution_count": null,
      "outputs": [
        {
          "output_type": "stream",
          "name": "stdout",
          "text": [
            "Mounted at /content/drive\n"
          ]
        }
      ]
    },
    {
      "cell_type": "code",
      "source": [
        "home= pd.read_excel ('/content/drive/MyDrive/data/คำตอบนักประเมิน.xlsx',sheet_name='บ้าน') ###ประกาศตัวแปร แล้วกำหนด sheet_name\n",
        "home\n",
        "\n",
        "     "
      ],
      "metadata": {
        "colab": {
          "base_uri": "https://localhost:8080/",
          "height": 1000
        },
        "id": "CVJzQDEbWLPK",
        "outputId": "1388c01d-9b77-4537-d5d7-d2c3f2ee610d"
      },
      "execution_count": null,
      "outputs": [
        {
          "output_type": "execute_result",
          "data": {
            "text/plain": [
              "     ID ผู้ประเมิน                                post id property_type  \\\n",
              "0                1     https://nayoo.co/khonkaen/posts/25    บ้านเดี่ยว   \n",
              "1                2     https://nayoo.co/khonkaen/posts/25    บ้านเดี่ยว   \n",
              "2                1     https://nayoo.co/khonkaen/posts/33    บ้านเดี่ยว   \n",
              "3                2     https://nayoo.co/khonkaen/posts/33    บ้านเดี่ยว   \n",
              "4                1    https://nayoo.co/khonkaen/posts/495    บ้านเดี่ยว   \n",
              "..             ...                                    ...           ...   \n",
              "185              2  https://nayoo.co/khonkaen/posts/19495    บ้านเดี่ยว   \n",
              "186              2  https://nayoo.co/khonkaen/posts/19496    บ้านเดี่ยว   \n",
              "187              2     https://nayoo.co/khonkaen/posts/20    บ้านเดี่ยว   \n",
              "188              2     https://nayoo.co/khonkaen/posts/31    บ้านเดี่ยว   \n",
              "189              2    https://nayoo.co/khonkaen/posts/570    บ้านเดี่ยว   \n",
              "\n",
              "    ความมั่นใจในการเมินราคาทรัพย์  ราคาทรัพย์  ประเมินราคาซื้อ-ขาย  \\\n",
              "0                          มั่นใจ   2700000.0            2500000.0   \n",
              "1                          มั่นใจ   2700000.0            2700000.0   \n",
              "2                          มั่นใจ   2600000.0            2200000.0   \n",
              "3                          มั่นใจ   2600000.0            2400000.0   \n",
              "4                          มั่นใจ   5900000.0            5000000.0   \n",
              "..                            ...         ...                  ...   \n",
              "185                        มั่นใจ   5500000.0            5000000.0   \n",
              "186                        มั่นใจ   7911000.0            7400000.0   \n",
              "187                        มั่นใจ   2000000.0            2500000.0   \n",
              "188                        มั่นใจ   4000000.0            3900000.0   \n",
              "189                        มั่นใจ   1375000.0            1400000.0   \n",
              "\n",
              "                        ปัจจัยในการประเมินราคาซื้อ-ขาย  \\\n",
              "0                                         5,000-15,000   \n",
              "1    โครงการนี้ราคาเสนอขาย 2,500,000-3,000,000 บาท/...   \n",
              "2                                         5,000-15,000   \n",
              "3     ราคาเสนอขายประมาณ 2,200,000 - 2,500,000 บาท/หลัง   \n",
              "4                                         5,000-15,000   \n",
              "..                                                 ...   \n",
              "185              ราคาเสนอขาย 20,000-30,000 บาท/ตารางวา   \n",
              "186            ราคาเสนอขาย 20,000 - 30,000 บาท/ตารางวา   \n",
              "187                   ราคาเสนอขาย 2.2-3.0 ล้านบาท/หลัง   \n",
              "188                    ราคาเสนอขาย 3.5-4.0ล้านบาท/หลัง   \n",
              "189                   ราคาเสนอขาย 1.2-1.5 ล้านบาท/หลัง   \n",
              "\n",
              "    เหตุผลไม่มั่นใจราคาประเมิน                      ให้คะแนนทรัพย์  \\\n",
              "0                          NaN   3 ขายได้ ใช้ระยะเวลา 7 - 12 เดือน   \n",
              "1                          NaN    4 ขายได้ ใช้ระยะเวลา 4 - 6 เดือน   \n",
              "2                          NaN  2 ขายได้ยาก ใช้ระยะเวลามากว่า 1 ปี   \n",
              "3                          NaN   3 ขายได้ ใช้ระยะเวลา 7 - 12 เดือน   \n",
              "4                          NaN   3 ขายได้ ใช้ระยะเวลา 7 - 12 เดือน   \n",
              "..                         ...                                 ...   \n",
              "185                        NaN   3 ขายได้ ใช้ระยะเวลา 7 - 12 เดือน   \n",
              "186                        NaN   3 ขายได้ ใช้ระยะเวลา 7 - 12 เดือน   \n",
              "187                        NaN   3 ขายได้ ใช้ระยะเวลา 7 - 12 เดือน   \n",
              "188                        NaN   3 ขายได้ ใช้ระยะเวลา 7 - 12 เดือน   \n",
              "189                        NaN   3 ขายได้ ใช้ระยะเวลา 7 - 12 เดือน   \n",
              "\n",
              "     Unnamed: 9  Unnamed: 10  Unnamed: 11  Unnamed: 12  Unnamed: 13  \n",
              "0           NaN          NaN          NaN          NaN        100.0  \n",
              "1           NaN          NaN          NaN          NaN          NaN  \n",
              "2           NaN          NaN          NaN          NaN          NaN  \n",
              "3           NaN          NaN          NaN          NaN          NaN  \n",
              "4           NaN          NaN          NaN          NaN          NaN  \n",
              "..          ...          ...          ...          ...          ...  \n",
              "185         NaN          NaN          NaN          NaN          NaN  \n",
              "186         NaN          NaN          NaN          NaN          NaN  \n",
              "187         NaN          NaN          NaN          NaN          NaN  \n",
              "188         NaN          NaN          NaN          NaN          NaN  \n",
              "189         NaN          NaN          NaN          NaN          NaN  \n",
              "\n",
              "[190 rows x 14 columns]"
            ],
            "text/html": [
              "\n",
              "  <div id=\"df-88cd0530-eadf-47b4-ad08-551b53f1e3c3\">\n",
              "    <div class=\"colab-df-container\">\n",
              "      <div>\n",
              "<style scoped>\n",
              "    .dataframe tbody tr th:only-of-type {\n",
              "        vertical-align: middle;\n",
              "    }\n",
              "\n",
              "    .dataframe tbody tr th {\n",
              "        vertical-align: top;\n",
              "    }\n",
              "\n",
              "    .dataframe thead th {\n",
              "        text-align: right;\n",
              "    }\n",
              "</style>\n",
              "<table border=\"1\" class=\"dataframe\">\n",
              "  <thead>\n",
              "    <tr style=\"text-align: right;\">\n",
              "      <th></th>\n",
              "      <th>ID ผู้ประเมิน</th>\n",
              "      <th>post id</th>\n",
              "      <th>property_type</th>\n",
              "      <th>ความมั่นใจในการเมินราคาทรัพย์</th>\n",
              "      <th>ราคาทรัพย์</th>\n",
              "      <th>ประเมินราคาซื้อ-ขาย</th>\n",
              "      <th>ปัจจัยในการประเมินราคาซื้อ-ขาย</th>\n",
              "      <th>เหตุผลไม่มั่นใจราคาประเมิน</th>\n",
              "      <th>ให้คะแนนทรัพย์</th>\n",
              "      <th>Unnamed: 9</th>\n",
              "      <th>Unnamed: 10</th>\n",
              "      <th>Unnamed: 11</th>\n",
              "      <th>Unnamed: 12</th>\n",
              "      <th>Unnamed: 13</th>\n",
              "    </tr>\n",
              "  </thead>\n",
              "  <tbody>\n",
              "    <tr>\n",
              "      <th>0</th>\n",
              "      <td>1</td>\n",
              "      <td>https://nayoo.co/khonkaen/posts/25</td>\n",
              "      <td>บ้านเดี่ยว</td>\n",
              "      <td>มั่นใจ</td>\n",
              "      <td>2700000.0</td>\n",
              "      <td>2500000.0</td>\n",
              "      <td>5,000-15,000</td>\n",
              "      <td>NaN</td>\n",
              "      <td>3 ขายได้ ใช้ระยะเวลา 7 - 12 เดือน</td>\n",
              "      <td>NaN</td>\n",
              "      <td>NaN</td>\n",
              "      <td>NaN</td>\n",
              "      <td>NaN</td>\n",
              "      <td>100.0</td>\n",
              "    </tr>\n",
              "    <tr>\n",
              "      <th>1</th>\n",
              "      <td>2</td>\n",
              "      <td>https://nayoo.co/khonkaen/posts/25</td>\n",
              "      <td>บ้านเดี่ยว</td>\n",
              "      <td>มั่นใจ</td>\n",
              "      <td>2700000.0</td>\n",
              "      <td>2700000.0</td>\n",
              "      <td>โครงการนี้ราคาเสนอขาย 2,500,000-3,000,000 บาท/...</td>\n",
              "      <td>NaN</td>\n",
              "      <td>4 ขายได้ ใช้ระยะเวลา 4 - 6 เดือน</td>\n",
              "      <td>NaN</td>\n",
              "      <td>NaN</td>\n",
              "      <td>NaN</td>\n",
              "      <td>NaN</td>\n",
              "      <td>NaN</td>\n",
              "    </tr>\n",
              "    <tr>\n",
              "      <th>2</th>\n",
              "      <td>1</td>\n",
              "      <td>https://nayoo.co/khonkaen/posts/33</td>\n",
              "      <td>บ้านเดี่ยว</td>\n",
              "      <td>มั่นใจ</td>\n",
              "      <td>2600000.0</td>\n",
              "      <td>2200000.0</td>\n",
              "      <td>5,000-15,000</td>\n",
              "      <td>NaN</td>\n",
              "      <td>2 ขายได้ยาก ใช้ระยะเวลามากว่า 1 ปี</td>\n",
              "      <td>NaN</td>\n",
              "      <td>NaN</td>\n",
              "      <td>NaN</td>\n",
              "      <td>NaN</td>\n",
              "      <td>NaN</td>\n",
              "    </tr>\n",
              "    <tr>\n",
              "      <th>3</th>\n",
              "      <td>2</td>\n",
              "      <td>https://nayoo.co/khonkaen/posts/33</td>\n",
              "      <td>บ้านเดี่ยว</td>\n",
              "      <td>มั่นใจ</td>\n",
              "      <td>2600000.0</td>\n",
              "      <td>2400000.0</td>\n",
              "      <td>ราคาเสนอขายประมาณ 2,200,000 - 2,500,000 บาท/หลัง</td>\n",
              "      <td>NaN</td>\n",
              "      <td>3 ขายได้ ใช้ระยะเวลา 7 - 12 เดือน</td>\n",
              "      <td>NaN</td>\n",
              "      <td>NaN</td>\n",
              "      <td>NaN</td>\n",
              "      <td>NaN</td>\n",
              "      <td>NaN</td>\n",
              "    </tr>\n",
              "    <tr>\n",
              "      <th>4</th>\n",
              "      <td>1</td>\n",
              "      <td>https://nayoo.co/khonkaen/posts/495</td>\n",
              "      <td>บ้านเดี่ยว</td>\n",
              "      <td>มั่นใจ</td>\n",
              "      <td>5900000.0</td>\n",
              "      <td>5000000.0</td>\n",
              "      <td>5,000-15,000</td>\n",
              "      <td>NaN</td>\n",
              "      <td>3 ขายได้ ใช้ระยะเวลา 7 - 12 เดือน</td>\n",
              "      <td>NaN</td>\n",
              "      <td>NaN</td>\n",
              "      <td>NaN</td>\n",
              "      <td>NaN</td>\n",
              "      <td>NaN</td>\n",
              "    </tr>\n",
              "    <tr>\n",
              "      <th>...</th>\n",
              "      <td>...</td>\n",
              "      <td>...</td>\n",
              "      <td>...</td>\n",
              "      <td>...</td>\n",
              "      <td>...</td>\n",
              "      <td>...</td>\n",
              "      <td>...</td>\n",
              "      <td>...</td>\n",
              "      <td>...</td>\n",
              "      <td>...</td>\n",
              "      <td>...</td>\n",
              "      <td>...</td>\n",
              "      <td>...</td>\n",
              "      <td>...</td>\n",
              "    </tr>\n",
              "    <tr>\n",
              "      <th>185</th>\n",
              "      <td>2</td>\n",
              "      <td>https://nayoo.co/khonkaen/posts/19495</td>\n",
              "      <td>บ้านเดี่ยว</td>\n",
              "      <td>มั่นใจ</td>\n",
              "      <td>5500000.0</td>\n",
              "      <td>5000000.0</td>\n",
              "      <td>ราคาเสนอขาย 20,000-30,000 บาท/ตารางวา</td>\n",
              "      <td>NaN</td>\n",
              "      <td>3 ขายได้ ใช้ระยะเวลา 7 - 12 เดือน</td>\n",
              "      <td>NaN</td>\n",
              "      <td>NaN</td>\n",
              "      <td>NaN</td>\n",
              "      <td>NaN</td>\n",
              "      <td>NaN</td>\n",
              "    </tr>\n",
              "    <tr>\n",
              "      <th>186</th>\n",
              "      <td>2</td>\n",
              "      <td>https://nayoo.co/khonkaen/posts/19496</td>\n",
              "      <td>บ้านเดี่ยว</td>\n",
              "      <td>มั่นใจ</td>\n",
              "      <td>7911000.0</td>\n",
              "      <td>7400000.0</td>\n",
              "      <td>ราคาเสนอขาย 20,000 - 30,000 บาท/ตารางวา</td>\n",
              "      <td>NaN</td>\n",
              "      <td>3 ขายได้ ใช้ระยะเวลา 7 - 12 เดือน</td>\n",
              "      <td>NaN</td>\n",
              "      <td>NaN</td>\n",
              "      <td>NaN</td>\n",
              "      <td>NaN</td>\n",
              "      <td>NaN</td>\n",
              "    </tr>\n",
              "    <tr>\n",
              "      <th>187</th>\n",
              "      <td>2</td>\n",
              "      <td>https://nayoo.co/khonkaen/posts/20</td>\n",
              "      <td>บ้านเดี่ยว</td>\n",
              "      <td>มั่นใจ</td>\n",
              "      <td>2000000.0</td>\n",
              "      <td>2500000.0</td>\n",
              "      <td>ราคาเสนอขาย 2.2-3.0 ล้านบาท/หลัง</td>\n",
              "      <td>NaN</td>\n",
              "      <td>3 ขายได้ ใช้ระยะเวลา 7 - 12 เดือน</td>\n",
              "      <td>NaN</td>\n",
              "      <td>NaN</td>\n",
              "      <td>NaN</td>\n",
              "      <td>NaN</td>\n",
              "      <td>NaN</td>\n",
              "    </tr>\n",
              "    <tr>\n",
              "      <th>188</th>\n",
              "      <td>2</td>\n",
              "      <td>https://nayoo.co/khonkaen/posts/31</td>\n",
              "      <td>บ้านเดี่ยว</td>\n",
              "      <td>มั่นใจ</td>\n",
              "      <td>4000000.0</td>\n",
              "      <td>3900000.0</td>\n",
              "      <td>ราคาเสนอขาย 3.5-4.0ล้านบาท/หลัง</td>\n",
              "      <td>NaN</td>\n",
              "      <td>3 ขายได้ ใช้ระยะเวลา 7 - 12 เดือน</td>\n",
              "      <td>NaN</td>\n",
              "      <td>NaN</td>\n",
              "      <td>NaN</td>\n",
              "      <td>NaN</td>\n",
              "      <td>NaN</td>\n",
              "    </tr>\n",
              "    <tr>\n",
              "      <th>189</th>\n",
              "      <td>2</td>\n",
              "      <td>https://nayoo.co/khonkaen/posts/570</td>\n",
              "      <td>บ้านเดี่ยว</td>\n",
              "      <td>มั่นใจ</td>\n",
              "      <td>1375000.0</td>\n",
              "      <td>1400000.0</td>\n",
              "      <td>ราคาเสนอขาย 1.2-1.5 ล้านบาท/หลัง</td>\n",
              "      <td>NaN</td>\n",
              "      <td>3 ขายได้ ใช้ระยะเวลา 7 - 12 เดือน</td>\n",
              "      <td>NaN</td>\n",
              "      <td>NaN</td>\n",
              "      <td>NaN</td>\n",
              "      <td>NaN</td>\n",
              "      <td>NaN</td>\n",
              "    </tr>\n",
              "  </tbody>\n",
              "</table>\n",
              "<p>190 rows × 14 columns</p>\n",
              "</div>\n",
              "      <button class=\"colab-df-convert\" onclick=\"convertToInteractive('df-88cd0530-eadf-47b4-ad08-551b53f1e3c3')\"\n",
              "              title=\"Convert this dataframe to an interactive table.\"\n",
              "              style=\"display:none;\">\n",
              "        \n",
              "  <svg xmlns=\"http://www.w3.org/2000/svg\" height=\"24px\"viewBox=\"0 0 24 24\"\n",
              "       width=\"24px\">\n",
              "    <path d=\"M0 0h24v24H0V0z\" fill=\"none\"/>\n",
              "    <path d=\"M18.56 5.44l.94 2.06.94-2.06 2.06-.94-2.06-.94-.94-2.06-.94 2.06-2.06.94zm-11 1L8.5 8.5l.94-2.06 2.06-.94-2.06-.94L8.5 2.5l-.94 2.06-2.06.94zm10 10l.94 2.06.94-2.06 2.06-.94-2.06-.94-.94-2.06-.94 2.06-2.06.94z\"/><path d=\"M17.41 7.96l-1.37-1.37c-.4-.4-.92-.59-1.43-.59-.52 0-1.04.2-1.43.59L10.3 9.45l-7.72 7.72c-.78.78-.78 2.05 0 2.83L4 21.41c.39.39.9.59 1.41.59.51 0 1.02-.2 1.41-.59l7.78-7.78 2.81-2.81c.8-.78.8-2.07 0-2.86zM5.41 20L4 18.59l7.72-7.72 1.47 1.35L5.41 20z\"/>\n",
              "  </svg>\n",
              "      </button>\n",
              "      \n",
              "  <style>\n",
              "    .colab-df-container {\n",
              "      display:flex;\n",
              "      flex-wrap:wrap;\n",
              "      gap: 12px;\n",
              "    }\n",
              "\n",
              "    .colab-df-convert {\n",
              "      background-color: #E8F0FE;\n",
              "      border: none;\n",
              "      border-radius: 50%;\n",
              "      cursor: pointer;\n",
              "      display: none;\n",
              "      fill: #1967D2;\n",
              "      height: 32px;\n",
              "      padding: 0 0 0 0;\n",
              "      width: 32px;\n",
              "    }\n",
              "\n",
              "    .colab-df-convert:hover {\n",
              "      background-color: #E2EBFA;\n",
              "      box-shadow: 0px 1px 2px rgba(60, 64, 67, 0.3), 0px 1px 3px 1px rgba(60, 64, 67, 0.15);\n",
              "      fill: #174EA6;\n",
              "    }\n",
              "\n",
              "    [theme=dark] .colab-df-convert {\n",
              "      background-color: #3B4455;\n",
              "      fill: #D2E3FC;\n",
              "    }\n",
              "\n",
              "    [theme=dark] .colab-df-convert:hover {\n",
              "      background-color: #434B5C;\n",
              "      box-shadow: 0px 1px 3px 1px rgba(0, 0, 0, 0.15);\n",
              "      filter: drop-shadow(0px 1px 2px rgba(0, 0, 0, 0.3));\n",
              "      fill: #FFFFFF;\n",
              "    }\n",
              "  </style>\n",
              "\n",
              "      <script>\n",
              "        const buttonEl =\n",
              "          document.querySelector('#df-88cd0530-eadf-47b4-ad08-551b53f1e3c3 button.colab-df-convert');\n",
              "        buttonEl.style.display =\n",
              "          google.colab.kernel.accessAllowed ? 'block' : 'none';\n",
              "\n",
              "        async function convertToInteractive(key) {\n",
              "          const element = document.querySelector('#df-88cd0530-eadf-47b4-ad08-551b53f1e3c3');\n",
              "          const dataTable =\n",
              "            await google.colab.kernel.invokeFunction('convertToInteractive',\n",
              "                                                     [key], {});\n",
              "          if (!dataTable) return;\n",
              "\n",
              "          const docLinkHtml = 'Like what you see? Visit the ' +\n",
              "            '<a target=\"_blank\" href=https://colab.research.google.com/notebooks/data_table.ipynb>data table notebook</a>'\n",
              "            + ' to learn more about interactive tables.';\n",
              "          element.innerHTML = '';\n",
              "          dataTable['output_type'] = 'display_data';\n",
              "          await google.colab.output.renderOutput(dataTable, element);\n",
              "          const docLink = document.createElement('div');\n",
              "          docLink.innerHTML = docLinkHtml;\n",
              "          element.appendChild(docLink);\n",
              "        }\n",
              "      </script>\n",
              "    </div>\n",
              "  </div>\n",
              "  "
            ]
          },
          "metadata": {},
          "execution_count": 3
        }
      ]
    },
    {
      "cell_type": "code",
      "source": [
        "est1 = home[home['ID ผู้ประเมิน']==1]\n",
        "est1"
      ],
      "metadata": {
        "colab": {
          "base_uri": "https://localhost:8080/",
          "height": 1000
        },
        "id": "WZ1SX8xMagXg",
        "outputId": "7e2ef32b-1f37-4e97-a208-a42b0cc05731"
      },
      "execution_count": null,
      "outputs": [
        {
          "output_type": "execute_result",
          "data": {
            "text/plain": [
              "     ID ผู้ประเมิน                                post id property_type  \\\n",
              "0                1     https://nayoo.co/khonkaen/posts/25    บ้านเดี่ยว   \n",
              "2                1     https://nayoo.co/khonkaen/posts/33    บ้านเดี่ยว   \n",
              "4                1    https://nayoo.co/khonkaen/posts/495    บ้านเดี่ยว   \n",
              "6                1    https://nayoo.co/khonkaen/posts/564    บ้านเดี่ยว   \n",
              "8                1    https://nayoo.co/khonkaen/posts/566    บ้านเดี่ยว   \n",
              "..             ...                                    ...           ...   \n",
              "155              1  https://nayoo.co/khonkaen/posts/19495    บ้านเดี่ยว   \n",
              "156              1  https://nayoo.co/khonkaen/posts/19496    บ้านเดี่ยว   \n",
              "157              1     https://nayoo.co/khonkaen/posts/20    บ้านเดี่ยว   \n",
              "158              1     https://nayoo.co/khonkaen/posts/31    บ้านเดี่ยว   \n",
              "159              1    https://nayoo.co/khonkaen/posts/570    บ้านเดี่ยว   \n",
              "\n",
              "    ความมั่นใจในการเมินราคาทรัพย์  ราคาทรัพย์  ประเมินราคาซื้อ-ขาย  \\\n",
              "0                          มั่นใจ   2700000.0            2500000.0   \n",
              "2                          มั่นใจ   2600000.0            2200000.0   \n",
              "4                          มั่นใจ   5900000.0            5000000.0   \n",
              "6                          มั่นใจ   4400000.0            3500000.0   \n",
              "8                          มั่นใจ   2750000.0            2500000.0   \n",
              "..                            ...         ...                  ...   \n",
              "155                        มั่นใจ   5500000.0            4500000.0   \n",
              "156                        มั่นใจ   7911000.0            5200000.0   \n",
              "157                        มั่นใจ   2000000.0            3600000.0   \n",
              "158                        มั่นใจ   4000000.0            4000000.0   \n",
              "159                        มั่นใจ   1375000.0            1200000.0   \n",
              "\n",
              "    ปัจจัยในการประเมินราคาซื้อ-ขาย เหตุผลไม่มั่นใจราคาประเมิน  \\\n",
              "0                     5,000-15,000                        NaN   \n",
              "2                     5,000-15,000                        NaN   \n",
              "4                     5,000-15,000                        NaN   \n",
              "6                     5,000-18,000                        NaN   \n",
              "8                     5,000-25,000                        NaN   \n",
              "..                             ...                        ...   \n",
              "155       3,000-30,000 บาท/ตารางวา                        NaN   \n",
              "156       3,000-30,000 บาท/ตารางวา                        NaN   \n",
              "157       3,000-30,000 บาท/ตารางวา                        NaN   \n",
              "158       3,000-35,000 บาท/ตารางวา                        NaN   \n",
              "159       3,000-30,000 บาท/ตารางวา                        NaN   \n",
              "\n",
              "                         ให้คะแนนทรัพย์  Unnamed: 9  Unnamed: 10  Unnamed: 11  \\\n",
              "0     3 ขายได้ ใช้ระยะเวลา 7 - 12 เดือน         NaN          NaN          NaN   \n",
              "2    2 ขายได้ยาก ใช้ระยะเวลามากว่า 1 ปี         NaN          NaN          NaN   \n",
              "4     3 ขายได้ ใช้ระยะเวลา 7 - 12 เดือน         NaN          NaN          NaN   \n",
              "6    2 ขายได้ยาก ใช้ระยะเวลามากว่า 1 ปี         NaN          NaN          NaN   \n",
              "8     3 ขายได้ ใช้ระยะเวลา 7 - 12 เดือน         NaN          NaN          NaN   \n",
              "..                                  ...         ...          ...          ...   \n",
              "155  2 ขายได้ยาก ใช้ระยะเวลามากว่า 1 ปี         NaN          NaN          NaN   \n",
              "156  2 ขายได้ยาก ใช้ระยะเวลามากว่า 1 ปี         NaN          NaN          NaN   \n",
              "157  2 ขายได้ยาก ใช้ระยะเวลามากว่า 1 ปี         NaN          NaN          NaN   \n",
              "158   3 ขายได้ ใช้ระยะเวลา 7 - 12 เดือน         NaN          NaN          NaN   \n",
              "159  2 ขายได้ยาก ใช้ระยะเวลามากว่า 1 ปี         NaN          NaN          NaN   \n",
              "\n",
              "     Unnamed: 12  Unnamed: 13  \n",
              "0            NaN        100.0  \n",
              "2            NaN          NaN  \n",
              "4            NaN          NaN  \n",
              "6            NaN          NaN  \n",
              "8            NaN          NaN  \n",
              "..           ...          ...  \n",
              "155          NaN          NaN  \n",
              "156          NaN          NaN  \n",
              "157          NaN          NaN  \n",
              "158          NaN          NaN  \n",
              "159          NaN          NaN  \n",
              "\n",
              "[100 rows x 14 columns]"
            ],
            "text/html": [
              "\n",
              "  <div id=\"df-2cf493b5-5347-4bc0-a9be-a54ff553ab2a\">\n",
              "    <div class=\"colab-df-container\">\n",
              "      <div>\n",
              "<style scoped>\n",
              "    .dataframe tbody tr th:only-of-type {\n",
              "        vertical-align: middle;\n",
              "    }\n",
              "\n",
              "    .dataframe tbody tr th {\n",
              "        vertical-align: top;\n",
              "    }\n",
              "\n",
              "    .dataframe thead th {\n",
              "        text-align: right;\n",
              "    }\n",
              "</style>\n",
              "<table border=\"1\" class=\"dataframe\">\n",
              "  <thead>\n",
              "    <tr style=\"text-align: right;\">\n",
              "      <th></th>\n",
              "      <th>ID ผู้ประเมิน</th>\n",
              "      <th>post id</th>\n",
              "      <th>property_type</th>\n",
              "      <th>ความมั่นใจในการเมินราคาทรัพย์</th>\n",
              "      <th>ราคาทรัพย์</th>\n",
              "      <th>ประเมินราคาซื้อ-ขาย</th>\n",
              "      <th>ปัจจัยในการประเมินราคาซื้อ-ขาย</th>\n",
              "      <th>เหตุผลไม่มั่นใจราคาประเมิน</th>\n",
              "      <th>ให้คะแนนทรัพย์</th>\n",
              "      <th>Unnamed: 9</th>\n",
              "      <th>Unnamed: 10</th>\n",
              "      <th>Unnamed: 11</th>\n",
              "      <th>Unnamed: 12</th>\n",
              "      <th>Unnamed: 13</th>\n",
              "    </tr>\n",
              "  </thead>\n",
              "  <tbody>\n",
              "    <tr>\n",
              "      <th>0</th>\n",
              "      <td>1</td>\n",
              "      <td>https://nayoo.co/khonkaen/posts/25</td>\n",
              "      <td>บ้านเดี่ยว</td>\n",
              "      <td>มั่นใจ</td>\n",
              "      <td>2700000.0</td>\n",
              "      <td>2500000.0</td>\n",
              "      <td>5,000-15,000</td>\n",
              "      <td>NaN</td>\n",
              "      <td>3 ขายได้ ใช้ระยะเวลา 7 - 12 เดือน</td>\n",
              "      <td>NaN</td>\n",
              "      <td>NaN</td>\n",
              "      <td>NaN</td>\n",
              "      <td>NaN</td>\n",
              "      <td>100.0</td>\n",
              "    </tr>\n",
              "    <tr>\n",
              "      <th>2</th>\n",
              "      <td>1</td>\n",
              "      <td>https://nayoo.co/khonkaen/posts/33</td>\n",
              "      <td>บ้านเดี่ยว</td>\n",
              "      <td>มั่นใจ</td>\n",
              "      <td>2600000.0</td>\n",
              "      <td>2200000.0</td>\n",
              "      <td>5,000-15,000</td>\n",
              "      <td>NaN</td>\n",
              "      <td>2 ขายได้ยาก ใช้ระยะเวลามากว่า 1 ปี</td>\n",
              "      <td>NaN</td>\n",
              "      <td>NaN</td>\n",
              "      <td>NaN</td>\n",
              "      <td>NaN</td>\n",
              "      <td>NaN</td>\n",
              "    </tr>\n",
              "    <tr>\n",
              "      <th>4</th>\n",
              "      <td>1</td>\n",
              "      <td>https://nayoo.co/khonkaen/posts/495</td>\n",
              "      <td>บ้านเดี่ยว</td>\n",
              "      <td>มั่นใจ</td>\n",
              "      <td>5900000.0</td>\n",
              "      <td>5000000.0</td>\n",
              "      <td>5,000-15,000</td>\n",
              "      <td>NaN</td>\n",
              "      <td>3 ขายได้ ใช้ระยะเวลา 7 - 12 เดือน</td>\n",
              "      <td>NaN</td>\n",
              "      <td>NaN</td>\n",
              "      <td>NaN</td>\n",
              "      <td>NaN</td>\n",
              "      <td>NaN</td>\n",
              "    </tr>\n",
              "    <tr>\n",
              "      <th>6</th>\n",
              "      <td>1</td>\n",
              "      <td>https://nayoo.co/khonkaen/posts/564</td>\n",
              "      <td>บ้านเดี่ยว</td>\n",
              "      <td>มั่นใจ</td>\n",
              "      <td>4400000.0</td>\n",
              "      <td>3500000.0</td>\n",
              "      <td>5,000-18,000</td>\n",
              "      <td>NaN</td>\n",
              "      <td>2 ขายได้ยาก ใช้ระยะเวลามากว่า 1 ปี</td>\n",
              "      <td>NaN</td>\n",
              "      <td>NaN</td>\n",
              "      <td>NaN</td>\n",
              "      <td>NaN</td>\n",
              "      <td>NaN</td>\n",
              "    </tr>\n",
              "    <tr>\n",
              "      <th>8</th>\n",
              "      <td>1</td>\n",
              "      <td>https://nayoo.co/khonkaen/posts/566</td>\n",
              "      <td>บ้านเดี่ยว</td>\n",
              "      <td>มั่นใจ</td>\n",
              "      <td>2750000.0</td>\n",
              "      <td>2500000.0</td>\n",
              "      <td>5,000-25,000</td>\n",
              "      <td>NaN</td>\n",
              "      <td>3 ขายได้ ใช้ระยะเวลา 7 - 12 เดือน</td>\n",
              "      <td>NaN</td>\n",
              "      <td>NaN</td>\n",
              "      <td>NaN</td>\n",
              "      <td>NaN</td>\n",
              "      <td>NaN</td>\n",
              "    </tr>\n",
              "    <tr>\n",
              "      <th>...</th>\n",
              "      <td>...</td>\n",
              "      <td>...</td>\n",
              "      <td>...</td>\n",
              "      <td>...</td>\n",
              "      <td>...</td>\n",
              "      <td>...</td>\n",
              "      <td>...</td>\n",
              "      <td>...</td>\n",
              "      <td>...</td>\n",
              "      <td>...</td>\n",
              "      <td>...</td>\n",
              "      <td>...</td>\n",
              "      <td>...</td>\n",
              "      <td>...</td>\n",
              "    </tr>\n",
              "    <tr>\n",
              "      <th>155</th>\n",
              "      <td>1</td>\n",
              "      <td>https://nayoo.co/khonkaen/posts/19495</td>\n",
              "      <td>บ้านเดี่ยว</td>\n",
              "      <td>มั่นใจ</td>\n",
              "      <td>5500000.0</td>\n",
              "      <td>4500000.0</td>\n",
              "      <td>3,000-30,000 บาท/ตารางวา</td>\n",
              "      <td>NaN</td>\n",
              "      <td>2 ขายได้ยาก ใช้ระยะเวลามากว่า 1 ปี</td>\n",
              "      <td>NaN</td>\n",
              "      <td>NaN</td>\n",
              "      <td>NaN</td>\n",
              "      <td>NaN</td>\n",
              "      <td>NaN</td>\n",
              "    </tr>\n",
              "    <tr>\n",
              "      <th>156</th>\n",
              "      <td>1</td>\n",
              "      <td>https://nayoo.co/khonkaen/posts/19496</td>\n",
              "      <td>บ้านเดี่ยว</td>\n",
              "      <td>มั่นใจ</td>\n",
              "      <td>7911000.0</td>\n",
              "      <td>5200000.0</td>\n",
              "      <td>3,000-30,000 บาท/ตารางวา</td>\n",
              "      <td>NaN</td>\n",
              "      <td>2 ขายได้ยาก ใช้ระยะเวลามากว่า 1 ปี</td>\n",
              "      <td>NaN</td>\n",
              "      <td>NaN</td>\n",
              "      <td>NaN</td>\n",
              "      <td>NaN</td>\n",
              "      <td>NaN</td>\n",
              "    </tr>\n",
              "    <tr>\n",
              "      <th>157</th>\n",
              "      <td>1</td>\n",
              "      <td>https://nayoo.co/khonkaen/posts/20</td>\n",
              "      <td>บ้านเดี่ยว</td>\n",
              "      <td>มั่นใจ</td>\n",
              "      <td>2000000.0</td>\n",
              "      <td>3600000.0</td>\n",
              "      <td>3,000-30,000 บาท/ตารางวา</td>\n",
              "      <td>NaN</td>\n",
              "      <td>2 ขายได้ยาก ใช้ระยะเวลามากว่า 1 ปี</td>\n",
              "      <td>NaN</td>\n",
              "      <td>NaN</td>\n",
              "      <td>NaN</td>\n",
              "      <td>NaN</td>\n",
              "      <td>NaN</td>\n",
              "    </tr>\n",
              "    <tr>\n",
              "      <th>158</th>\n",
              "      <td>1</td>\n",
              "      <td>https://nayoo.co/khonkaen/posts/31</td>\n",
              "      <td>บ้านเดี่ยว</td>\n",
              "      <td>มั่นใจ</td>\n",
              "      <td>4000000.0</td>\n",
              "      <td>4000000.0</td>\n",
              "      <td>3,000-35,000 บาท/ตารางวา</td>\n",
              "      <td>NaN</td>\n",
              "      <td>3 ขายได้ ใช้ระยะเวลา 7 - 12 เดือน</td>\n",
              "      <td>NaN</td>\n",
              "      <td>NaN</td>\n",
              "      <td>NaN</td>\n",
              "      <td>NaN</td>\n",
              "      <td>NaN</td>\n",
              "    </tr>\n",
              "    <tr>\n",
              "      <th>159</th>\n",
              "      <td>1</td>\n",
              "      <td>https://nayoo.co/khonkaen/posts/570</td>\n",
              "      <td>บ้านเดี่ยว</td>\n",
              "      <td>มั่นใจ</td>\n",
              "      <td>1375000.0</td>\n",
              "      <td>1200000.0</td>\n",
              "      <td>3,000-30,000 บาท/ตารางวา</td>\n",
              "      <td>NaN</td>\n",
              "      <td>2 ขายได้ยาก ใช้ระยะเวลามากว่า 1 ปี</td>\n",
              "      <td>NaN</td>\n",
              "      <td>NaN</td>\n",
              "      <td>NaN</td>\n",
              "      <td>NaN</td>\n",
              "      <td>NaN</td>\n",
              "    </tr>\n",
              "  </tbody>\n",
              "</table>\n",
              "<p>100 rows × 14 columns</p>\n",
              "</div>\n",
              "      <button class=\"colab-df-convert\" onclick=\"convertToInteractive('df-2cf493b5-5347-4bc0-a9be-a54ff553ab2a')\"\n",
              "              title=\"Convert this dataframe to an interactive table.\"\n",
              "              style=\"display:none;\">\n",
              "        \n",
              "  <svg xmlns=\"http://www.w3.org/2000/svg\" height=\"24px\"viewBox=\"0 0 24 24\"\n",
              "       width=\"24px\">\n",
              "    <path d=\"M0 0h24v24H0V0z\" fill=\"none\"/>\n",
              "    <path d=\"M18.56 5.44l.94 2.06.94-2.06 2.06-.94-2.06-.94-.94-2.06-.94 2.06-2.06.94zm-11 1L8.5 8.5l.94-2.06 2.06-.94-2.06-.94L8.5 2.5l-.94 2.06-2.06.94zm10 10l.94 2.06.94-2.06 2.06-.94-2.06-.94-.94-2.06-.94 2.06-2.06.94z\"/><path d=\"M17.41 7.96l-1.37-1.37c-.4-.4-.92-.59-1.43-.59-.52 0-1.04.2-1.43.59L10.3 9.45l-7.72 7.72c-.78.78-.78 2.05 0 2.83L4 21.41c.39.39.9.59 1.41.59.51 0 1.02-.2 1.41-.59l7.78-7.78 2.81-2.81c.8-.78.8-2.07 0-2.86zM5.41 20L4 18.59l7.72-7.72 1.47 1.35L5.41 20z\"/>\n",
              "  </svg>\n",
              "      </button>\n",
              "      \n",
              "  <style>\n",
              "    .colab-df-container {\n",
              "      display:flex;\n",
              "      flex-wrap:wrap;\n",
              "      gap: 12px;\n",
              "    }\n",
              "\n",
              "    .colab-df-convert {\n",
              "      background-color: #E8F0FE;\n",
              "      border: none;\n",
              "      border-radius: 50%;\n",
              "      cursor: pointer;\n",
              "      display: none;\n",
              "      fill: #1967D2;\n",
              "      height: 32px;\n",
              "      padding: 0 0 0 0;\n",
              "      width: 32px;\n",
              "    }\n",
              "\n",
              "    .colab-df-convert:hover {\n",
              "      background-color: #E2EBFA;\n",
              "      box-shadow: 0px 1px 2px rgba(60, 64, 67, 0.3), 0px 1px 3px 1px rgba(60, 64, 67, 0.15);\n",
              "      fill: #174EA6;\n",
              "    }\n",
              "\n",
              "    [theme=dark] .colab-df-convert {\n",
              "      background-color: #3B4455;\n",
              "      fill: #D2E3FC;\n",
              "    }\n",
              "\n",
              "    [theme=dark] .colab-df-convert:hover {\n",
              "      background-color: #434B5C;\n",
              "      box-shadow: 0px 1px 3px 1px rgba(0, 0, 0, 0.15);\n",
              "      filter: drop-shadow(0px 1px 2px rgba(0, 0, 0, 0.3));\n",
              "      fill: #FFFFFF;\n",
              "    }\n",
              "  </style>\n",
              "\n",
              "      <script>\n",
              "        const buttonEl =\n",
              "          document.querySelector('#df-2cf493b5-5347-4bc0-a9be-a54ff553ab2a button.colab-df-convert');\n",
              "        buttonEl.style.display =\n",
              "          google.colab.kernel.accessAllowed ? 'block' : 'none';\n",
              "\n",
              "        async function convertToInteractive(key) {\n",
              "          const element = document.querySelector('#df-2cf493b5-5347-4bc0-a9be-a54ff553ab2a');\n",
              "          const dataTable =\n",
              "            await google.colab.kernel.invokeFunction('convertToInteractive',\n",
              "                                                     [key], {});\n",
              "          if (!dataTable) return;\n",
              "\n",
              "          const docLinkHtml = 'Like what you see? Visit the ' +\n",
              "            '<a target=\"_blank\" href=https://colab.research.google.com/notebooks/data_table.ipynb>data table notebook</a>'\n",
              "            + ' to learn more about interactive tables.';\n",
              "          element.innerHTML = '';\n",
              "          dataTable['output_type'] = 'display_data';\n",
              "          await google.colab.output.renderOutput(dataTable, element);\n",
              "          const docLink = document.createElement('div');\n",
              "          docLink.innerHTML = docLinkHtml;\n",
              "          element.appendChild(docLink);\n",
              "        }\n",
              "      </script>\n",
              "    </div>\n",
              "  </div>\n",
              "  "
            ]
          },
          "metadata": {},
          "execution_count": 4
        }
      ]
    },
    {
      "cell_type": "code",
      "source": [
        "est1.describe() "
      ],
      "metadata": {
        "colab": {
          "base_uri": "https://localhost:8080/",
          "height": 300
        },
        "id": "UckSXPQra3_I",
        "outputId": "888f4d08-4b67-4f28-f5b5-f868246871d6"
      },
      "execution_count": null,
      "outputs": [
        {
          "output_type": "execute_result",
          "data": {
            "text/plain": [
              "       ID ผู้ประเมิน    ราคาทรัพย์  ประเมินราคาซื้อ-ขาย  Unnamed: 9  \\\n",
              "count          100.0  1.000000e+02         1.000000e+02         0.0   \n",
              "mean             1.0  4.316360e+06         3.938500e+06         NaN   \n",
              "std              0.0  2.865391e+06         2.368553e+06         NaN   \n",
              "min              1.0  3.900000e+05         6.000000e+05         NaN   \n",
              "25%              1.0  2.892750e+06         2.775000e+06         NaN   \n",
              "50%              1.0  3.962000e+06         3.600000e+06         NaN   \n",
              "75%              1.0  5.000000e+06         4.500000e+06         NaN   \n",
              "max              1.0  2.094900e+07         1.600000e+07         NaN   \n",
              "\n",
              "       Unnamed: 10  Unnamed: 11  Unnamed: 12  Unnamed: 13  \n",
              "count          0.0          0.0          0.0          1.0  \n",
              "mean           NaN          NaN          NaN        100.0  \n",
              "std            NaN          NaN          NaN          NaN  \n",
              "min            NaN          NaN          NaN        100.0  \n",
              "25%            NaN          NaN          NaN        100.0  \n",
              "50%            NaN          NaN          NaN        100.0  \n",
              "75%            NaN          NaN          NaN        100.0  \n",
              "max            NaN          NaN          NaN        100.0  "
            ],
            "text/html": [
              "\n",
              "  <div id=\"df-83957f6d-34af-4786-b9ed-424b78d0507b\">\n",
              "    <div class=\"colab-df-container\">\n",
              "      <div>\n",
              "<style scoped>\n",
              "    .dataframe tbody tr th:only-of-type {\n",
              "        vertical-align: middle;\n",
              "    }\n",
              "\n",
              "    .dataframe tbody tr th {\n",
              "        vertical-align: top;\n",
              "    }\n",
              "\n",
              "    .dataframe thead th {\n",
              "        text-align: right;\n",
              "    }\n",
              "</style>\n",
              "<table border=\"1\" class=\"dataframe\">\n",
              "  <thead>\n",
              "    <tr style=\"text-align: right;\">\n",
              "      <th></th>\n",
              "      <th>ID ผู้ประเมิน</th>\n",
              "      <th>ราคาทรัพย์</th>\n",
              "      <th>ประเมินราคาซื้อ-ขาย</th>\n",
              "      <th>Unnamed: 9</th>\n",
              "      <th>Unnamed: 10</th>\n",
              "      <th>Unnamed: 11</th>\n",
              "      <th>Unnamed: 12</th>\n",
              "      <th>Unnamed: 13</th>\n",
              "    </tr>\n",
              "  </thead>\n",
              "  <tbody>\n",
              "    <tr>\n",
              "      <th>count</th>\n",
              "      <td>100.0</td>\n",
              "      <td>1.000000e+02</td>\n",
              "      <td>1.000000e+02</td>\n",
              "      <td>0.0</td>\n",
              "      <td>0.0</td>\n",
              "      <td>0.0</td>\n",
              "      <td>0.0</td>\n",
              "      <td>1.0</td>\n",
              "    </tr>\n",
              "    <tr>\n",
              "      <th>mean</th>\n",
              "      <td>1.0</td>\n",
              "      <td>4.316360e+06</td>\n",
              "      <td>3.938500e+06</td>\n",
              "      <td>NaN</td>\n",
              "      <td>NaN</td>\n",
              "      <td>NaN</td>\n",
              "      <td>NaN</td>\n",
              "      <td>100.0</td>\n",
              "    </tr>\n",
              "    <tr>\n",
              "      <th>std</th>\n",
              "      <td>0.0</td>\n",
              "      <td>2.865391e+06</td>\n",
              "      <td>2.368553e+06</td>\n",
              "      <td>NaN</td>\n",
              "      <td>NaN</td>\n",
              "      <td>NaN</td>\n",
              "      <td>NaN</td>\n",
              "      <td>NaN</td>\n",
              "    </tr>\n",
              "    <tr>\n",
              "      <th>min</th>\n",
              "      <td>1.0</td>\n",
              "      <td>3.900000e+05</td>\n",
              "      <td>6.000000e+05</td>\n",
              "      <td>NaN</td>\n",
              "      <td>NaN</td>\n",
              "      <td>NaN</td>\n",
              "      <td>NaN</td>\n",
              "      <td>100.0</td>\n",
              "    </tr>\n",
              "    <tr>\n",
              "      <th>25%</th>\n",
              "      <td>1.0</td>\n",
              "      <td>2.892750e+06</td>\n",
              "      <td>2.775000e+06</td>\n",
              "      <td>NaN</td>\n",
              "      <td>NaN</td>\n",
              "      <td>NaN</td>\n",
              "      <td>NaN</td>\n",
              "      <td>100.0</td>\n",
              "    </tr>\n",
              "    <tr>\n",
              "      <th>50%</th>\n",
              "      <td>1.0</td>\n",
              "      <td>3.962000e+06</td>\n",
              "      <td>3.600000e+06</td>\n",
              "      <td>NaN</td>\n",
              "      <td>NaN</td>\n",
              "      <td>NaN</td>\n",
              "      <td>NaN</td>\n",
              "      <td>100.0</td>\n",
              "    </tr>\n",
              "    <tr>\n",
              "      <th>75%</th>\n",
              "      <td>1.0</td>\n",
              "      <td>5.000000e+06</td>\n",
              "      <td>4.500000e+06</td>\n",
              "      <td>NaN</td>\n",
              "      <td>NaN</td>\n",
              "      <td>NaN</td>\n",
              "      <td>NaN</td>\n",
              "      <td>100.0</td>\n",
              "    </tr>\n",
              "    <tr>\n",
              "      <th>max</th>\n",
              "      <td>1.0</td>\n",
              "      <td>2.094900e+07</td>\n",
              "      <td>1.600000e+07</td>\n",
              "      <td>NaN</td>\n",
              "      <td>NaN</td>\n",
              "      <td>NaN</td>\n",
              "      <td>NaN</td>\n",
              "      <td>100.0</td>\n",
              "    </tr>\n",
              "  </tbody>\n",
              "</table>\n",
              "</div>\n",
              "      <button class=\"colab-df-convert\" onclick=\"convertToInteractive('df-83957f6d-34af-4786-b9ed-424b78d0507b')\"\n",
              "              title=\"Convert this dataframe to an interactive table.\"\n",
              "              style=\"display:none;\">\n",
              "        \n",
              "  <svg xmlns=\"http://www.w3.org/2000/svg\" height=\"24px\"viewBox=\"0 0 24 24\"\n",
              "       width=\"24px\">\n",
              "    <path d=\"M0 0h24v24H0V0z\" fill=\"none\"/>\n",
              "    <path d=\"M18.56 5.44l.94 2.06.94-2.06 2.06-.94-2.06-.94-.94-2.06-.94 2.06-2.06.94zm-11 1L8.5 8.5l.94-2.06 2.06-.94-2.06-.94L8.5 2.5l-.94 2.06-2.06.94zm10 10l.94 2.06.94-2.06 2.06-.94-2.06-.94-.94-2.06-.94 2.06-2.06.94z\"/><path d=\"M17.41 7.96l-1.37-1.37c-.4-.4-.92-.59-1.43-.59-.52 0-1.04.2-1.43.59L10.3 9.45l-7.72 7.72c-.78.78-.78 2.05 0 2.83L4 21.41c.39.39.9.59 1.41.59.51 0 1.02-.2 1.41-.59l7.78-7.78 2.81-2.81c.8-.78.8-2.07 0-2.86zM5.41 20L4 18.59l7.72-7.72 1.47 1.35L5.41 20z\"/>\n",
              "  </svg>\n",
              "      </button>\n",
              "      \n",
              "  <style>\n",
              "    .colab-df-container {\n",
              "      display:flex;\n",
              "      flex-wrap:wrap;\n",
              "      gap: 12px;\n",
              "    }\n",
              "\n",
              "    .colab-df-convert {\n",
              "      background-color: #E8F0FE;\n",
              "      border: none;\n",
              "      border-radius: 50%;\n",
              "      cursor: pointer;\n",
              "      display: none;\n",
              "      fill: #1967D2;\n",
              "      height: 32px;\n",
              "      padding: 0 0 0 0;\n",
              "      width: 32px;\n",
              "    }\n",
              "\n",
              "    .colab-df-convert:hover {\n",
              "      background-color: #E2EBFA;\n",
              "      box-shadow: 0px 1px 2px rgba(60, 64, 67, 0.3), 0px 1px 3px 1px rgba(60, 64, 67, 0.15);\n",
              "      fill: #174EA6;\n",
              "    }\n",
              "\n",
              "    [theme=dark] .colab-df-convert {\n",
              "      background-color: #3B4455;\n",
              "      fill: #D2E3FC;\n",
              "    }\n",
              "\n",
              "    [theme=dark] .colab-df-convert:hover {\n",
              "      background-color: #434B5C;\n",
              "      box-shadow: 0px 1px 3px 1px rgba(0, 0, 0, 0.15);\n",
              "      filter: drop-shadow(0px 1px 2px rgba(0, 0, 0, 0.3));\n",
              "      fill: #FFFFFF;\n",
              "    }\n",
              "  </style>\n",
              "\n",
              "      <script>\n",
              "        const buttonEl =\n",
              "          document.querySelector('#df-83957f6d-34af-4786-b9ed-424b78d0507b button.colab-df-convert');\n",
              "        buttonEl.style.display =\n",
              "          google.colab.kernel.accessAllowed ? 'block' : 'none';\n",
              "\n",
              "        async function convertToInteractive(key) {\n",
              "          const element = document.querySelector('#df-83957f6d-34af-4786-b9ed-424b78d0507b');\n",
              "          const dataTable =\n",
              "            await google.colab.kernel.invokeFunction('convertToInteractive',\n",
              "                                                     [key], {});\n",
              "          if (!dataTable) return;\n",
              "\n",
              "          const docLinkHtml = 'Like what you see? Visit the ' +\n",
              "            '<a target=\"_blank\" href=https://colab.research.google.com/notebooks/data_table.ipynb>data table notebook</a>'\n",
              "            + ' to learn more about interactive tables.';\n",
              "          element.innerHTML = '';\n",
              "          dataTable['output_type'] = 'display_data';\n",
              "          await google.colab.output.renderOutput(dataTable, element);\n",
              "          const docLink = document.createElement('div');\n",
              "          docLink.innerHTML = docLinkHtml;\n",
              "          element.appendChild(docLink);\n",
              "        }\n",
              "      </script>\n",
              "    </div>\n",
              "  </div>\n",
              "  "
            ]
          },
          "metadata": {},
          "execution_count": 5
        }
      ]
    },
    {
      "cell_type": "code",
      "source": [
        "###นับคะแนนความมั่นใจ"
      ],
      "metadata": {
        "id": "JAcZrYUsbcy8"
      },
      "execution_count": null,
      "outputs": []
    },
    {
      "cell_type": "code",
      "source": [
        "est1['ประเมินราคาซื้อ-ขาย'].describe()"
      ],
      "metadata": {
        "colab": {
          "base_uri": "https://localhost:8080/"
        },
        "id": "oZ7BunkAkDEM",
        "outputId": "0fe91450-75f1-4091-f8da-4268b02b09e2"
      },
      "execution_count": null,
      "outputs": [
        {
          "output_type": "execute_result",
          "data": {
            "text/plain": [
              "count    1.000000e+02\n",
              "mean     3.938500e+06\n",
              "std      2.368553e+06\n",
              "min      6.000000e+05\n",
              "25%      2.775000e+06\n",
              "50%      3.600000e+06\n",
              "75%      4.500000e+06\n",
              "max      1.600000e+07\n",
              "Name: ประเมินราคาซื้อ-ขาย, dtype: float64"
            ]
          },
          "metadata": {},
          "execution_count": 7
        }
      ]
    },
    {
      "cell_type": "code",
      "source": [
        "est1['ความมั่นใจในการเมินราคาทรัพย์'].describe() "
      ],
      "metadata": {
        "colab": {
          "base_uri": "https://localhost:8080/"
        },
        "id": "ZGEMbXxpc5Wq",
        "outputId": "efc53383-80ea-4b38-9e8e-5ba4e490e55a"
      },
      "execution_count": null,
      "outputs": [
        {
          "output_type": "execute_result",
          "data": {
            "text/plain": [
              "count        100\n",
              "unique         1\n",
              "top       มั่นใจ\n",
              "freq         100\n",
              "Name: ความมั่นใจในการเมินราคาทรัพย์, dtype: object"
            ]
          },
          "metadata": {},
          "execution_count": 8
        }
      ]
    },
    {
      "cell_type": "code",
      "source": [
        "est1['ให้คะแนนทรัพย์'].value_counts()"
      ],
      "metadata": {
        "colab": {
          "base_uri": "https://localhost:8080/"
        },
        "id": "XR7vOPZKgR4i",
        "outputId": "75179042-9b9d-4036-fdec-92d76af45407"
      },
      "execution_count": null,
      "outputs": [
        {
          "output_type": "execute_result",
          "data": {
            "text/plain": [
              "2 ขายได้ยาก ใช้ระยะเวลามากว่า 1 ปี    54\n",
              "3 ขายได้ ใช้ระยะเวลา 7 - 12 เดือน     43\n",
              "4 ขายได้ ใช้ระยะเวลา 4 - 6 เดือน       2\n",
              "1 ขายไม่ได้แน่นอน                      1\n",
              "Name: ให้คะแนนทรัพย์, dtype: int64"
            ]
          },
          "metadata": {},
          "execution_count": 9
        }
      ]
    },
    {
      "cell_type": "code",
      "source": [
        "est1.groupby('ให้คะแนนทรัพย์')['ให้คะแนนทรัพย์'].count()"
      ],
      "metadata": {
        "colab": {
          "base_uri": "https://localhost:8080/"
        },
        "id": "RMAqaVw9kNEp",
        "outputId": "44e4448a-fc0a-4b6c-bab4-a1c890d603d0"
      },
      "execution_count": null,
      "outputs": [
        {
          "output_type": "execute_result",
          "data": {
            "text/plain": [
              "ให้คะแนนทรัพย์\n",
              "1 ขายไม่ได้แน่นอน                      1\n",
              "2 ขายได้ยาก ใช้ระยะเวลามากว่า 1 ปี    54\n",
              "3 ขายได้ ใช้ระยะเวลา 7 - 12 เดือน     43\n",
              "4 ขายได้ ใช้ระยะเวลา 4 - 6 เดือน       2\n",
              "Name: ให้คะแนนทรัพย์, dtype: int64"
            ]
          },
          "metadata": {},
          "execution_count": 10
        }
      ]
    },
    {
      "cell_type": "code",
      "source": [
        "est2 = home[home['ID ผู้ประเมิน']==2]\n",
        "est2"
      ],
      "metadata": {
        "colab": {
          "base_uri": "https://localhost:8080/",
          "height": 1000
        },
        "id": "o0lY1bH2kS1_",
        "outputId": "b2188bb0-4c4a-41d7-bf28-a48351975125"
      },
      "execution_count": null,
      "outputs": [
        {
          "output_type": "execute_result",
          "data": {
            "text/plain": [
              "     ID ผู้ประเมิน                                post id property_type  \\\n",
              "1                2     https://nayoo.co/khonkaen/posts/25    บ้านเดี่ยว   \n",
              "3                2     https://nayoo.co/khonkaen/posts/33    บ้านเดี่ยว   \n",
              "5                2    https://nayoo.co/khonkaen/posts/495    บ้านเดี่ยว   \n",
              "7                2    https://nayoo.co/khonkaen/posts/564    บ้านเดี่ยว   \n",
              "9                2    https://nayoo.co/khonkaen/posts/566    บ้านเดี่ยว   \n",
              "..             ...                                    ...           ...   \n",
              "185              2  https://nayoo.co/khonkaen/posts/19495    บ้านเดี่ยว   \n",
              "186              2  https://nayoo.co/khonkaen/posts/19496    บ้านเดี่ยว   \n",
              "187              2     https://nayoo.co/khonkaen/posts/20    บ้านเดี่ยว   \n",
              "188              2     https://nayoo.co/khonkaen/posts/31    บ้านเดี่ยว   \n",
              "189              2    https://nayoo.co/khonkaen/posts/570    บ้านเดี่ยว   \n",
              "\n",
              "    ความมั่นใจในการเมินราคาทรัพย์  ราคาทรัพย์  ประเมินราคาซื้อ-ขาย  \\\n",
              "1                          มั่นใจ   2700000.0            2700000.0   \n",
              "3                          มั่นใจ   2600000.0            2400000.0   \n",
              "5                          มั่นใจ   5900000.0            9000000.0   \n",
              "7                          มั่นใจ   4400000.0            3700000.0   \n",
              "9                          มั่นใจ   2750000.0            2500000.0   \n",
              "..                            ...         ...                  ...   \n",
              "185                        มั่นใจ   5500000.0            5000000.0   \n",
              "186                        มั่นใจ   7911000.0            7400000.0   \n",
              "187                        มั่นใจ   2000000.0            2500000.0   \n",
              "188                        มั่นใจ   4000000.0            3900000.0   \n",
              "189                        มั่นใจ   1375000.0            1400000.0   \n",
              "\n",
              "                        ปัจจัยในการประเมินราคาซื้อ-ขาย  \\\n",
              "1    โครงการนี้ราคาเสนอขาย 2,500,000-3,000,000 บาท/...   \n",
              "3     ราคาเสนอขายประมาณ 2,200,000 - 2,500,000 บาท/หลัง   \n",
              "5    โซนนี้ราคาซื้อขาย ประมาณ 10,000-20,000 บาท/ตาร...   \n",
              "7               เสนอขาย 3,500,000 - 4,200,000 บาท/หลัง   \n",
              "9          ราคาเสนอขาย 2,000,0000 - 2,800,000 บาท/หลัง   \n",
              "..                                                 ...   \n",
              "185              ราคาเสนอขาย 20,000-30,000 บาท/ตารางวา   \n",
              "186            ราคาเสนอขาย 20,000 - 30,000 บาท/ตารางวา   \n",
              "187                   ราคาเสนอขาย 2.2-3.0 ล้านบาท/หลัง   \n",
              "188                    ราคาเสนอขาย 3.5-4.0ล้านบาท/หลัง   \n",
              "189                   ราคาเสนอขาย 1.2-1.5 ล้านบาท/หลัง   \n",
              "\n",
              "    เหตุผลไม่มั่นใจราคาประเมิน                     ให้คะแนนทรัพย์  Unnamed: 9  \\\n",
              "1                          NaN   4 ขายได้ ใช้ระยะเวลา 4 - 6 เดือน         NaN   \n",
              "3                          NaN  3 ขายได้ ใช้ระยะเวลา 7 - 12 เดือน         NaN   \n",
              "5                          NaN  5 ขายง่าย ใช้ระยะเวลา 1 - 3 เดือน         NaN   \n",
              "7                          NaN  3 ขายได้ ใช้ระยะเวลา 7 - 12 เดือน         NaN   \n",
              "9                          NaN  3 ขายได้ ใช้ระยะเวลา 7 - 12 เดือน         NaN   \n",
              "..                         ...                                ...         ...   \n",
              "185                        NaN  3 ขายได้ ใช้ระยะเวลา 7 - 12 เดือน         NaN   \n",
              "186                        NaN  3 ขายได้ ใช้ระยะเวลา 7 - 12 เดือน         NaN   \n",
              "187                        NaN  3 ขายได้ ใช้ระยะเวลา 7 - 12 เดือน         NaN   \n",
              "188                        NaN  3 ขายได้ ใช้ระยะเวลา 7 - 12 เดือน         NaN   \n",
              "189                        NaN  3 ขายได้ ใช้ระยะเวลา 7 - 12 เดือน         NaN   \n",
              "\n",
              "     Unnamed: 10  Unnamed: 11  Unnamed: 12  Unnamed: 13  \n",
              "1            NaN          NaN          NaN          NaN  \n",
              "3            NaN          NaN          NaN          NaN  \n",
              "5            NaN          NaN          NaN          NaN  \n",
              "7            NaN          NaN          NaN          NaN  \n",
              "9            NaN          NaN          NaN          NaN  \n",
              "..           ...          ...          ...          ...  \n",
              "185          NaN          NaN          NaN          NaN  \n",
              "186          NaN          NaN          NaN          NaN  \n",
              "187          NaN          NaN          NaN          NaN  \n",
              "188          NaN          NaN          NaN          NaN  \n",
              "189          NaN          NaN          NaN          NaN  \n",
              "\n",
              "[90 rows x 14 columns]"
            ],
            "text/html": [
              "\n",
              "  <div id=\"df-22651329-b879-42d0-be3c-6949d0ea112c\">\n",
              "    <div class=\"colab-df-container\">\n",
              "      <div>\n",
              "<style scoped>\n",
              "    .dataframe tbody tr th:only-of-type {\n",
              "        vertical-align: middle;\n",
              "    }\n",
              "\n",
              "    .dataframe tbody tr th {\n",
              "        vertical-align: top;\n",
              "    }\n",
              "\n",
              "    .dataframe thead th {\n",
              "        text-align: right;\n",
              "    }\n",
              "</style>\n",
              "<table border=\"1\" class=\"dataframe\">\n",
              "  <thead>\n",
              "    <tr style=\"text-align: right;\">\n",
              "      <th></th>\n",
              "      <th>ID ผู้ประเมิน</th>\n",
              "      <th>post id</th>\n",
              "      <th>property_type</th>\n",
              "      <th>ความมั่นใจในการเมินราคาทรัพย์</th>\n",
              "      <th>ราคาทรัพย์</th>\n",
              "      <th>ประเมินราคาซื้อ-ขาย</th>\n",
              "      <th>ปัจจัยในการประเมินราคาซื้อ-ขาย</th>\n",
              "      <th>เหตุผลไม่มั่นใจราคาประเมิน</th>\n",
              "      <th>ให้คะแนนทรัพย์</th>\n",
              "      <th>Unnamed: 9</th>\n",
              "      <th>Unnamed: 10</th>\n",
              "      <th>Unnamed: 11</th>\n",
              "      <th>Unnamed: 12</th>\n",
              "      <th>Unnamed: 13</th>\n",
              "    </tr>\n",
              "  </thead>\n",
              "  <tbody>\n",
              "    <tr>\n",
              "      <th>1</th>\n",
              "      <td>2</td>\n",
              "      <td>https://nayoo.co/khonkaen/posts/25</td>\n",
              "      <td>บ้านเดี่ยว</td>\n",
              "      <td>มั่นใจ</td>\n",
              "      <td>2700000.0</td>\n",
              "      <td>2700000.0</td>\n",
              "      <td>โครงการนี้ราคาเสนอขาย 2,500,000-3,000,000 บาท/...</td>\n",
              "      <td>NaN</td>\n",
              "      <td>4 ขายได้ ใช้ระยะเวลา 4 - 6 เดือน</td>\n",
              "      <td>NaN</td>\n",
              "      <td>NaN</td>\n",
              "      <td>NaN</td>\n",
              "      <td>NaN</td>\n",
              "      <td>NaN</td>\n",
              "    </tr>\n",
              "    <tr>\n",
              "      <th>3</th>\n",
              "      <td>2</td>\n",
              "      <td>https://nayoo.co/khonkaen/posts/33</td>\n",
              "      <td>บ้านเดี่ยว</td>\n",
              "      <td>มั่นใจ</td>\n",
              "      <td>2600000.0</td>\n",
              "      <td>2400000.0</td>\n",
              "      <td>ราคาเสนอขายประมาณ 2,200,000 - 2,500,000 บาท/หลัง</td>\n",
              "      <td>NaN</td>\n",
              "      <td>3 ขายได้ ใช้ระยะเวลา 7 - 12 เดือน</td>\n",
              "      <td>NaN</td>\n",
              "      <td>NaN</td>\n",
              "      <td>NaN</td>\n",
              "      <td>NaN</td>\n",
              "      <td>NaN</td>\n",
              "    </tr>\n",
              "    <tr>\n",
              "      <th>5</th>\n",
              "      <td>2</td>\n",
              "      <td>https://nayoo.co/khonkaen/posts/495</td>\n",
              "      <td>บ้านเดี่ยว</td>\n",
              "      <td>มั่นใจ</td>\n",
              "      <td>5900000.0</td>\n",
              "      <td>9000000.0</td>\n",
              "      <td>โซนนี้ราคาซื้อขาย ประมาณ 10,000-20,000 บาท/ตาร...</td>\n",
              "      <td>NaN</td>\n",
              "      <td>5 ขายง่าย ใช้ระยะเวลา 1 - 3 เดือน</td>\n",
              "      <td>NaN</td>\n",
              "      <td>NaN</td>\n",
              "      <td>NaN</td>\n",
              "      <td>NaN</td>\n",
              "      <td>NaN</td>\n",
              "    </tr>\n",
              "    <tr>\n",
              "      <th>7</th>\n",
              "      <td>2</td>\n",
              "      <td>https://nayoo.co/khonkaen/posts/564</td>\n",
              "      <td>บ้านเดี่ยว</td>\n",
              "      <td>มั่นใจ</td>\n",
              "      <td>4400000.0</td>\n",
              "      <td>3700000.0</td>\n",
              "      <td>เสนอขาย 3,500,000 - 4,200,000 บาท/หลัง</td>\n",
              "      <td>NaN</td>\n",
              "      <td>3 ขายได้ ใช้ระยะเวลา 7 - 12 เดือน</td>\n",
              "      <td>NaN</td>\n",
              "      <td>NaN</td>\n",
              "      <td>NaN</td>\n",
              "      <td>NaN</td>\n",
              "      <td>NaN</td>\n",
              "    </tr>\n",
              "    <tr>\n",
              "      <th>9</th>\n",
              "      <td>2</td>\n",
              "      <td>https://nayoo.co/khonkaen/posts/566</td>\n",
              "      <td>บ้านเดี่ยว</td>\n",
              "      <td>มั่นใจ</td>\n",
              "      <td>2750000.0</td>\n",
              "      <td>2500000.0</td>\n",
              "      <td>ราคาเสนอขาย 2,000,0000 - 2,800,000 บาท/หลัง</td>\n",
              "      <td>NaN</td>\n",
              "      <td>3 ขายได้ ใช้ระยะเวลา 7 - 12 เดือน</td>\n",
              "      <td>NaN</td>\n",
              "      <td>NaN</td>\n",
              "      <td>NaN</td>\n",
              "      <td>NaN</td>\n",
              "      <td>NaN</td>\n",
              "    </tr>\n",
              "    <tr>\n",
              "      <th>...</th>\n",
              "      <td>...</td>\n",
              "      <td>...</td>\n",
              "      <td>...</td>\n",
              "      <td>...</td>\n",
              "      <td>...</td>\n",
              "      <td>...</td>\n",
              "      <td>...</td>\n",
              "      <td>...</td>\n",
              "      <td>...</td>\n",
              "      <td>...</td>\n",
              "      <td>...</td>\n",
              "      <td>...</td>\n",
              "      <td>...</td>\n",
              "      <td>...</td>\n",
              "    </tr>\n",
              "    <tr>\n",
              "      <th>185</th>\n",
              "      <td>2</td>\n",
              "      <td>https://nayoo.co/khonkaen/posts/19495</td>\n",
              "      <td>บ้านเดี่ยว</td>\n",
              "      <td>มั่นใจ</td>\n",
              "      <td>5500000.0</td>\n",
              "      <td>5000000.0</td>\n",
              "      <td>ราคาเสนอขาย 20,000-30,000 บาท/ตารางวา</td>\n",
              "      <td>NaN</td>\n",
              "      <td>3 ขายได้ ใช้ระยะเวลา 7 - 12 เดือน</td>\n",
              "      <td>NaN</td>\n",
              "      <td>NaN</td>\n",
              "      <td>NaN</td>\n",
              "      <td>NaN</td>\n",
              "      <td>NaN</td>\n",
              "    </tr>\n",
              "    <tr>\n",
              "      <th>186</th>\n",
              "      <td>2</td>\n",
              "      <td>https://nayoo.co/khonkaen/posts/19496</td>\n",
              "      <td>บ้านเดี่ยว</td>\n",
              "      <td>มั่นใจ</td>\n",
              "      <td>7911000.0</td>\n",
              "      <td>7400000.0</td>\n",
              "      <td>ราคาเสนอขาย 20,000 - 30,000 บาท/ตารางวา</td>\n",
              "      <td>NaN</td>\n",
              "      <td>3 ขายได้ ใช้ระยะเวลา 7 - 12 เดือน</td>\n",
              "      <td>NaN</td>\n",
              "      <td>NaN</td>\n",
              "      <td>NaN</td>\n",
              "      <td>NaN</td>\n",
              "      <td>NaN</td>\n",
              "    </tr>\n",
              "    <tr>\n",
              "      <th>187</th>\n",
              "      <td>2</td>\n",
              "      <td>https://nayoo.co/khonkaen/posts/20</td>\n",
              "      <td>บ้านเดี่ยว</td>\n",
              "      <td>มั่นใจ</td>\n",
              "      <td>2000000.0</td>\n",
              "      <td>2500000.0</td>\n",
              "      <td>ราคาเสนอขาย 2.2-3.0 ล้านบาท/หลัง</td>\n",
              "      <td>NaN</td>\n",
              "      <td>3 ขายได้ ใช้ระยะเวลา 7 - 12 เดือน</td>\n",
              "      <td>NaN</td>\n",
              "      <td>NaN</td>\n",
              "      <td>NaN</td>\n",
              "      <td>NaN</td>\n",
              "      <td>NaN</td>\n",
              "    </tr>\n",
              "    <tr>\n",
              "      <th>188</th>\n",
              "      <td>2</td>\n",
              "      <td>https://nayoo.co/khonkaen/posts/31</td>\n",
              "      <td>บ้านเดี่ยว</td>\n",
              "      <td>มั่นใจ</td>\n",
              "      <td>4000000.0</td>\n",
              "      <td>3900000.0</td>\n",
              "      <td>ราคาเสนอขาย 3.5-4.0ล้านบาท/หลัง</td>\n",
              "      <td>NaN</td>\n",
              "      <td>3 ขายได้ ใช้ระยะเวลา 7 - 12 เดือน</td>\n",
              "      <td>NaN</td>\n",
              "      <td>NaN</td>\n",
              "      <td>NaN</td>\n",
              "      <td>NaN</td>\n",
              "      <td>NaN</td>\n",
              "    </tr>\n",
              "    <tr>\n",
              "      <th>189</th>\n",
              "      <td>2</td>\n",
              "      <td>https://nayoo.co/khonkaen/posts/570</td>\n",
              "      <td>บ้านเดี่ยว</td>\n",
              "      <td>มั่นใจ</td>\n",
              "      <td>1375000.0</td>\n",
              "      <td>1400000.0</td>\n",
              "      <td>ราคาเสนอขาย 1.2-1.5 ล้านบาท/หลัง</td>\n",
              "      <td>NaN</td>\n",
              "      <td>3 ขายได้ ใช้ระยะเวลา 7 - 12 เดือน</td>\n",
              "      <td>NaN</td>\n",
              "      <td>NaN</td>\n",
              "      <td>NaN</td>\n",
              "      <td>NaN</td>\n",
              "      <td>NaN</td>\n",
              "    </tr>\n",
              "  </tbody>\n",
              "</table>\n",
              "<p>90 rows × 14 columns</p>\n",
              "</div>\n",
              "      <button class=\"colab-df-convert\" onclick=\"convertToInteractive('df-22651329-b879-42d0-be3c-6949d0ea112c')\"\n",
              "              title=\"Convert this dataframe to an interactive table.\"\n",
              "              style=\"display:none;\">\n",
              "        \n",
              "  <svg xmlns=\"http://www.w3.org/2000/svg\" height=\"24px\"viewBox=\"0 0 24 24\"\n",
              "       width=\"24px\">\n",
              "    <path d=\"M0 0h24v24H0V0z\" fill=\"none\"/>\n",
              "    <path d=\"M18.56 5.44l.94 2.06.94-2.06 2.06-.94-2.06-.94-.94-2.06-.94 2.06-2.06.94zm-11 1L8.5 8.5l.94-2.06 2.06-.94-2.06-.94L8.5 2.5l-.94 2.06-2.06.94zm10 10l.94 2.06.94-2.06 2.06-.94-2.06-.94-.94-2.06-.94 2.06-2.06.94z\"/><path d=\"M17.41 7.96l-1.37-1.37c-.4-.4-.92-.59-1.43-.59-.52 0-1.04.2-1.43.59L10.3 9.45l-7.72 7.72c-.78.78-.78 2.05 0 2.83L4 21.41c.39.39.9.59 1.41.59.51 0 1.02-.2 1.41-.59l7.78-7.78 2.81-2.81c.8-.78.8-2.07 0-2.86zM5.41 20L4 18.59l7.72-7.72 1.47 1.35L5.41 20z\"/>\n",
              "  </svg>\n",
              "      </button>\n",
              "      \n",
              "  <style>\n",
              "    .colab-df-container {\n",
              "      display:flex;\n",
              "      flex-wrap:wrap;\n",
              "      gap: 12px;\n",
              "    }\n",
              "\n",
              "    .colab-df-convert {\n",
              "      background-color: #E8F0FE;\n",
              "      border: none;\n",
              "      border-radius: 50%;\n",
              "      cursor: pointer;\n",
              "      display: none;\n",
              "      fill: #1967D2;\n",
              "      height: 32px;\n",
              "      padding: 0 0 0 0;\n",
              "      width: 32px;\n",
              "    }\n",
              "\n",
              "    .colab-df-convert:hover {\n",
              "      background-color: #E2EBFA;\n",
              "      box-shadow: 0px 1px 2px rgba(60, 64, 67, 0.3), 0px 1px 3px 1px rgba(60, 64, 67, 0.15);\n",
              "      fill: #174EA6;\n",
              "    }\n",
              "\n",
              "    [theme=dark] .colab-df-convert {\n",
              "      background-color: #3B4455;\n",
              "      fill: #D2E3FC;\n",
              "    }\n",
              "\n",
              "    [theme=dark] .colab-df-convert:hover {\n",
              "      background-color: #434B5C;\n",
              "      box-shadow: 0px 1px 3px 1px rgba(0, 0, 0, 0.15);\n",
              "      filter: drop-shadow(0px 1px 2px rgba(0, 0, 0, 0.3));\n",
              "      fill: #FFFFFF;\n",
              "    }\n",
              "  </style>\n",
              "\n",
              "      <script>\n",
              "        const buttonEl =\n",
              "          document.querySelector('#df-22651329-b879-42d0-be3c-6949d0ea112c button.colab-df-convert');\n",
              "        buttonEl.style.display =\n",
              "          google.colab.kernel.accessAllowed ? 'block' : 'none';\n",
              "\n",
              "        async function convertToInteractive(key) {\n",
              "          const element = document.querySelector('#df-22651329-b879-42d0-be3c-6949d0ea112c');\n",
              "          const dataTable =\n",
              "            await google.colab.kernel.invokeFunction('convertToInteractive',\n",
              "                                                     [key], {});\n",
              "          if (!dataTable) return;\n",
              "\n",
              "          const docLinkHtml = 'Like what you see? Visit the ' +\n",
              "            '<a target=\"_blank\" href=https://colab.research.google.com/notebooks/data_table.ipynb>data table notebook</a>'\n",
              "            + ' to learn more about interactive tables.';\n",
              "          element.innerHTML = '';\n",
              "          dataTable['output_type'] = 'display_data';\n",
              "          await google.colab.output.renderOutput(dataTable, element);\n",
              "          const docLink = document.createElement('div');\n",
              "          docLink.innerHTML = docLinkHtml;\n",
              "          element.appendChild(docLink);\n",
              "        }\n",
              "      </script>\n",
              "    </div>\n",
              "  </div>\n",
              "  "
            ]
          },
          "metadata": {},
          "execution_count": 11
        }
      ]
    },
    {
      "cell_type": "code",
      "source": [
        "est2['ความมั่นใจในการเมินราคาทรัพย์'].value_counts()"
      ],
      "metadata": {
        "colab": {
          "base_uri": "https://localhost:8080/"
        },
        "id": "YpCSNPG5keaE",
        "outputId": "4e5497db-91b1-470d-8e2a-6cf833279ba3"
      },
      "execution_count": null,
      "outputs": [
        {
          "output_type": "execute_result",
          "data": {
            "text/plain": [
              "มั่นใจ       89\n",
              "ไม่มั่นใจ     1\n",
              "Name: ความมั่นใจในการเมินราคาทรัพย์, dtype: int64"
            ]
          },
          "metadata": {},
          "execution_count": 12
        }
      ]
    },
    {
      "cell_type": "code",
      "source": [
        "est2['ให้คะแนนทรัพย์'].value_counts()"
      ],
      "metadata": {
        "colab": {
          "base_uri": "https://localhost:8080/"
        },
        "id": "aJ5siB5Dkll8",
        "outputId": "a64c3533-bdb5-48ae-db03-4fe364961dd2"
      },
      "execution_count": null,
      "outputs": [
        {
          "output_type": "execute_result",
          "data": {
            "text/plain": [
              "3 ขายได้ ใช้ระยะเวลา 7 - 12 เดือน     64\n",
              "4 ขายได้ ใช้ระยะเวลา 4 - 6 เดือน      23\n",
              "5 ขายง่าย ใช้ระยะเวลา 1 - 3 เดือน      1\n",
              "2 ขายได้ยาก ใช้ระยะเวลามากว่า 1 ปี     1\n",
              "Name: ให้คะแนนทรัพย์, dtype: int64"
            ]
          },
          "metadata": {},
          "execution_count": 13
        }
      ]
    },
    {
      "cell_type": "markdown",
      "source": [
        "###เปรียบเทียบความแตกต่างในการประเมินราคาทรัพย์แต่ละทรัพย์ของนักประเมินแต่ละคนและของราคาตั้งขาย ใช้ MAPE เป็นเกณฑ์ในการเปรียบเทียบ"
      ],
      "metadata": {
        "id": "hyfp9NyHhtpG"
      }
    },
    {
      "cell_type": "markdown",
      "source": [
        "####hint เริ่มต้นมาเราอยากได้ตารางรูปแบบนี้ก่อน"
      ],
      "metadata": {
        "id": "LcxaJyfMoLU-"
      }
    },
    {
      "cell_type": "markdown",
      "source": [
        "![ภาพหน้าจอ (87).png](data:image/png;base64,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)"
      ],
      "metadata": {
        "id": "3Y-USEGkoYu0"
      }
    },
    {
      "cell_type": "code",
      "source": [
        "est2['ประเมิน1'] = est2['post id'].map(est1.set_index('post id')['ประเมินราคาซื้อ-ขาย']);"
      ],
      "metadata": {
        "id": "plT68PzFpSMm",
        "outputId": "eab7c1c4-e6f2-4968-8b2d-f30399871515",
        "colab": {
          "base_uri": "https://localhost:8080/"
        }
      },
      "execution_count": null,
      "outputs": [
        {
          "output_type": "stream",
          "name": "stderr",
          "text": [
            "<ipython-input-14-dadc5741adfd>:1: SettingWithCopyWarning: \n",
            "A value is trying to be set on a copy of a slice from a DataFrame.\n",
            "Try using .loc[row_indexer,col_indexer] = value instead\n",
            "\n",
            "See the caveats in the documentation: https://pandas.pydata.org/pandas-docs/stable/user_guide/indexing.html#returning-a-view-versus-a-copy\n",
            "  est2['ประเมิน1'] = est2['post id'].map(est1.set_index('post id')['ประเมินราคาซื้อ-ขาย']);\n"
          ]
        }
      ]
    },
    {
      "cell_type": "code",
      "source": [
        "est2['ประเมิน2'] = est2['post id'].map(est2.set_index('post id')['ประเมินราคาซื้อ-ขาย']);"
      ],
      "metadata": {
        "id": "TdMA_WdZhW6c",
        "outputId": "1c60d97d-2d12-473c-d17f-cb8e0d569430",
        "colab": {
          "base_uri": "https://localhost:8080/"
        }
      },
      "execution_count": null,
      "outputs": [
        {
          "output_type": "stream",
          "name": "stderr",
          "text": [
            "<ipython-input-15-06f9de26e0cb>:1: SettingWithCopyWarning: \n",
            "A value is trying to be set on a copy of a slice from a DataFrame.\n",
            "Try using .loc[row_indexer,col_indexer] = value instead\n",
            "\n",
            "See the caveats in the documentation: https://pandas.pydata.org/pandas-docs/stable/user_guide/indexing.html#returning-a-view-versus-a-copy\n",
            "  est2['ประเมิน2'] = est2['post id'].map(est2.set_index('post id')['ประเมินราคาซื้อ-ขาย']);\n"
          ]
        }
      ]
    },
    {
      "cell_type": "code",
      "source": [
        "assess = est2[['post id','ราคาทรัพย์','ประเมิน1','ประเมิน2']]\n",
        "assess = assess.fillna(value={'ประเมิน2':est2['ประเมิน2'].mean()})\n",
        "assess"
      ],
      "metadata": {
        "id": "9hQfUN3AhexU",
        "outputId": "9b8115ec-fba7-4370-9813-40d49cdc35ca",
        "colab": {
          "base_uri": "https://localhost:8080/",
          "height": 424
        }
      },
      "execution_count": null,
      "outputs": [
        {
          "output_type": "execute_result",
          "data": {
            "text/plain": [
              "                                   post id  ราคาทรัพย์   ประเมิน1   ประเมิน2\n",
              "1       https://nayoo.co/khonkaen/posts/25   2700000.0  2500000.0  2700000.0\n",
              "3       https://nayoo.co/khonkaen/posts/33   2600000.0  2200000.0  2400000.0\n",
              "5      https://nayoo.co/khonkaen/posts/495   5900000.0  5000000.0  9000000.0\n",
              "7      https://nayoo.co/khonkaen/posts/564   4400000.0  3500000.0  3700000.0\n",
              "9      https://nayoo.co/khonkaen/posts/566   2750000.0  2500000.0  2500000.0\n",
              "..                                     ...         ...        ...        ...\n",
              "185  https://nayoo.co/khonkaen/posts/19495   5500000.0  4500000.0  5000000.0\n",
              "186  https://nayoo.co/khonkaen/posts/19496   7911000.0  5200000.0  7400000.0\n",
              "187     https://nayoo.co/khonkaen/posts/20   2000000.0  3600000.0  2500000.0\n",
              "188     https://nayoo.co/khonkaen/posts/31   4000000.0  4000000.0  3900000.0\n",
              "189    https://nayoo.co/khonkaen/posts/570   1375000.0  1200000.0  1400000.0\n",
              "\n",
              "[90 rows x 4 columns]"
            ],
            "text/html": [
              "\n",
              "  <div id=\"df-326729df-d116-4a79-b98b-f99cc4731b15\">\n",
              "    <div class=\"colab-df-container\">\n",
              "      <div>\n",
              "<style scoped>\n",
              "    .dataframe tbody tr th:only-of-type {\n",
              "        vertical-align: middle;\n",
              "    }\n",
              "\n",
              "    .dataframe tbody tr th {\n",
              "        vertical-align: top;\n",
              "    }\n",
              "\n",
              "    .dataframe thead th {\n",
              "        text-align: right;\n",
              "    }\n",
              "</style>\n",
              "<table border=\"1\" class=\"dataframe\">\n",
              "  <thead>\n",
              "    <tr style=\"text-align: right;\">\n",
              "      <th></th>\n",
              "      <th>post id</th>\n",
              "      <th>ราคาทรัพย์</th>\n",
              "      <th>ประเมิน1</th>\n",
              "      <th>ประเมิน2</th>\n",
              "    </tr>\n",
              "  </thead>\n",
              "  <tbody>\n",
              "    <tr>\n",
              "      <th>1</th>\n",
              "      <td>https://nayoo.co/khonkaen/posts/25</td>\n",
              "      <td>2700000.0</td>\n",
              "      <td>2500000.0</td>\n",
              "      <td>2700000.0</td>\n",
              "    </tr>\n",
              "    <tr>\n",
              "      <th>3</th>\n",
              "      <td>https://nayoo.co/khonkaen/posts/33</td>\n",
              "      <td>2600000.0</td>\n",
              "      <td>2200000.0</td>\n",
              "      <td>2400000.0</td>\n",
              "    </tr>\n",
              "    <tr>\n",
              "      <th>5</th>\n",
              "      <td>https://nayoo.co/khonkaen/posts/495</td>\n",
              "      <td>5900000.0</td>\n",
              "      <td>5000000.0</td>\n",
              "      <td>9000000.0</td>\n",
              "    </tr>\n",
              "    <tr>\n",
              "      <th>7</th>\n",
              "      <td>https://nayoo.co/khonkaen/posts/564</td>\n",
              "      <td>4400000.0</td>\n",
              "      <td>3500000.0</td>\n",
              "      <td>3700000.0</td>\n",
              "    </tr>\n",
              "    <tr>\n",
              "      <th>9</th>\n",
              "      <td>https://nayoo.co/khonkaen/posts/566</td>\n",
              "      <td>2750000.0</td>\n",
              "      <td>2500000.0</td>\n",
              "      <td>2500000.0</td>\n",
              "    </tr>\n",
              "    <tr>\n",
              "      <th>...</th>\n",
              "      <td>...</td>\n",
              "      <td>...</td>\n",
              "      <td>...</td>\n",
              "      <td>...</td>\n",
              "    </tr>\n",
              "    <tr>\n",
              "      <th>185</th>\n",
              "      <td>https://nayoo.co/khonkaen/posts/19495</td>\n",
              "      <td>5500000.0</td>\n",
              "      <td>4500000.0</td>\n",
              "      <td>5000000.0</td>\n",
              "    </tr>\n",
              "    <tr>\n",
              "      <th>186</th>\n",
              "      <td>https://nayoo.co/khonkaen/posts/19496</td>\n",
              "      <td>7911000.0</td>\n",
              "      <td>5200000.0</td>\n",
              "      <td>7400000.0</td>\n",
              "    </tr>\n",
              "    <tr>\n",
              "      <th>187</th>\n",
              "      <td>https://nayoo.co/khonkaen/posts/20</td>\n",
              "      <td>2000000.0</td>\n",
              "      <td>3600000.0</td>\n",
              "      <td>2500000.0</td>\n",
              "    </tr>\n",
              "    <tr>\n",
              "      <th>188</th>\n",
              "      <td>https://nayoo.co/khonkaen/posts/31</td>\n",
              "      <td>4000000.0</td>\n",
              "      <td>4000000.0</td>\n",
              "      <td>3900000.0</td>\n",
              "    </tr>\n",
              "    <tr>\n",
              "      <th>189</th>\n",
              "      <td>https://nayoo.co/khonkaen/posts/570</td>\n",
              "      <td>1375000.0</td>\n",
              "      <td>1200000.0</td>\n",
              "      <td>1400000.0</td>\n",
              "    </tr>\n",
              "  </tbody>\n",
              "</table>\n",
              "<p>90 rows × 4 columns</p>\n",
              "</div>\n",
              "      <button class=\"colab-df-convert\" onclick=\"convertToInteractive('df-326729df-d116-4a79-b98b-f99cc4731b15')\"\n",
              "              title=\"Convert this dataframe to an interactive table.\"\n",
              "              style=\"display:none;\">\n",
              "        \n",
              "  <svg xmlns=\"http://www.w3.org/2000/svg\" height=\"24px\"viewBox=\"0 0 24 24\"\n",
              "       width=\"24px\">\n",
              "    <path d=\"M0 0h24v24H0V0z\" fill=\"none\"/>\n",
              "    <path d=\"M18.56 5.44l.94 2.06.94-2.06 2.06-.94-2.06-.94-.94-2.06-.94 2.06-2.06.94zm-11 1L8.5 8.5l.94-2.06 2.06-.94-2.06-.94L8.5 2.5l-.94 2.06-2.06.94zm10 10l.94 2.06.94-2.06 2.06-.94-2.06-.94-.94-2.06-.94 2.06-2.06.94z\"/><path d=\"M17.41 7.96l-1.37-1.37c-.4-.4-.92-.59-1.43-.59-.52 0-1.04.2-1.43.59L10.3 9.45l-7.72 7.72c-.78.78-.78 2.05 0 2.83L4 21.41c.39.39.9.59 1.41.59.51 0 1.02-.2 1.41-.59l7.78-7.78 2.81-2.81c.8-.78.8-2.07 0-2.86zM5.41 20L4 18.59l7.72-7.72 1.47 1.35L5.41 20z\"/>\n",
              "  </svg>\n",
              "      </button>\n",
              "      \n",
              "  <style>\n",
              "    .colab-df-container {\n",
              "      display:flex;\n",
              "      flex-wrap:wrap;\n",
              "      gap: 12px;\n",
              "    }\n",
              "\n",
              "    .colab-df-convert {\n",
              "      background-color: #E8F0FE;\n",
              "      border: none;\n",
              "      border-radius: 50%;\n",
              "      cursor: pointer;\n",
              "      display: none;\n",
              "      fill: #1967D2;\n",
              "      height: 32px;\n",
              "      padding: 0 0 0 0;\n",
              "      width: 32px;\n",
              "    }\n",
              "\n",
              "    .colab-df-convert:hover {\n",
              "      background-color: #E2EBFA;\n",
              "      box-shadow: 0px 1px 2px rgba(60, 64, 67, 0.3), 0px 1px 3px 1px rgba(60, 64, 67, 0.15);\n",
              "      fill: #174EA6;\n",
              "    }\n",
              "\n",
              "    [theme=dark] .colab-df-convert {\n",
              "      background-color: #3B4455;\n",
              "      fill: #D2E3FC;\n",
              "    }\n",
              "\n",
              "    [theme=dark] .colab-df-convert:hover {\n",
              "      background-color: #434B5C;\n",
              "      box-shadow: 0px 1px 3px 1px rgba(0, 0, 0, 0.15);\n",
              "      filter: drop-shadow(0px 1px 2px rgba(0, 0, 0, 0.3));\n",
              "      fill: #FFFFFF;\n",
              "    }\n",
              "  </style>\n",
              "\n",
              "      <script>\n",
              "        const buttonEl =\n",
              "          document.querySelector('#df-326729df-d116-4a79-b98b-f99cc4731b15 button.colab-df-convert');\n",
              "        buttonEl.style.display =\n",
              "          google.colab.kernel.accessAllowed ? 'block' : 'none';\n",
              "\n",
              "        async function convertToInteractive(key) {\n",
              "          const element = document.querySelector('#df-326729df-d116-4a79-b98b-f99cc4731b15');\n",
              "          const dataTable =\n",
              "            await google.colab.kernel.invokeFunction('convertToInteractive',\n",
              "                                                     [key], {});\n",
              "          if (!dataTable) return;\n",
              "\n",
              "          const docLinkHtml = 'Like what you see? Visit the ' +\n",
              "            '<a target=\"_blank\" href=https://colab.research.google.com/notebooks/data_table.ipynb>data table notebook</a>'\n",
              "            + ' to learn more about interactive tables.';\n",
              "          element.innerHTML = '';\n",
              "          dataTable['output_type'] = 'display_data';\n",
              "          await google.colab.output.renderOutput(dataTable, element);\n",
              "          const docLink = document.createElement('div');\n",
              "          docLink.innerHTML = docLinkHtml;\n",
              "          element.appendChild(docLink);\n",
              "        }\n",
              "      </script>\n",
              "    </div>\n",
              "  </div>\n",
              "  "
            ]
          },
          "metadata": {},
          "execution_count": 16
        }
      ]
    },
    {
      "cell_type": "code",
      "source": [
        "assess.isnull().sum()"
      ],
      "metadata": {
        "id": "sm1MhFrOhiOK",
        "outputId": "e25cdf4c-668a-4f8e-cf81-0e9ba1d04c4b",
        "colab": {
          "base_uri": "https://localhost:8080/"
        }
      },
      "execution_count": null,
      "outputs": [
        {
          "output_type": "execute_result",
          "data": {
            "text/plain": [
              "post id       0\n",
              "ราคาทรัพย์    0\n",
              "ประเมิน1      0\n",
              "ประเมิน2      0\n",
              "dtype: int64"
            ]
          },
          "metadata": {},
          "execution_count": 17
        }
      ]
    },
    {
      "cell_type": "markdown",
      "source": [
        "#### MAPE"
      ],
      "metadata": {
        "id": "Rl-FfC5rhlNb"
      }
    },
    {
      "cell_type": "code",
      "source": [
        "from sklearn.metrics import mean_absolute_percentage_error as mape\n",
        "#Note: Keep in mind that the function does not represent the output as a percentage in the range [0, 100].\n",
        "#Instead, we represent it in the range [0, 1/eps]. The best value is 0.0."
      ],
      "metadata": {
        "id": "RQlU6Jb6hp4H"
      },
      "execution_count": null,
      "outputs": []
    },
    {
      "cell_type": "code",
      "source": [
        "actual = assess['ราคาทรัพย์']\n",
        "pre1 = assess['ประเมิน1']\n",
        "pre2 = assess['ประเมิน2']"
      ],
      "metadata": {
        "id": "wecCqn4ehwT7"
      },
      "execution_count": null,
      "outputs": []
    },
    {
      "cell_type": "code",
      "source": [
        "pred1 = mape(actual, pre1)\n",
        "pred2 = mape(actual, pre2)\n",
        "mapeh = mape(pre1,pre2)"
      ],
      "metadata": {
        "id": "0WAUwuKKh4bC"
      },
      "execution_count": null,
      "outputs": []
    },
    {
      "cell_type": "code",
      "source": [
        "print(f'ผู้ประเมินคนที่ 1 ได้ค่า MAPE เท่ากับ {pred1:.2f}\\nผู้ประเมินคนที่ 2 ได้ค่า MAPE เท่ากับ {pred2:.2f}\\nแสดงว่าผู้ประเมินคนที่ 2 สามารถประเมินราคาซื้อ-ขายบ้านได้แม่นยำกว่า\\nราคาตั้งขายของผู้ประเมินคนที่ 1 กับ ผู้ประเมินคนที่ 2 ได้ค่า MAPE เท่ากับ {mapeh:.2f}')"
      ],
      "metadata": {
        "id": "bs4-oLIgh9R1",
        "outputId": "e14897bc-cfc3-41f0-96f3-58e928719606",
        "colab": {
          "base_uri": "https://localhost:8080/"
        }
      },
      "execution_count": null,
      "outputs": [
        {
          "output_type": "stream",
          "name": "stdout",
          "text": [
            "ผู้ประเมินคนที่ 1 ได้ค่า MAPE เท่ากับ 0.12\n",
            "ผู้ประเมินคนที่ 2 ได้ค่า MAPE เท่ากับ 0.10\n",
            "แสดงว่าผู้ประเมินคนที่ 2 สามารถประเมินราคาซื้อ-ขายบ้านได้แม่นยำกว่า\n",
            "ราคาตั้งขายของผู้ประเมินคนที่ 1 กับ ผู้ประเมินคนที่ 2 ได้ค่า MAPE เท่ากับ 0.14\n"
          ]
        }
      ]
    },
    {
      "cell_type": "markdown",
      "source": [
        "### Land"
      ],
      "metadata": {
        "id": "7Ks-fv9JiCue"
      }
    },
    {
      "cell_type": "code",
      "source": [
        "land = pd.read_excel('/content/drive/MyDrive/data/คำตอบนักประเมิน.xlsx',sheet_name='ที่ดิน')\n",
        "land.head(3)"
      ],
      "metadata": {
        "id": "p8sd35c8iF3w",
        "outputId": "dbddb5e5-6154-4f3f-bd27-641d90193d3b",
        "colab": {
          "base_uri": "https://localhost:8080/",
          "height": 326
        }
      },
      "execution_count": null,
      "outputs": [
        {
          "output_type": "execute_result",
          "data": {
            "text/plain": [
              "   ID ผู้ประเมิน                               post id property_type  \\\n",
              "0              1  https://nayoo.co/khonkaen/posts/1033        ที่ดิน   \n",
              "1              2  https://nayoo.co/khonkaen/posts/1033        ที่ดิน   \n",
              "2              4  https://nayoo.co/khonkaen/posts/1033        ที่ดิน   \n",
              "\n",
              "  ความมั่นใจในการเมินราคาทรัพย์  ราคาทรัพย์  ประเมินราคาซื้อ-ขาย  \\\n",
              "0                        มั่นใจ     2800000            1800000.0   \n",
              "1                        มั่นใจ     2800000            2000000.0   \n",
              "2                        มั่นใจ     2800000            3000000.0   \n",
              "\n",
              "          ปัจจัยในการประเมินราคาซื้อ-ขาย เหตุผลไม่มั่นใจราคาประเมิน  \\\n",
              "0                           8,000-25,000                        NaN   \n",
              "1  ราคาเสนอขาย 7,000-12,0000 บาท/ตารางวา                        NaN   \n",
              "2                            12000-18000                        NaN   \n",
              "\n",
              "                       ให้คะแนนทรัพย์  Unnamed: 9  \\\n",
              "0   3 ขายได้ ใช้ระยะเวลา 7 - 12 เดือน         3.0   \n",
              "1  2 ขายได้ยาก ใช้ระยะเวลามากว่า 1 ปี         2.0   \n",
              "2   3 ขายได้ ใช้ระยะเวลา 7 - 12 เดือน         3.0   \n",
              "\n",
              "                     Unnamed: 10  Unnamed: 11  Unnamed: 12  \n",
              "0  ขายได้ ใช้ระยะเวลา 7-12 เดือน          NaN        100.0  \n",
              "1   ขายได้ ใช้ระยะเวลา 4-6 เดือน          NaN          NaN  \n",
              "2  ขายได้ ใช้ระยะเวลา 7-12 เดือน          NaN          NaN  "
            ],
            "text/html": [
              "\n",
              "  <div id=\"df-6d2051c9-fee3-403f-85d7-b07cb43cbf33\">\n",
              "    <div class=\"colab-df-container\">\n",
              "      <div>\n",
              "<style scoped>\n",
              "    .dataframe tbody tr th:only-of-type {\n",
              "        vertical-align: middle;\n",
              "    }\n",
              "\n",
              "    .dataframe tbody tr th {\n",
              "        vertical-align: top;\n",
              "    }\n",
              "\n",
              "    .dataframe thead th {\n",
              "        text-align: right;\n",
              "    }\n",
              "</style>\n",
              "<table border=\"1\" class=\"dataframe\">\n",
              "  <thead>\n",
              "    <tr style=\"text-align: right;\">\n",
              "      <th></th>\n",
              "      <th>ID ผู้ประเมิน</th>\n",
              "      <th>post id</th>\n",
              "      <th>property_type</th>\n",
              "      <th>ความมั่นใจในการเมินราคาทรัพย์</th>\n",
              "      <th>ราคาทรัพย์</th>\n",
              "      <th>ประเมินราคาซื้อ-ขาย</th>\n",
              "      <th>ปัจจัยในการประเมินราคาซื้อ-ขาย</th>\n",
              "      <th>เหตุผลไม่มั่นใจราคาประเมิน</th>\n",
              "      <th>ให้คะแนนทรัพย์</th>\n",
              "      <th>Unnamed: 9</th>\n",
              "      <th>Unnamed: 10</th>\n",
              "      <th>Unnamed: 11</th>\n",
              "      <th>Unnamed: 12</th>\n",
              "    </tr>\n",
              "  </thead>\n",
              "  <tbody>\n",
              "    <tr>\n",
              "      <th>0</th>\n",
              "      <td>1</td>\n",
              "      <td>https://nayoo.co/khonkaen/posts/1033</td>\n",
              "      <td>ที่ดิน</td>\n",
              "      <td>มั่นใจ</td>\n",
              "      <td>2800000</td>\n",
              "      <td>1800000.0</td>\n",
              "      <td>8,000-25,000</td>\n",
              "      <td>NaN</td>\n",
              "      <td>3 ขายได้ ใช้ระยะเวลา 7 - 12 เดือน</td>\n",
              "      <td>3.0</td>\n",
              "      <td>ขายได้ ใช้ระยะเวลา 7-12 เดือน</td>\n",
              "      <td>NaN</td>\n",
              "      <td>100.0</td>\n",
              "    </tr>\n",
              "    <tr>\n",
              "      <th>1</th>\n",
              "      <td>2</td>\n",
              "      <td>https://nayoo.co/khonkaen/posts/1033</td>\n",
              "      <td>ที่ดิน</td>\n",
              "      <td>มั่นใจ</td>\n",
              "      <td>2800000</td>\n",
              "      <td>2000000.0</td>\n",
              "      <td>ราคาเสนอขาย 7,000-12,0000 บาท/ตารางวา</td>\n",
              "      <td>NaN</td>\n",
              "      <td>2 ขายได้ยาก ใช้ระยะเวลามากว่า 1 ปี</td>\n",
              "      <td>2.0</td>\n",
              "      <td>ขายได้ ใช้ระยะเวลา 4-6 เดือน</td>\n",
              "      <td>NaN</td>\n",
              "      <td>NaN</td>\n",
              "    </tr>\n",
              "    <tr>\n",
              "      <th>2</th>\n",
              "      <td>4</td>\n",
              "      <td>https://nayoo.co/khonkaen/posts/1033</td>\n",
              "      <td>ที่ดิน</td>\n",
              "      <td>มั่นใจ</td>\n",
              "      <td>2800000</td>\n",
              "      <td>3000000.0</td>\n",
              "      <td>12000-18000</td>\n",
              "      <td>NaN</td>\n",
              "      <td>3 ขายได้ ใช้ระยะเวลา 7 - 12 เดือน</td>\n",
              "      <td>3.0</td>\n",
              "      <td>ขายได้ ใช้ระยะเวลา 7-12 เดือน</td>\n",
              "      <td>NaN</td>\n",
              "      <td>NaN</td>\n",
              "    </tr>\n",
              "  </tbody>\n",
              "</table>\n",
              "</div>\n",
              "      <button class=\"colab-df-convert\" onclick=\"convertToInteractive('df-6d2051c9-fee3-403f-85d7-b07cb43cbf33')\"\n",
              "              title=\"Convert this dataframe to an interactive table.\"\n",
              "              style=\"display:none;\">\n",
              "        \n",
              "  <svg xmlns=\"http://www.w3.org/2000/svg\" height=\"24px\"viewBox=\"0 0 24 24\"\n",
              "       width=\"24px\">\n",
              "    <path d=\"M0 0h24v24H0V0z\" fill=\"none\"/>\n",
              "    <path d=\"M18.56 5.44l.94 2.06.94-2.06 2.06-.94-2.06-.94-.94-2.06-.94 2.06-2.06.94zm-11 1L8.5 8.5l.94-2.06 2.06-.94-2.06-.94L8.5 2.5l-.94 2.06-2.06.94zm10 10l.94 2.06.94-2.06 2.06-.94-2.06-.94-.94-2.06-.94 2.06-2.06.94z\"/><path d=\"M17.41 7.96l-1.37-1.37c-.4-.4-.92-.59-1.43-.59-.52 0-1.04.2-1.43.59L10.3 9.45l-7.72 7.72c-.78.78-.78 2.05 0 2.83L4 21.41c.39.39.9.59 1.41.59.51 0 1.02-.2 1.41-.59l7.78-7.78 2.81-2.81c.8-.78.8-2.07 0-2.86zM5.41 20L4 18.59l7.72-7.72 1.47 1.35L5.41 20z\"/>\n",
              "  </svg>\n",
              "      </button>\n",
              "      \n",
              "  <style>\n",
              "    .colab-df-container {\n",
              "      display:flex;\n",
              "      flex-wrap:wrap;\n",
              "      gap: 12px;\n",
              "    }\n",
              "\n",
              "    .colab-df-convert {\n",
              "      background-color: #E8F0FE;\n",
              "      border: none;\n",
              "      border-radius: 50%;\n",
              "      cursor: pointer;\n",
              "      display: none;\n",
              "      fill: #1967D2;\n",
              "      height: 32px;\n",
              "      padding: 0 0 0 0;\n",
              "      width: 32px;\n",
              "    }\n",
              "\n",
              "    .colab-df-convert:hover {\n",
              "      background-color: #E2EBFA;\n",
              "      box-shadow: 0px 1px 2px rgba(60, 64, 67, 0.3), 0px 1px 3px 1px rgba(60, 64, 67, 0.15);\n",
              "      fill: #174EA6;\n",
              "    }\n",
              "\n",
              "    [theme=dark] .colab-df-convert {\n",
              "      background-color: #3B4455;\n",
              "      fill: #D2E3FC;\n",
              "    }\n",
              "\n",
              "    [theme=dark] .colab-df-convert:hover {\n",
              "      background-color: #434B5C;\n",
              "      box-shadow: 0px 1px 3px 1px rgba(0, 0, 0, 0.15);\n",
              "      filter: drop-shadow(0px 1px 2px rgba(0, 0, 0, 0.3));\n",
              "      fill: #FFFFFF;\n",
              "    }\n",
              "  </style>\n",
              "\n",
              "      <script>\n",
              "        const buttonEl =\n",
              "          document.querySelector('#df-6d2051c9-fee3-403f-85d7-b07cb43cbf33 button.colab-df-convert');\n",
              "        buttonEl.style.display =\n",
              "          google.colab.kernel.accessAllowed ? 'block' : 'none';\n",
              "\n",
              "        async function convertToInteractive(key) {\n",
              "          const element = document.querySelector('#df-6d2051c9-fee3-403f-85d7-b07cb43cbf33');\n",
              "          const dataTable =\n",
              "            await google.colab.kernel.invokeFunction('convertToInteractive',\n",
              "                                                     [key], {});\n",
              "          if (!dataTable) return;\n",
              "\n",
              "          const docLinkHtml = 'Like what you see? Visit the ' +\n",
              "            '<a target=\"_blank\" href=https://colab.research.google.com/notebooks/data_table.ipynb>data table notebook</a>'\n",
              "            + ' to learn more about interactive tables.';\n",
              "          element.innerHTML = '';\n",
              "          dataTable['output_type'] = 'display_data';\n",
              "          await google.colab.output.renderOutput(dataTable, element);\n",
              "          const docLink = document.createElement('div');\n",
              "          docLink.innerHTML = docLinkHtml;\n",
              "          element.appendChild(docLink);\n",
              "        }\n",
              "      </script>\n",
              "    </div>\n",
              "  </div>\n",
              "  "
            ]
          },
          "metadata": {},
          "execution_count": 25
        }
      ]
    },
    {
      "cell_type": "code",
      "source": [
        "land['ID ผู้ประเมิน'].value_counts()"
      ],
      "metadata": {
        "id": "QMaSZiD7iVIm",
        "outputId": "220e6e01-09bf-4ad7-bd37-ad88b3d14212",
        "colab": {
          "base_uri": "https://localhost:8080/"
        }
      },
      "execution_count": null,
      "outputs": [
        {
          "output_type": "execute_result",
          "data": {
            "text/plain": [
              "1    100\n",
              "2    100\n",
              "4     10\n",
              "Name: ID ผู้ประเมิน, dtype: int64"
            ]
          },
          "metadata": {},
          "execution_count": 65
        }
      ]
    },
    {
      "cell_type": "code",
      "source": [
        "est1_land = land[land['ID ผู้ประเมิน']==1]"
      ],
      "metadata": {
        "id": "Zj3nrklzichU"
      },
      "execution_count": null,
      "outputs": []
    },
    {
      "cell_type": "code",
      "source": [
        "est2_land = land[land['ID ผู้ประเมิน']==2]"
      ],
      "metadata": {
        "id": "5pr_XLt_ifXk"
      },
      "execution_count": null,
      "outputs": []
    },
    {
      "cell_type": "code",
      "source": [
        "est2_l['ประเมิน1'] = est2_l['post id'].map(est1_l.set_index('post id')['ประเมินราคาซื้อ-ขาย']);"
      ],
      "metadata": {
        "id": "moZYzBGIijRz",
        "outputId": "319b2b12-1543-4e0d-bc8e-57d6d09a43b2",
        "colab": {
          "base_uri": "https://localhost:8080/"
        }
      },
      "execution_count": null,
      "outputs": [
        {
          "output_type": "stream",
          "name": "stderr",
          "text": [
            "<ipython-input-29-c6430982f1d5>:1: SettingWithCopyWarning: \n",
            "A value is trying to be set on a copy of a slice from a DataFrame.\n",
            "Try using .loc[row_indexer,col_indexer] = value instead\n",
            "\n",
            "See the caveats in the documentation: https://pandas.pydata.org/pandas-docs/stable/user_guide/indexing.html#returning-a-view-versus-a-copy\n",
            "  est2_l['ประเมิน1'] = est2_l['post id'].map(est1_l.set_index('post id')['ประเมินราคาซื้อ-ขาย']);\n"
          ]
        }
      ]
    },
    {
      "cell_type": "code",
      "source": [
        "est2_l['ประเมิน2'] = est2_l['post id'].map(est2_l.set_index('post id')['ประเมินราคาซื้อ-ขาย']);"
      ],
      "metadata": {
        "id": "08xYUvneimbe",
        "outputId": "cf3cc5e0-a37c-4c71-9529-3a15c5cb966c",
        "colab": {
          "base_uri": "https://localhost:8080/"
        }
      },
      "execution_count": null,
      "outputs": [
        {
          "output_type": "stream",
          "name": "stderr",
          "text": [
            "<ipython-input-30-450ec50337ba>:1: SettingWithCopyWarning: \n",
            "A value is trying to be set on a copy of a slice from a DataFrame.\n",
            "Try using .loc[row_indexer,col_indexer] = value instead\n",
            "\n",
            "See the caveats in the documentation: https://pandas.pydata.org/pandas-docs/stable/user_guide/indexing.html#returning-a-view-versus-a-copy\n",
            "  est2_l['ประเมิน2'] = est2_l['post id'].map(est2_l.set_index('post id')['ประเมินราคาซื้อ-ขาย']);\n"
          ]
        }
      ]
    },
    {
      "cell_type": "markdown",
      "source": [
        "####Table"
      ],
      "metadata": {
        "id": "e1ZvRomCipZ7"
      }
    },
    {
      "cell_type": "code",
      "source": [
        "assess_land = est2_l[['post id','ราคาทรัพย์','ประเมิน1','ประเมิน2']]\n",
        "assess_land"
      ],
      "metadata": {
        "id": "ZcUW9mLSiono",
        "outputId": "48739ec0-724a-45d7-e12b-e0957aafd2c2",
        "colab": {
          "base_uri": "https://localhost:8080/",
          "height": 424
        }
      },
      "execution_count": null,
      "outputs": [
        {
          "output_type": "execute_result",
          "data": {
            "text/plain": [
              "                                   post id  ราคาทรัพย์    ประเมิน1    ประเมิน2\n",
              "1     https://nayoo.co/khonkaen/posts/1033     2800000   1800000.0   2000000.0\n",
              "4     https://nayoo.co/khonkaen/posts/1711    14900000   8000000.0  12000000.0\n",
              "7     https://nayoo.co/khonkaen/posts/1726    90000000  18000000.0  70000000.0\n",
              "10    https://nayoo.co/khonkaen/posts/1732    65000000  35000000.0  60000000.0\n",
              "13    https://nayoo.co/khonkaen/posts/1866     3000000   2200000.0   2500000.0\n",
              "..                                     ...         ...         ...         ...\n",
              "200  https://nayoo.co/khonkaen/posts/14539     5000000   4000000.0   4000000.0\n",
              "202  https://nayoo.co/khonkaen/posts/16072      750000    500000.0    750000.0\n",
              "204  https://nayoo.co/khonkaen/posts/17093     2650000   2000000.0   2500000.0\n",
              "206  https://nayoo.co/khonkaen/posts/17112     1300000   1500000.0   1500000.0\n",
              "208  https://nayoo.co/khonkaen/posts/17145     3000000   2500000.0   2800000.0\n",
              "\n",
              "[100 rows x 4 columns]"
            ],
            "text/html": [
              "\n",
              "  <div id=\"df-a135fa68-4391-4eeb-a4ee-d11a1494f22c\">\n",
              "    <div class=\"colab-df-container\">\n",
              "      <div>\n",
              "<style scoped>\n",
              "    .dataframe tbody tr th:only-of-type {\n",
              "        vertical-align: middle;\n",
              "    }\n",
              "\n",
              "    .dataframe tbody tr th {\n",
              "        vertical-align: top;\n",
              "    }\n",
              "\n",
              "    .dataframe thead th {\n",
              "        text-align: right;\n",
              "    }\n",
              "</style>\n",
              "<table border=\"1\" class=\"dataframe\">\n",
              "  <thead>\n",
              "    <tr style=\"text-align: right;\">\n",
              "      <th></th>\n",
              "      <th>post id</th>\n",
              "      <th>ราคาทรัพย์</th>\n",
              "      <th>ประเมิน1</th>\n",
              "      <th>ประเมิน2</th>\n",
              "    </tr>\n",
              "  </thead>\n",
              "  <tbody>\n",
              "    <tr>\n",
              "      <th>1</th>\n",
              "      <td>https://nayoo.co/khonkaen/posts/1033</td>\n",
              "      <td>2800000</td>\n",
              "      <td>1800000.0</td>\n",
              "      <td>2000000.0</td>\n",
              "    </tr>\n",
              "    <tr>\n",
              "      <th>4</th>\n",
              "      <td>https://nayoo.co/khonkaen/posts/1711</td>\n",
              "      <td>14900000</td>\n",
              "      <td>8000000.0</td>\n",
              "      <td>12000000.0</td>\n",
              "    </tr>\n",
              "    <tr>\n",
              "      <th>7</th>\n",
              "      <td>https://nayoo.co/khonkaen/posts/1726</td>\n",
              "      <td>90000000</td>\n",
              "      <td>18000000.0</td>\n",
              "      <td>70000000.0</td>\n",
              "    </tr>\n",
              "    <tr>\n",
              "      <th>10</th>\n",
              "      <td>https://nayoo.co/khonkaen/posts/1732</td>\n",
              "      <td>65000000</td>\n",
              "      <td>35000000.0</td>\n",
              "      <td>60000000.0</td>\n",
              "    </tr>\n",
              "    <tr>\n",
              "      <th>13</th>\n",
              "      <td>https://nayoo.co/khonkaen/posts/1866</td>\n",
              "      <td>3000000</td>\n",
              "      <td>2200000.0</td>\n",
              "      <td>2500000.0</td>\n",
              "    </tr>\n",
              "    <tr>\n",
              "      <th>...</th>\n",
              "      <td>...</td>\n",
              "      <td>...</td>\n",
              "      <td>...</td>\n",
              "      <td>...</td>\n",
              "    </tr>\n",
              "    <tr>\n",
              "      <th>200</th>\n",
              "      <td>https://nayoo.co/khonkaen/posts/14539</td>\n",
              "      <td>5000000</td>\n",
              "      <td>4000000.0</td>\n",
              "      <td>4000000.0</td>\n",
              "    </tr>\n",
              "    <tr>\n",
              "      <th>202</th>\n",
              "      <td>https://nayoo.co/khonkaen/posts/16072</td>\n",
              "      <td>750000</td>\n",
              "      <td>500000.0</td>\n",
              "      <td>750000.0</td>\n",
              "    </tr>\n",
              "    <tr>\n",
              "      <th>204</th>\n",
              "      <td>https://nayoo.co/khonkaen/posts/17093</td>\n",
              "      <td>2650000</td>\n",
              "      <td>2000000.0</td>\n",
              "      <td>2500000.0</td>\n",
              "    </tr>\n",
              "    <tr>\n",
              "      <th>206</th>\n",
              "      <td>https://nayoo.co/khonkaen/posts/17112</td>\n",
              "      <td>1300000</td>\n",
              "      <td>1500000.0</td>\n",
              "      <td>1500000.0</td>\n",
              "    </tr>\n",
              "    <tr>\n",
              "      <th>208</th>\n",
              "      <td>https://nayoo.co/khonkaen/posts/17145</td>\n",
              "      <td>3000000</td>\n",
              "      <td>2500000.0</td>\n",
              "      <td>2800000.0</td>\n",
              "    </tr>\n",
              "  </tbody>\n",
              "</table>\n",
              "<p>100 rows × 4 columns</p>\n",
              "</div>\n",
              "      <button class=\"colab-df-convert\" onclick=\"convertToInteractive('df-a135fa68-4391-4eeb-a4ee-d11a1494f22c')\"\n",
              "              title=\"Convert this dataframe to an interactive table.\"\n",
              "              style=\"display:none;\">\n",
              "        \n",
              "  <svg xmlns=\"http://www.w3.org/2000/svg\" height=\"24px\"viewBox=\"0 0 24 24\"\n",
              "       width=\"24px\">\n",
              "    <path d=\"M0 0h24v24H0V0z\" fill=\"none\"/>\n",
              "    <path d=\"M18.56 5.44l.94 2.06.94-2.06 2.06-.94-2.06-.94-.94-2.06-.94 2.06-2.06.94zm-11 1L8.5 8.5l.94-2.06 2.06-.94-2.06-.94L8.5 2.5l-.94 2.06-2.06.94zm10 10l.94 2.06.94-2.06 2.06-.94-2.06-.94-.94-2.06-.94 2.06-2.06.94z\"/><path d=\"M17.41 7.96l-1.37-1.37c-.4-.4-.92-.59-1.43-.59-.52 0-1.04.2-1.43.59L10.3 9.45l-7.72 7.72c-.78.78-.78 2.05 0 2.83L4 21.41c.39.39.9.59 1.41.59.51 0 1.02-.2 1.41-.59l7.78-7.78 2.81-2.81c.8-.78.8-2.07 0-2.86zM5.41 20L4 18.59l7.72-7.72 1.47 1.35L5.41 20z\"/>\n",
              "  </svg>\n",
              "      </button>\n",
              "      \n",
              "  <style>\n",
              "    .colab-df-container {\n",
              "      display:flex;\n",
              "      flex-wrap:wrap;\n",
              "      gap: 12px;\n",
              "    }\n",
              "\n",
              "    .colab-df-convert {\n",
              "      background-color: #E8F0FE;\n",
              "      border: none;\n",
              "      border-radius: 50%;\n",
              "      cursor: pointer;\n",
              "      display: none;\n",
              "      fill: #1967D2;\n",
              "      height: 32px;\n",
              "      padding: 0 0 0 0;\n",
              "      width: 32px;\n",
              "    }\n",
              "\n",
              "    .colab-df-convert:hover {\n",
              "      background-color: #E2EBFA;\n",
              "      box-shadow: 0px 1px 2px rgba(60, 64, 67, 0.3), 0px 1px 3px 1px rgba(60, 64, 67, 0.15);\n",
              "      fill: #174EA6;\n",
              "    }\n",
              "\n",
              "    [theme=dark] .colab-df-convert {\n",
              "      background-color: #3B4455;\n",
              "      fill: #D2E3FC;\n",
              "    }\n",
              "\n",
              "    [theme=dark] .colab-df-convert:hover {\n",
              "      background-color: #434B5C;\n",
              "      box-shadow: 0px 1px 3px 1px rgba(0, 0, 0, 0.15);\n",
              "      filter: drop-shadow(0px 1px 2px rgba(0, 0, 0, 0.3));\n",
              "      fill: #FFFFFF;\n",
              "    }\n",
              "  </style>\n",
              "\n",
              "      <script>\n",
              "        const buttonEl =\n",
              "          document.querySelector('#df-a135fa68-4391-4eeb-a4ee-d11a1494f22c button.colab-df-convert');\n",
              "        buttonEl.style.display =\n",
              "          google.colab.kernel.accessAllowed ? 'block' : 'none';\n",
              "\n",
              "        async function convertToInteractive(key) {\n",
              "          const element = document.querySelector('#df-a135fa68-4391-4eeb-a4ee-d11a1494f22c');\n",
              "          const dataTable =\n",
              "            await google.colab.kernel.invokeFunction('convertToInteractive',\n",
              "                                                     [key], {});\n",
              "          if (!dataTable) return;\n",
              "\n",
              "          const docLinkHtml = 'Like what you see? Visit the ' +\n",
              "            '<a target=\"_blank\" href=https://colab.research.google.com/notebooks/data_table.ipynb>data table notebook</a>'\n",
              "            + ' to learn more about interactive tables.';\n",
              "          element.innerHTML = '';\n",
              "          dataTable['output_type'] = 'display_data';\n",
              "          await google.colab.output.renderOutput(dataTable, element);\n",
              "          const docLink = document.createElement('div');\n",
              "          docLink.innerHTML = docLinkHtml;\n",
              "          element.appendChild(docLink);\n",
              "        }\n",
              "      </script>\n",
              "    </div>\n",
              "  </div>\n",
              "  "
            ]
          },
          "metadata": {},
          "execution_count": 68
        }
      ]
    },
    {
      "cell_type": "code",
      "source": [
        "assess_land.isnull().sum() "
      ],
      "metadata": {
        "id": "-qta9d7aizqH",
        "outputId": "dd9abd40-9720-485d-a216-14c8c24532d2",
        "colab": {
          "base_uri": "https://localhost:8080/"
        }
      },
      "execution_count": null,
      "outputs": [
        {
          "output_type": "execute_result",
          "data": {
            "text/plain": [
              "post id       0\n",
              "ราคาทรัพย์    0\n",
              "ประเมิน1      0\n",
              "ประเมิน2      0\n",
              "dtype: int64"
            ]
          },
          "metadata": {},
          "execution_count": 69
        }
      ]
    },
    {
      "cell_type": "markdown",
      "source": [
        "####MAPE"
      ],
      "metadata": {
        "id": "MDSy63Jsi5ww"
      }
    },
    {
      "cell_type": "code",
      "source": [
        "actual_land = assess_l['ราคาทรัพย์']\n",
        "pre_land = assess_l['ประเมิน1']\n",
        "pre_land2 = assess_l['ประเมิน2']"
      ],
      "metadata": {
        "id": "bJCpY27ci_Ii"
      },
      "execution_count": null,
      "outputs": []
    },
    {
      "cell_type": "code",
      "source": [
        "pred1_land = mape(actual_land, pre_land)\n",
        "pred2_land = mape(actual_land, pre_land2)\n",
        "mapeland = mape(pre_land,pre_land2)"
      ],
      "metadata": {
        "id": "-FXM-SxijCdC"
      },
      "execution_count": null,
      "outputs": []
    },
    {
      "cell_type": "code",
      "source": [
        "print(f'ผู้ประเมินคนที่ 1 ได้ค่า MAPE เท่ากับ {pred1_land:.2f} \\nผู้ประเมินคนที่ 2 ได้ค่า MAPE เท่ากับ {pred2_land:.2f}\\nแสดงว่าผู้ประเมินคนที่ 2 สามารถประเมินราคาซื้อ-ขายที่ดินได้แม่นยำกว่า\\nราคาตั้งขายของผู้ประเมินคนที่ 1 กับ ผู้ประเมินคนที่ 2 ได้ค่า MAPE เท่ากับ {mapeland:.2f}')"
      ],
      "metadata": {
        "id": "h8bmU0YpjHIY",
        "outputId": "a9ecde98-95e3-4737-fdc4-db2a6aa25eda",
        "colab": {
          "base_uri": "https://localhost:8080/"
        }
      },
      "execution_count": null,
      "outputs": [
        {
          "output_type": "stream",
          "name": "stdout",
          "text": [
            "ผู้ประเมินคนที่ 1 ได้ค่า MAPE เท่ากับ 0.41 \n",
            "ผู้ประเมินคนที่ 2 ได้ค่า MAPE เท่ากับ 0.40\n",
            "แสดงว่าผู้ประเมินคนที่ 2 สามารถประเมินราคาซื้อ-ขายที่ดินได้แม่นยำกว่า\n",
            "ราคาตั้งขายของผู้ประเมินคนที่ 1 กับ ผู้ประเมินคนที่ 2 ได้ค่า MAPE เท่ากับ 0.74\n"
          ]
        }
      ]
    },
    {
      "cell_type": "code",
      "source": [],
      "metadata": {
        "id": "xugkgOBujIpI"
      },
      "execution_count": null,
      "outputs": []
    },
    {
      "cell_type": "markdown",
      "source": [
        "###Condo"
      ],
      "metadata": {
        "id": "xObHJQoGjMmD"
      }
    },
    {
      "cell_type": "code",
      "source": [
        "condo = pd.read_excel('/content/drive/MyDrive/data/คำตอบนักประเมิน.xlsx',sheet_name='คอนโด')\n",
        "condo.head(3)"
      ],
      "metadata": {
        "id": "hyFgQJLnjPg_",
        "outputId": "2d6ed018-9bfb-420a-88e8-58363c58435a",
        "colab": {
          "base_uri": "https://localhost:8080/",
          "height": 257
        }
      },
      "execution_count": null,
      "outputs": [
        {
          "output_type": "execute_result",
          "data": {
            "text/plain": [
              "   ID ผู้ประเมิน  post id property_type ความมั่นใจในการเมินราคาทรัพย์  \\\n",
              "0              1     32.0         คอนโด                        มั่นใจ   \n",
              "1              1     36.0         คอนโด                        มั่นใจ   \n",
              "2              1    603.0         คอนโด                        มั่นใจ   \n",
              "\n",
              "   ราคาทรัพย์  ประเมินราคาซื้อ-ขาย ปัจจัยในการประเมินราคาซื้อ-ขาย  \\\n",
              "0   3500000.0            3500000.0   60,000-130,000 บาท/ตารางเมตร   \n",
              "1   1930000.0            2200000.0    50,000-90,000 บาท/ตารางเมตร   \n",
              "2   2438000.0            2800000.0    35,000-80,000 บาท/ตารางเมตร   \n",
              "\n",
              "   เหตุผลไม่มั่นใจราคาประเมิน                    ให้คะแนนทรัพย์  Unnamed: 9  \\\n",
              "0                         NaN  4 ขายได้ ใช้ระยะเวลา 4 - 6 เดือน         4.0   \n",
              "1                         NaN  4 ขายได้ ใช้ระยะเวลา 4 - 6 เดือน         4.0   \n",
              "2                         NaN  4 ขายได้ ใช้ระยะเวลา 4 - 6 เดือน         4.0   \n",
              "\n",
              "                        Unnamed: 10  \n",
              "0  ขายได้ยาก ใช้ระยะเวลามากว่า 1 ปี  \n",
              "1  ขายได้ยาก ใช้ระยะเวลามากว่า 1 ปี  \n",
              "2  ขายได้ยาก ใช้ระยะเวลามากว่า 1 ปี  "
            ],
            "text/html": [
              "\n",
              "  <div id=\"df-d425809b-438b-4aec-b6e7-1292ed0d554c\">\n",
              "    <div class=\"colab-df-container\">\n",
              "      <div>\n",
              "<style scoped>\n",
              "    .dataframe tbody tr th:only-of-type {\n",
              "        vertical-align: middle;\n",
              "    }\n",
              "\n",
              "    .dataframe tbody tr th {\n",
              "        vertical-align: top;\n",
              "    }\n",
              "\n",
              "    .dataframe thead th {\n",
              "        text-align: right;\n",
              "    }\n",
              "</style>\n",
              "<table border=\"1\" class=\"dataframe\">\n",
              "  <thead>\n",
              "    <tr style=\"text-align: right;\">\n",
              "      <th></th>\n",
              "      <th>ID ผู้ประเมิน</th>\n",
              "      <th>post id</th>\n",
              "      <th>property_type</th>\n",
              "      <th>ความมั่นใจในการเมินราคาทรัพย์</th>\n",
              "      <th>ราคาทรัพย์</th>\n",
              "      <th>ประเมินราคาซื้อ-ขาย</th>\n",
              "      <th>ปัจจัยในการประเมินราคาซื้อ-ขาย</th>\n",
              "      <th>เหตุผลไม่มั่นใจราคาประเมิน</th>\n",
              "      <th>ให้คะแนนทรัพย์</th>\n",
              "      <th>Unnamed: 9</th>\n",
              "      <th>Unnamed: 10</th>\n",
              "    </tr>\n",
              "  </thead>\n",
              "  <tbody>\n",
              "    <tr>\n",
              "      <th>0</th>\n",
              "      <td>1</td>\n",
              "      <td>32.0</td>\n",
              "      <td>คอนโด</td>\n",
              "      <td>มั่นใจ</td>\n",
              "      <td>3500000.0</td>\n",
              "      <td>3500000.0</td>\n",
              "      <td>60,000-130,000 บาท/ตารางเมตร</td>\n",
              "      <td>NaN</td>\n",
              "      <td>4 ขายได้ ใช้ระยะเวลา 4 - 6 เดือน</td>\n",
              "      <td>4.0</td>\n",
              "      <td>ขายได้ยาก ใช้ระยะเวลามากว่า 1 ปี</td>\n",
              "    </tr>\n",
              "    <tr>\n",
              "      <th>1</th>\n",
              "      <td>1</td>\n",
              "      <td>36.0</td>\n",
              "      <td>คอนโด</td>\n",
              "      <td>มั่นใจ</td>\n",
              "      <td>1930000.0</td>\n",
              "      <td>2200000.0</td>\n",
              "      <td>50,000-90,000 บาท/ตารางเมตร</td>\n",
              "      <td>NaN</td>\n",
              "      <td>4 ขายได้ ใช้ระยะเวลา 4 - 6 เดือน</td>\n",
              "      <td>4.0</td>\n",
              "      <td>ขายได้ยาก ใช้ระยะเวลามากว่า 1 ปี</td>\n",
              "    </tr>\n",
              "    <tr>\n",
              "      <th>2</th>\n",
              "      <td>1</td>\n",
              "      <td>603.0</td>\n",
              "      <td>คอนโด</td>\n",
              "      <td>มั่นใจ</td>\n",
              "      <td>2438000.0</td>\n",
              "      <td>2800000.0</td>\n",
              "      <td>35,000-80,000 บาท/ตารางเมตร</td>\n",
              "      <td>NaN</td>\n",
              "      <td>4 ขายได้ ใช้ระยะเวลา 4 - 6 เดือน</td>\n",
              "      <td>4.0</td>\n",
              "      <td>ขายได้ยาก ใช้ระยะเวลามากว่า 1 ปี</td>\n",
              "    </tr>\n",
              "  </tbody>\n",
              "</table>\n",
              "</div>\n",
              "      <button class=\"colab-df-convert\" onclick=\"convertToInteractive('df-d425809b-438b-4aec-b6e7-1292ed0d554c')\"\n",
              "              title=\"Convert this dataframe to an interactive table.\"\n",
              "              style=\"display:none;\">\n",
              "        \n",
              "  <svg xmlns=\"http://www.w3.org/2000/svg\" height=\"24px\"viewBox=\"0 0 24 24\"\n",
              "       width=\"24px\">\n",
              "    <path d=\"M0 0h24v24H0V0z\" fill=\"none\"/>\n",
              "    <path d=\"M18.56 5.44l.94 2.06.94-2.06 2.06-.94-2.06-.94-.94-2.06-.94 2.06-2.06.94zm-11 1L8.5 8.5l.94-2.06 2.06-.94-2.06-.94L8.5 2.5l-.94 2.06-2.06.94zm10 10l.94 2.06.94-2.06 2.06-.94-2.06-.94-.94-2.06-.94 2.06-2.06.94z\"/><path d=\"M17.41 7.96l-1.37-1.37c-.4-.4-.92-.59-1.43-.59-.52 0-1.04.2-1.43.59L10.3 9.45l-7.72 7.72c-.78.78-.78 2.05 0 2.83L4 21.41c.39.39.9.59 1.41.59.51 0 1.02-.2 1.41-.59l7.78-7.78 2.81-2.81c.8-.78.8-2.07 0-2.86zM5.41 20L4 18.59l7.72-7.72 1.47 1.35L5.41 20z\"/>\n",
              "  </svg>\n",
              "      </button>\n",
              "      \n",
              "  <style>\n",
              "    .colab-df-container {\n",
              "      display:flex;\n",
              "      flex-wrap:wrap;\n",
              "      gap: 12px;\n",
              "    }\n",
              "\n",
              "    .colab-df-convert {\n",
              "      background-color: #E8F0FE;\n",
              "      border: none;\n",
              "      border-radius: 50%;\n",
              "      cursor: pointer;\n",
              "      display: none;\n",
              "      fill: #1967D2;\n",
              "      height: 32px;\n",
              "      padding: 0 0 0 0;\n",
              "      width: 32px;\n",
              "    }\n",
              "\n",
              "    .colab-df-convert:hover {\n",
              "      background-color: #E2EBFA;\n",
              "      box-shadow: 0px 1px 2px rgba(60, 64, 67, 0.3), 0px 1px 3px 1px rgba(60, 64, 67, 0.15);\n",
              "      fill: #174EA6;\n",
              "    }\n",
              "\n",
              "    [theme=dark] .colab-df-convert {\n",
              "      background-color: #3B4455;\n",
              "      fill: #D2E3FC;\n",
              "    }\n",
              "\n",
              "    [theme=dark] .colab-df-convert:hover {\n",
              "      background-color: #434B5C;\n",
              "      box-shadow: 0px 1px 3px 1px rgba(0, 0, 0, 0.15);\n",
              "      filter: drop-shadow(0px 1px 2px rgba(0, 0, 0, 0.3));\n",
              "      fill: #FFFFFF;\n",
              "    }\n",
              "  </style>\n",
              "\n",
              "      <script>\n",
              "        const buttonEl =\n",
              "          document.querySelector('#df-d425809b-438b-4aec-b6e7-1292ed0d554c button.colab-df-convert');\n",
              "        buttonEl.style.display =\n",
              "          google.colab.kernel.accessAllowed ? 'block' : 'none';\n",
              "\n",
              "        async function convertToInteractive(key) {\n",
              "          const element = document.querySelector('#df-d425809b-438b-4aec-b6e7-1292ed0d554c');\n",
              "          const dataTable =\n",
              "            await google.colab.kernel.invokeFunction('convertToInteractive',\n",
              "                                                     [key], {});\n",
              "          if (!dataTable) return;\n",
              "\n",
              "          const docLinkHtml = 'Like what you see? Visit the ' +\n",
              "            '<a target=\"_blank\" href=https://colab.research.google.com/notebooks/data_table.ipynb>data table notebook</a>'\n",
              "            + ' to learn more about interactive tables.';\n",
              "          element.innerHTML = '';\n",
              "          dataTable['output_type'] = 'display_data';\n",
              "          await google.colab.output.renderOutput(dataTable, element);\n",
              "          const docLink = document.createElement('div');\n",
              "          docLink.innerHTML = docLinkHtml;\n",
              "          element.appendChild(docLink);\n",
              "        }\n",
              "      </script>\n",
              "    </div>\n",
              "  </div>\n",
              "  "
            ]
          },
          "metadata": {},
          "execution_count": 37
        }
      ]
    },
    {
      "cell_type": "code",
      "source": [
        "condo.rename(columns={'ประเมินราคาซื้อ-ขาย':'ประเมิน1'}, inplace=True)"
      ],
      "metadata": {
        "id": "luMratSfjYfn"
      },
      "execution_count": null,
      "outputs": []
    },
    {
      "cell_type": "markdown",
      "source": [
        "####Table"
      ],
      "metadata": {
        "id": "ejduOch5jd7f"
      }
    },
    {
      "cell_type": "code",
      "source": [
        "assess_c = condo[['post id','ราคาทรัพย์','ประเมิน1']]\n",
        "assess_c"
      ],
      "metadata": {
        "id": "gMKEUDcSjgsD",
        "outputId": "1774216f-30ea-42c5-a55c-41416d385d85",
        "colab": {
          "base_uri": "https://localhost:8080/",
          "height": 363
        }
      },
      "execution_count": null,
      "outputs": [
        {
          "output_type": "execute_result",
          "data": {
            "text/plain": [
              "   post id  ราคาทรัพย์   ประเมิน1\n",
              "0     32.0   3500000.0  3500000.0\n",
              "1     36.0   1930000.0  2200000.0\n",
              "2    603.0   2438000.0  2800000.0\n",
              "3   1395.0   1600000.0  2300000.0\n",
              "4   1443.0   1860000.0  1800000.0\n",
              "5   1609.0   1490000.0  1500000.0\n",
              "6   1640.0   1280000.0  1600000.0\n",
              "7   1641.0   4290000.0  2700000.0\n",
              "8   1650.0   1700000.0  1550000.0\n",
              "9   1840.0   3790000.0  2800000.0"
            ],
            "text/html": [
              "\n",
              "  <div id=\"df-36fd2f29-429f-4b98-abe2-bbf4155e7a0e\">\n",
              "    <div class=\"colab-df-container\">\n",
              "      <div>\n",
              "<style scoped>\n",
              "    .dataframe tbody tr th:only-of-type {\n",
              "        vertical-align: middle;\n",
              "    }\n",
              "\n",
              "    .dataframe tbody tr th {\n",
              "        vertical-align: top;\n",
              "    }\n",
              "\n",
              "    .dataframe thead th {\n",
              "        text-align: right;\n",
              "    }\n",
              "</style>\n",
              "<table border=\"1\" class=\"dataframe\">\n",
              "  <thead>\n",
              "    <tr style=\"text-align: right;\">\n",
              "      <th></th>\n",
              "      <th>post id</th>\n",
              "      <th>ราคาทรัพย์</th>\n",
              "      <th>ประเมิน1</th>\n",
              "    </tr>\n",
              "  </thead>\n",
              "  <tbody>\n",
              "    <tr>\n",
              "      <th>0</th>\n",
              "      <td>32.0</td>\n",
              "      <td>3500000.0</td>\n",
              "      <td>3500000.0</td>\n",
              "    </tr>\n",
              "    <tr>\n",
              "      <th>1</th>\n",
              "      <td>36.0</td>\n",
              "      <td>1930000.0</td>\n",
              "      <td>2200000.0</td>\n",
              "    </tr>\n",
              "    <tr>\n",
              "      <th>2</th>\n",
              "      <td>603.0</td>\n",
              "      <td>2438000.0</td>\n",
              "      <td>2800000.0</td>\n",
              "    </tr>\n",
              "    <tr>\n",
              "      <th>3</th>\n",
              "      <td>1395.0</td>\n",
              "      <td>1600000.0</td>\n",
              "      <td>2300000.0</td>\n",
              "    </tr>\n",
              "    <tr>\n",
              "      <th>4</th>\n",
              "      <td>1443.0</td>\n",
              "      <td>1860000.0</td>\n",
              "      <td>1800000.0</td>\n",
              "    </tr>\n",
              "    <tr>\n",
              "      <th>5</th>\n",
              "      <td>1609.0</td>\n",
              "      <td>1490000.0</td>\n",
              "      <td>1500000.0</td>\n",
              "    </tr>\n",
              "    <tr>\n",
              "      <th>6</th>\n",
              "      <td>1640.0</td>\n",
              "      <td>1280000.0</td>\n",
              "      <td>1600000.0</td>\n",
              "    </tr>\n",
              "    <tr>\n",
              "      <th>7</th>\n",
              "      <td>1641.0</td>\n",
              "      <td>4290000.0</td>\n",
              "      <td>2700000.0</td>\n",
              "    </tr>\n",
              "    <tr>\n",
              "      <th>8</th>\n",
              "      <td>1650.0</td>\n",
              "      <td>1700000.0</td>\n",
              "      <td>1550000.0</td>\n",
              "    </tr>\n",
              "    <tr>\n",
              "      <th>9</th>\n",
              "      <td>1840.0</td>\n",
              "      <td>3790000.0</td>\n",
              "      <td>2800000.0</td>\n",
              "    </tr>\n",
              "  </tbody>\n",
              "</table>\n",
              "</div>\n",
              "      <button class=\"colab-df-convert\" onclick=\"convertToInteractive('df-36fd2f29-429f-4b98-abe2-bbf4155e7a0e')\"\n",
              "              title=\"Convert this dataframe to an interactive table.\"\n",
              "              style=\"display:none;\">\n",
              "        \n",
              "  <svg xmlns=\"http://www.w3.org/2000/svg\" height=\"24px\"viewBox=\"0 0 24 24\"\n",
              "       width=\"24px\">\n",
              "    <path d=\"M0 0h24v24H0V0z\" fill=\"none\"/>\n",
              "    <path d=\"M18.56 5.44l.94 2.06.94-2.06 2.06-.94-2.06-.94-.94-2.06-.94 2.06-2.06.94zm-11 1L8.5 8.5l.94-2.06 2.06-.94-2.06-.94L8.5 2.5l-.94 2.06-2.06.94zm10 10l.94 2.06.94-2.06 2.06-.94-2.06-.94-.94-2.06-.94 2.06-2.06.94z\"/><path d=\"M17.41 7.96l-1.37-1.37c-.4-.4-.92-.59-1.43-.59-.52 0-1.04.2-1.43.59L10.3 9.45l-7.72 7.72c-.78.78-.78 2.05 0 2.83L4 21.41c.39.39.9.59 1.41.59.51 0 1.02-.2 1.41-.59l7.78-7.78 2.81-2.81c.8-.78.8-2.07 0-2.86zM5.41 20L4 18.59l7.72-7.72 1.47 1.35L5.41 20z\"/>\n",
              "  </svg>\n",
              "      </button>\n",
              "      \n",
              "  <style>\n",
              "    .colab-df-container {\n",
              "      display:flex;\n",
              "      flex-wrap:wrap;\n",
              "      gap: 12px;\n",
              "    }\n",
              "\n",
              "    .colab-df-convert {\n",
              "      background-color: #E8F0FE;\n",
              "      border: none;\n",
              "      border-radius: 50%;\n",
              "      cursor: pointer;\n",
              "      display: none;\n",
              "      fill: #1967D2;\n",
              "      height: 32px;\n",
              "      padding: 0 0 0 0;\n",
              "      width: 32px;\n",
              "    }\n",
              "\n",
              "    .colab-df-convert:hover {\n",
              "      background-color: #E2EBFA;\n",
              "      box-shadow: 0px 1px 2px rgba(60, 64, 67, 0.3), 0px 1px 3px 1px rgba(60, 64, 67, 0.15);\n",
              "      fill: #174EA6;\n",
              "    }\n",
              "\n",
              "    [theme=dark] .colab-df-convert {\n",
              "      background-color: #3B4455;\n",
              "      fill: #D2E3FC;\n",
              "    }\n",
              "\n",
              "    [theme=dark] .colab-df-convert:hover {\n",
              "      background-color: #434B5C;\n",
              "      box-shadow: 0px 1px 3px 1px rgba(0, 0, 0, 0.15);\n",
              "      filter: drop-shadow(0px 1px 2px rgba(0, 0, 0, 0.3));\n",
              "      fill: #FFFFFF;\n",
              "    }\n",
              "  </style>\n",
              "\n",
              "      <script>\n",
              "        const buttonEl =\n",
              "          document.querySelector('#df-36fd2f29-429f-4b98-abe2-bbf4155e7a0e button.colab-df-convert');\n",
              "        buttonEl.style.display =\n",
              "          google.colab.kernel.accessAllowed ? 'block' : 'none';\n",
              "\n",
              "        async function convertToInteractive(key) {\n",
              "          const element = document.querySelector('#df-36fd2f29-429f-4b98-abe2-bbf4155e7a0e');\n",
              "          const dataTable =\n",
              "            await google.colab.kernel.invokeFunction('convertToInteractive',\n",
              "                                                     [key], {});\n",
              "          if (!dataTable) return;\n",
              "\n",
              "          const docLinkHtml = 'Like what you see? Visit the ' +\n",
              "            '<a target=\"_blank\" href=https://colab.research.google.com/notebooks/data_table.ipynb>data table notebook</a>'\n",
              "            + ' to learn more about interactive tables.';\n",
              "          element.innerHTML = '';\n",
              "          dataTable['output_type'] = 'display_data';\n",
              "          await google.colab.output.renderOutput(dataTable, element);\n",
              "          const docLink = document.createElement('div');\n",
              "          docLink.innerHTML = docLinkHtml;\n",
              "          element.appendChild(docLink);\n",
              "        }\n",
              "      </script>\n",
              "    </div>\n",
              "  </div>\n",
              "  "
            ]
          },
          "metadata": {},
          "execution_count": 39
        }
      ]
    },
    {
      "cell_type": "code",
      "source": [],
      "metadata": {
        "id": "6zTLAhl1FOVq"
      },
      "execution_count": null,
      "outputs": []
    },
    {
      "cell_type": "markdown",
      "source": [
        "####MAPE"
      ],
      "metadata": {
        "id": "sTQIXSb0jm-B"
      }
    },
    {
      "cell_type": "code",
      "source": [
        "actual_c = assess_c['ราคาทรัพย์']\n",
        "pre_c = assess_c['ประเมิน1']\n",
        "pred1_c = mape(actual_c, pre_c)"
      ],
      "metadata": {
        "id": "foaUMfePjdpy"
      },
      "execution_count": null,
      "outputs": []
    },
    {
      "cell_type": "code",
      "source": [
        "print(f'ผู้ประเมินคนที่ 1 ได้ค่า MAPE เท่ากับ {pred1_c:.2f}')"
      ],
      "metadata": {
        "id": "YrkUMiqujrjg",
        "outputId": "079bb91d-808e-4c08-a61c-faf40f2eadf0",
        "colab": {
          "base_uri": "https://localhost:8080/"
        }
      },
      "execution_count": null,
      "outputs": [
        {
          "output_type": "stream",
          "name": "stdout",
          "text": [
            "ผู้ประเมินคนที่ 1 ได้ค่า MAPE เท่ากับ 0.17\n"
          ]
        }
      ]
    },
    {
      "cell_type": "markdown",
      "source": [
        "###TOWN HOME"
      ],
      "metadata": {
        "id": "9ORRQji0ju0n"
      }
    },
    {
      "cell_type": "code",
      "source": [
        "town = pd.read_excel('/content/drive/MyDrive/data/คำตอบนักประเมิน.xlsx',sheet_name='ทาวน์โฮม')\n",
        "town.head(3)"
      ],
      "metadata": {
        "id": "ZQpCtD_yjzxz",
        "outputId": "22256a05-a06a-4335-b929-dddd41086e0f",
        "colab": {
          "base_uri": "https://localhost:8080/",
          "height": 309
        }
      },
      "execution_count": null,
      "outputs": [
        {
          "output_type": "execute_result",
          "data": {
            "text/plain": [
              "   ID ผู้ประเมิน                              post id property_type  \\\n",
              "0              1  https://nayoo.co/khonkaen/posts/548      ทาวน์โฮม   \n",
              "1              2  https://nayoo.co/khonkaen/posts/548      ทาวน์โฮม   \n",
              "2              1  https://nayoo.co/khonkaen/posts/549      ทาวน์โฮม   \n",
              "\n",
              "  ความมั่นใจในการเมินราคาทรัพย์  ราคาทรัพย์  ประเมินราคาซื้อ-ขาย  \\\n",
              "0                        มั่นใจ   1045000.0             700000.0   \n",
              "1                        มั่นใจ   1045000.0            1500000.0   \n",
              "2                        มั่นใจ    935000.0             700000.0   \n",
              "\n",
              "  ปัจจัยในการประเมินราคาซื้อ-ขาย  เหตุผลไม่มั่นใจราคาประเมิน  \\\n",
              "0                   5,000-15,000                         NaN   \n",
              "1      ราคาซื้อขาย 1-2 ล้าน/คูหา                         NaN   \n",
              "2                   5,000-15,000                         NaN   \n",
              "\n",
              "                       ให้คะแนนทรัพย์  Unnamed: 9  Unnamed: 10  Unnamed: 11  \\\n",
              "0  2 ขายได้ยาก ใช้ระยะเวลามากว่า 1 ปี         NaN          NaN          NaN   \n",
              "1                   1 ขายไม่ได้แน่นอน         NaN          NaN          NaN   \n",
              "2  2 ขายได้ยาก ใช้ระยะเวลามากว่า 1 ปี         NaN          NaN          NaN   \n",
              "\n",
              "   Unnamed: 12  \n",
              "0        120.0  \n",
              "1          NaN  \n",
              "2          NaN  "
            ],
            "text/html": [
              "\n",
              "  <div id=\"df-25ff7033-bd54-4c18-accf-85987def375a\">\n",
              "    <div class=\"colab-df-container\">\n",
              "      <div>\n",
              "<style scoped>\n",
              "    .dataframe tbody tr th:only-of-type {\n",
              "        vertical-align: middle;\n",
              "    }\n",
              "\n",
              "    .dataframe tbody tr th {\n",
              "        vertical-align: top;\n",
              "    }\n",
              "\n",
              "    .dataframe thead th {\n",
              "        text-align: right;\n",
              "    }\n",
              "</style>\n",
              "<table border=\"1\" class=\"dataframe\">\n",
              "  <thead>\n",
              "    <tr style=\"text-align: right;\">\n",
              "      <th></th>\n",
              "      <th>ID ผู้ประเมิน</th>\n",
              "      <th>post id</th>\n",
              "      <th>property_type</th>\n",
              "      <th>ความมั่นใจในการเมินราคาทรัพย์</th>\n",
              "      <th>ราคาทรัพย์</th>\n",
              "      <th>ประเมินราคาซื้อ-ขาย</th>\n",
              "      <th>ปัจจัยในการประเมินราคาซื้อ-ขาย</th>\n",
              "      <th>เหตุผลไม่มั่นใจราคาประเมิน</th>\n",
              "      <th>ให้คะแนนทรัพย์</th>\n",
              "      <th>Unnamed: 9</th>\n",
              "      <th>Unnamed: 10</th>\n",
              "      <th>Unnamed: 11</th>\n",
              "      <th>Unnamed: 12</th>\n",
              "    </tr>\n",
              "  </thead>\n",
              "  <tbody>\n",
              "    <tr>\n",
              "      <th>0</th>\n",
              "      <td>1</td>\n",
              "      <td>https://nayoo.co/khonkaen/posts/548</td>\n",
              "      <td>ทาวน์โฮม</td>\n",
              "      <td>มั่นใจ</td>\n",
              "      <td>1045000.0</td>\n",
              "      <td>700000.0</td>\n",
              "      <td>5,000-15,000</td>\n",
              "      <td>NaN</td>\n",
              "      <td>2 ขายได้ยาก ใช้ระยะเวลามากว่า 1 ปี</td>\n",
              "      <td>NaN</td>\n",
              "      <td>NaN</td>\n",
              "      <td>NaN</td>\n",
              "      <td>120.0</td>\n",
              "    </tr>\n",
              "    <tr>\n",
              "      <th>1</th>\n",
              "      <td>2</td>\n",
              "      <td>https://nayoo.co/khonkaen/posts/548</td>\n",
              "      <td>ทาวน์โฮม</td>\n",
              "      <td>มั่นใจ</td>\n",
              "      <td>1045000.0</td>\n",
              "      <td>1500000.0</td>\n",
              "      <td>ราคาซื้อขาย 1-2 ล้าน/คูหา</td>\n",
              "      <td>NaN</td>\n",
              "      <td>1 ขายไม่ได้แน่นอน</td>\n",
              "      <td>NaN</td>\n",
              "      <td>NaN</td>\n",
              "      <td>NaN</td>\n",
              "      <td>NaN</td>\n",
              "    </tr>\n",
              "    <tr>\n",
              "      <th>2</th>\n",
              "      <td>1</td>\n",
              "      <td>https://nayoo.co/khonkaen/posts/549</td>\n",
              "      <td>ทาวน์โฮม</td>\n",
              "      <td>มั่นใจ</td>\n",
              "      <td>935000.0</td>\n",
              "      <td>700000.0</td>\n",
              "      <td>5,000-15,000</td>\n",
              "      <td>NaN</td>\n",
              "      <td>2 ขายได้ยาก ใช้ระยะเวลามากว่า 1 ปี</td>\n",
              "      <td>NaN</td>\n",
              "      <td>NaN</td>\n",
              "      <td>NaN</td>\n",
              "      <td>NaN</td>\n",
              "    </tr>\n",
              "  </tbody>\n",
              "</table>\n",
              "</div>\n",
              "      <button class=\"colab-df-convert\" onclick=\"convertToInteractive('df-25ff7033-bd54-4c18-accf-85987def375a')\"\n",
              "              title=\"Convert this dataframe to an interactive table.\"\n",
              "              style=\"display:none;\">\n",
              "        \n",
              "  <svg xmlns=\"http://www.w3.org/2000/svg\" height=\"24px\"viewBox=\"0 0 24 24\"\n",
              "       width=\"24px\">\n",
              "    <path d=\"M0 0h24v24H0V0z\" fill=\"none\"/>\n",
              "    <path d=\"M18.56 5.44l.94 2.06.94-2.06 2.06-.94-2.06-.94-.94-2.06-.94 2.06-2.06.94zm-11 1L8.5 8.5l.94-2.06 2.06-.94-2.06-.94L8.5 2.5l-.94 2.06-2.06.94zm10 10l.94 2.06.94-2.06 2.06-.94-2.06-.94-.94-2.06-.94 2.06-2.06.94z\"/><path d=\"M17.41 7.96l-1.37-1.37c-.4-.4-.92-.59-1.43-.59-.52 0-1.04.2-1.43.59L10.3 9.45l-7.72 7.72c-.78.78-.78 2.05 0 2.83L4 21.41c.39.39.9.59 1.41.59.51 0 1.02-.2 1.41-.59l7.78-7.78 2.81-2.81c.8-.78.8-2.07 0-2.86zM5.41 20L4 18.59l7.72-7.72 1.47 1.35L5.41 20z\"/>\n",
              "  </svg>\n",
              "      </button>\n",
              "      \n",
              "  <style>\n",
              "    .colab-df-container {\n",
              "      display:flex;\n",
              "      flex-wrap:wrap;\n",
              "      gap: 12px;\n",
              "    }\n",
              "\n",
              "    .colab-df-convert {\n",
              "      background-color: #E8F0FE;\n",
              "      border: none;\n",
              "      border-radius: 50%;\n",
              "      cursor: pointer;\n",
              "      display: none;\n",
              "      fill: #1967D2;\n",
              "      height: 32px;\n",
              "      padding: 0 0 0 0;\n",
              "      width: 32px;\n",
              "    }\n",
              "\n",
              "    .colab-df-convert:hover {\n",
              "      background-color: #E2EBFA;\n",
              "      box-shadow: 0px 1px 2px rgba(60, 64, 67, 0.3), 0px 1px 3px 1px rgba(60, 64, 67, 0.15);\n",
              "      fill: #174EA6;\n",
              "    }\n",
              "\n",
              "    [theme=dark] .colab-df-convert {\n",
              "      background-color: #3B4455;\n",
              "      fill: #D2E3FC;\n",
              "    }\n",
              "\n",
              "    [theme=dark] .colab-df-convert:hover {\n",
              "      background-color: #434B5C;\n",
              "      box-shadow: 0px 1px 3px 1px rgba(0, 0, 0, 0.15);\n",
              "      filter: drop-shadow(0px 1px 2px rgba(0, 0, 0, 0.3));\n",
              "      fill: #FFFFFF;\n",
              "    }\n",
              "  </style>\n",
              "\n",
              "      <script>\n",
              "        const buttonEl =\n",
              "          document.querySelector('#df-25ff7033-bd54-4c18-accf-85987def375a button.colab-df-convert');\n",
              "        buttonEl.style.display =\n",
              "          google.colab.kernel.accessAllowed ? 'block' : 'none';\n",
              "\n",
              "        async function convertToInteractive(key) {\n",
              "          const element = document.querySelector('#df-25ff7033-bd54-4c18-accf-85987def375a');\n",
              "          const dataTable =\n",
              "            await google.colab.kernel.invokeFunction('convertToInteractive',\n",
              "                                                     [key], {});\n",
              "          if (!dataTable) return;\n",
              "\n",
              "          const docLinkHtml = 'Like what you see? Visit the ' +\n",
              "            '<a target=\"_blank\" href=https://colab.research.google.com/notebooks/data_table.ipynb>data table notebook</a>'\n",
              "            + ' to learn more about interactive tables.';\n",
              "          element.innerHTML = '';\n",
              "          dataTable['output_type'] = 'display_data';\n",
              "          await google.colab.output.renderOutput(dataTable, element);\n",
              "          const docLink = document.createElement('div');\n",
              "          docLink.innerHTML = docLinkHtml;\n",
              "          element.appendChild(docLink);\n",
              "        }\n",
              "      </script>\n",
              "    </div>\n",
              "  </div>\n",
              "  "
            ]
          },
          "metadata": {},
          "execution_count": 42
        }
      ]
    },
    {
      "cell_type": "code",
      "source": [
        "town['ID ผู้ประเมิน'].value_counts()"
      ],
      "metadata": {
        "id": "IaZXYPo9j6bx",
        "outputId": "7d0cd2f6-1eeb-4665-d121-1b653730b36c",
        "colab": {
          "base_uri": "https://localhost:8080/"
        }
      },
      "execution_count": null,
      "outputs": [
        {
          "output_type": "execute_result",
          "data": {
            "text/plain": [
              "1    120\n",
              "2    120\n",
              "Name: ID ผู้ประเมิน, dtype: int64"
            ]
          },
          "metadata": {},
          "execution_count": 43
        }
      ]
    },
    {
      "cell_type": "code",
      "source": [
        "est1_t = town[town['ID ผู้ประเมิน']==1]"
      ],
      "metadata": {
        "id": "XIjwceWskAww"
      },
      "execution_count": null,
      "outputs": []
    },
    {
      "cell_type": "code",
      "source": [
        "est2_t = town[town['ID ผู้ประเมิน']==2]"
      ],
      "metadata": {
        "id": "6vzuCm-8kDFD"
      },
      "execution_count": null,
      "outputs": []
    },
    {
      "cell_type": "code",
      "source": [
        "est2_t['ประเมิน1'] = est2_t['post id'].map(est1_t.set_index('post id')['ประเมินราคาซื้อ-ขาย']);"
      ],
      "metadata": {
        "id": "SB9iVUBFkFel",
        "outputId": "84a990e1-10ae-4c39-a76d-12d96e073a49",
        "colab": {
          "base_uri": "https://localhost:8080/"
        }
      },
      "execution_count": null,
      "outputs": [
        {
          "output_type": "stream",
          "name": "stderr",
          "text": [
            "<ipython-input-46-34da30f31d1f>:1: SettingWithCopyWarning: \n",
            "A value is trying to be set on a copy of a slice from a DataFrame.\n",
            "Try using .loc[row_indexer,col_indexer] = value instead\n",
            "\n",
            "See the caveats in the documentation: https://pandas.pydata.org/pandas-docs/stable/user_guide/indexing.html#returning-a-view-versus-a-copy\n",
            "  est2_t['ประเมิน1'] = est2_t['post id'].map(est1_t.set_index('post id')['ประเมินราคาซื้อ-ขาย']);\n"
          ]
        }
      ]
    },
    {
      "cell_type": "code",
      "source": [
        "est2_t['ประเมิน2'] = est2_t['post id'].map(est2_t.set_index('post id')['ประเมินราคาซื้อ-ขาย']);\n"
      ],
      "metadata": {
        "id": "L6Za633hkIC3",
        "outputId": "1fe9cb33-7919-4c88-9b45-dc3d8fb788be",
        "colab": {
          "base_uri": "https://localhost:8080/"
        }
      },
      "execution_count": null,
      "outputs": [
        {
          "output_type": "stream",
          "name": "stderr",
          "text": [
            "<ipython-input-47-e952ecd63c9a>:1: SettingWithCopyWarning: \n",
            "A value is trying to be set on a copy of a slice from a DataFrame.\n",
            "Try using .loc[row_indexer,col_indexer] = value instead\n",
            "\n",
            "See the caveats in the documentation: https://pandas.pydata.org/pandas-docs/stable/user_guide/indexing.html#returning-a-view-versus-a-copy\n",
            "  est2_t['ประเมิน2'] = est2_t['post id'].map(est2_t.set_index('post id')['ประเมินราคาซื้อ-ขาย']);\n"
          ]
        }
      ]
    },
    {
      "cell_type": "markdown",
      "source": [
        "####Table"
      ],
      "metadata": {
        "id": "LOkoyxTCkSbj"
      }
    },
    {
      "cell_type": "code",
      "source": [
        "assess_t = est2_t[['post id','ราคาทรัพย์','ประเมิน1','ประเมิน2']]\n",
        "assess_t"
      ],
      "metadata": {
        "id": "RamTqayjkV5V",
        "outputId": "ea99e22b-8854-4fc4-ec65-b1820826a111",
        "colab": {
          "base_uri": "https://localhost:8080/",
          "height": 424
        }
      },
      "execution_count": null,
      "outputs": [
        {
          "output_type": "execute_result",
          "data": {
            "text/plain": [
              "                                   post id  ราคาทรัพย์   ประเมิน1   ประเมิน2\n",
              "1      https://nayoo.co/khonkaen/posts/548   1045000.0   700000.0  1500000.0\n",
              "3      https://nayoo.co/khonkaen/posts/549    935000.0   700000.0  1500000.0\n",
              "5      https://nayoo.co/khonkaen/posts/579   3520000.0  3500000.0  4000000.0\n",
              "7      https://nayoo.co/khonkaen/posts/580   3850000.0  3500000.0  3200000.0\n",
              "9      https://nayoo.co/khonkaen/posts/582    990000.0  1000000.0   800000.0\n",
              "..                                     ...         ...        ...        ...\n",
              "235  https://nayoo.co/khonkaen/posts/18547   1430000.0  1000000.0  1200000.0\n",
              "236  https://nayoo.co/khonkaen/posts/18551   1980000.0  1500000.0  1700000.0\n",
              "237  https://nayoo.co/khonkaen/posts/19434   2000000.0  1600000.0  1900000.0\n",
              "238  https://nayoo.co/khonkaen/posts/19501   1790000.0  1600000.0  1700000.0\n",
              "239  https://nayoo.co/khonkaen/posts/20367   1590000.0  1700000.0  1700000.0\n",
              "\n",
              "[120 rows x 4 columns]"
            ],
            "text/html": [
              "\n",
              "  <div id=\"df-173cc02e-a733-4fee-9a3f-6c096e10e9b6\">\n",
              "    <div class=\"colab-df-container\">\n",
              "      <div>\n",
              "<style scoped>\n",
              "    .dataframe tbody tr th:only-of-type {\n",
              "        vertical-align: middle;\n",
              "    }\n",
              "\n",
              "    .dataframe tbody tr th {\n",
              "        vertical-align: top;\n",
              "    }\n",
              "\n",
              "    .dataframe thead th {\n",
              "        text-align: right;\n",
              "    }\n",
              "</style>\n",
              "<table border=\"1\" class=\"dataframe\">\n",
              "  <thead>\n",
              "    <tr style=\"text-align: right;\">\n",
              "      <th></th>\n",
              "      <th>post id</th>\n",
              "      <th>ราคาทรัพย์</th>\n",
              "      <th>ประเมิน1</th>\n",
              "      <th>ประเมิน2</th>\n",
              "    </tr>\n",
              "  </thead>\n",
              "  <tbody>\n",
              "    <tr>\n",
              "      <th>1</th>\n",
              "      <td>https://nayoo.co/khonkaen/posts/548</td>\n",
              "      <td>1045000.0</td>\n",
              "      <td>700000.0</td>\n",
              "      <td>1500000.0</td>\n",
              "    </tr>\n",
              "    <tr>\n",
              "      <th>3</th>\n",
              "      <td>https://nayoo.co/khonkaen/posts/549</td>\n",
              "      <td>935000.0</td>\n",
              "      <td>700000.0</td>\n",
              "      <td>1500000.0</td>\n",
              "    </tr>\n",
              "    <tr>\n",
              "      <th>5</th>\n",
              "      <td>https://nayoo.co/khonkaen/posts/579</td>\n",
              "      <td>3520000.0</td>\n",
              "      <td>3500000.0</td>\n",
              "      <td>4000000.0</td>\n",
              "    </tr>\n",
              "    <tr>\n",
              "      <th>7</th>\n",
              "      <td>https://nayoo.co/khonkaen/posts/580</td>\n",
              "      <td>3850000.0</td>\n",
              "      <td>3500000.0</td>\n",
              "      <td>3200000.0</td>\n",
              "    </tr>\n",
              "    <tr>\n",
              "      <th>9</th>\n",
              "      <td>https://nayoo.co/khonkaen/posts/582</td>\n",
              "      <td>990000.0</td>\n",
              "      <td>1000000.0</td>\n",
              "      <td>800000.0</td>\n",
              "    </tr>\n",
              "    <tr>\n",
              "      <th>...</th>\n",
              "      <td>...</td>\n",
              "      <td>...</td>\n",
              "      <td>...</td>\n",
              "      <td>...</td>\n",
              "    </tr>\n",
              "    <tr>\n",
              "      <th>235</th>\n",
              "      <td>https://nayoo.co/khonkaen/posts/18547</td>\n",
              "      <td>1430000.0</td>\n",
              "      <td>1000000.0</td>\n",
              "      <td>1200000.0</td>\n",
              "    </tr>\n",
              "    <tr>\n",
              "      <th>236</th>\n",
              "      <td>https://nayoo.co/khonkaen/posts/18551</td>\n",
              "      <td>1980000.0</td>\n",
              "      <td>1500000.0</td>\n",
              "      <td>1700000.0</td>\n",
              "    </tr>\n",
              "    <tr>\n",
              "      <th>237</th>\n",
              "      <td>https://nayoo.co/khonkaen/posts/19434</td>\n",
              "      <td>2000000.0</td>\n",
              "      <td>1600000.0</td>\n",
              "      <td>1900000.0</td>\n",
              "    </tr>\n",
              "    <tr>\n",
              "      <th>238</th>\n",
              "      <td>https://nayoo.co/khonkaen/posts/19501</td>\n",
              "      <td>1790000.0</td>\n",
              "      <td>1600000.0</td>\n",
              "      <td>1700000.0</td>\n",
              "    </tr>\n",
              "    <tr>\n",
              "      <th>239</th>\n",
              "      <td>https://nayoo.co/khonkaen/posts/20367</td>\n",
              "      <td>1590000.0</td>\n",
              "      <td>1700000.0</td>\n",
              "      <td>1700000.0</td>\n",
              "    </tr>\n",
              "  </tbody>\n",
              "</table>\n",
              "<p>120 rows × 4 columns</p>\n",
              "</div>\n",
              "      <button class=\"colab-df-convert\" onclick=\"convertToInteractive('df-173cc02e-a733-4fee-9a3f-6c096e10e9b6')\"\n",
              "              title=\"Convert this dataframe to an interactive table.\"\n",
              "              style=\"display:none;\">\n",
              "        \n",
              "  <svg xmlns=\"http://www.w3.org/2000/svg\" height=\"24px\"viewBox=\"0 0 24 24\"\n",
              "       width=\"24px\">\n",
              "    <path d=\"M0 0h24v24H0V0z\" fill=\"none\"/>\n",
              "    <path d=\"M18.56 5.44l.94 2.06.94-2.06 2.06-.94-2.06-.94-.94-2.06-.94 2.06-2.06.94zm-11 1L8.5 8.5l.94-2.06 2.06-.94-2.06-.94L8.5 2.5l-.94 2.06-2.06.94zm10 10l.94 2.06.94-2.06 2.06-.94-2.06-.94-.94-2.06-.94 2.06-2.06.94z\"/><path d=\"M17.41 7.96l-1.37-1.37c-.4-.4-.92-.59-1.43-.59-.52 0-1.04.2-1.43.59L10.3 9.45l-7.72 7.72c-.78.78-.78 2.05 0 2.83L4 21.41c.39.39.9.59 1.41.59.51 0 1.02-.2 1.41-.59l7.78-7.78 2.81-2.81c.8-.78.8-2.07 0-2.86zM5.41 20L4 18.59l7.72-7.72 1.47 1.35L5.41 20z\"/>\n",
              "  </svg>\n",
              "      </button>\n",
              "      \n",
              "  <style>\n",
              "    .colab-df-container {\n",
              "      display:flex;\n",
              "      flex-wrap:wrap;\n",
              "      gap: 12px;\n",
              "    }\n",
              "\n",
              "    .colab-df-convert {\n",
              "      background-color: #E8F0FE;\n",
              "      border: none;\n",
              "      border-radius: 50%;\n",
              "      cursor: pointer;\n",
              "      display: none;\n",
              "      fill: #1967D2;\n",
              "      height: 32px;\n",
              "      padding: 0 0 0 0;\n",
              "      width: 32px;\n",
              "    }\n",
              "\n",
              "    .colab-df-convert:hover {\n",
              "      background-color: #E2EBFA;\n",
              "      box-shadow: 0px 1px 2px rgba(60, 64, 67, 0.3), 0px 1px 3px 1px rgba(60, 64, 67, 0.15);\n",
              "      fill: #174EA6;\n",
              "    }\n",
              "\n",
              "    [theme=dark] .colab-df-convert {\n",
              "      background-color: #3B4455;\n",
              "      fill: #D2E3FC;\n",
              "    }\n",
              "\n",
              "    [theme=dark] .colab-df-convert:hover {\n",
              "      background-color: #434B5C;\n",
              "      box-shadow: 0px 1px 3px 1px rgba(0, 0, 0, 0.15);\n",
              "      filter: drop-shadow(0px 1px 2px rgba(0, 0, 0, 0.3));\n",
              "      fill: #FFFFFF;\n",
              "    }\n",
              "  </style>\n",
              "\n",
              "      <script>\n",
              "        const buttonEl =\n",
              "          document.querySelector('#df-173cc02e-a733-4fee-9a3f-6c096e10e9b6 button.colab-df-convert');\n",
              "        buttonEl.style.display =\n",
              "          google.colab.kernel.accessAllowed ? 'block' : 'none';\n",
              "\n",
              "        async function convertToInteractive(key) {\n",
              "          const element = document.querySelector('#df-173cc02e-a733-4fee-9a3f-6c096e10e9b6');\n",
              "          const dataTable =\n",
              "            await google.colab.kernel.invokeFunction('convertToInteractive',\n",
              "                                                     [key], {});\n",
              "          if (!dataTable) return;\n",
              "\n",
              "          const docLinkHtml = 'Like what you see? Visit the ' +\n",
              "            '<a target=\"_blank\" href=https://colab.research.google.com/notebooks/data_table.ipynb>data table notebook</a>'\n",
              "            + ' to learn more about interactive tables.';\n",
              "          element.innerHTML = '';\n",
              "          dataTable['output_type'] = 'display_data';\n",
              "          await google.colab.output.renderOutput(dataTable, element);\n",
              "          const docLink = document.createElement('div');\n",
              "          docLink.innerHTML = docLinkHtml;\n",
              "          element.appendChild(docLink);\n",
              "        }\n",
              "      </script>\n",
              "    </div>\n",
              "  </div>\n",
              "  "
            ]
          },
          "metadata": {},
          "execution_count": 48
        }
      ]
    },
    {
      "cell_type": "code",
      "source": [
        "assess_t.isnull().sum() "
      ],
      "metadata": {
        "id": "7nPUTo8Xkbhb",
        "outputId": "509487d8-8bcb-4e83-c69b-3ff260228b34",
        "colab": {
          "base_uri": "https://localhost:8080/"
        }
      },
      "execution_count": null,
      "outputs": [
        {
          "output_type": "execute_result",
          "data": {
            "text/plain": [
              "post id       0\n",
              "ราคาทรัพย์    0\n",
              "ประเมิน1      0\n",
              "ประเมิน2      0\n",
              "dtype: int64"
            ]
          },
          "metadata": {},
          "execution_count": 49
        }
      ]
    },
    {
      "cell_type": "markdown",
      "source": [
        "####MAPE"
      ],
      "metadata": {
        "id": "Q_ZJGq0wkeQt"
      }
    },
    {
      "cell_type": "code",
      "source": [
        "actual_t = assess_t['ราคาทรัพย์']\n",
        "pre_t = assess_t['ประเมิน1']\n",
        "pre_t2 = assess_t['ประเมิน2']"
      ],
      "metadata": {
        "id": "JY6l-HRFkhPi"
      },
      "execution_count": null,
      "outputs": []
    },
    {
      "cell_type": "code",
      "source": [
        "pred1_t = mape(actual_t, pre_t)\n",
        "pred2_t = mape(actual_t, pre_t2)\n",
        "mapet = mape(pre_t,pre_t2)"
      ],
      "metadata": {
        "id": "tUrFNS70klse"
      },
      "execution_count": null,
      "outputs": []
    },
    {
      "cell_type": "code",
      "source": [
        "print(f'ผู้ประเมินคนที่ 1 ได้ค่า MAPE เท่ากับ {pred1_t:.2f}\\nผู้ประเมินคนที่ 2 ได้ค่า MAPE เท่ากับ {pred2_t:.2f}\\nแสดงว่าผู้ประเมินคนที่ 2 สามารถประเมินราคาซื้อ-ขายทาวน์โฮมได้แม่นยำกว่า\\nราคาตั้งขายของผู้ประเมินคนที่ 1 กับ ผู้ประเมินคนที่ 2 ได้ค่า MAPE เท่ากับ {mapet:.2f}')"
      ],
      "metadata": {
        "id": "YEI2dhzmklf7",
        "outputId": "4263efbe-adc1-4868-faf7-6cec016ba678",
        "colab": {
          "base_uri": "https://localhost:8080/"
        }
      },
      "execution_count": null,
      "outputs": [
        {
          "output_type": "stream",
          "name": "stdout",
          "text": [
            "ผู้ประเมินคนที่ 1 ได้ค่า MAPE เท่ากับ 0.11\n",
            "ผู้ประเมินคนที่ 2 ได้ค่า MAPE เท่ากับ 0.09\n",
            "แสดงว่าผู้ประเมินคนที่ 2 สามารถประเมินราคาซื้อ-ขายทาวน์โฮมได้แม่นยำกว่า\n",
            "ราคาตั้งขายของผู้ประเมินคนที่ 1 กับ ผู้ประเมินคนที่ 2 ได้ค่า MAPE เท่ากับ 0.11\n"
          ]
        }
      ]
    },
    {
      "cell_type": "markdown",
      "source": [
        "###Shop House"
      ],
      "metadata": {
        "id": "VUmSc3t5krGt"
      }
    },
    {
      "cell_type": "code",
      "source": [
        "shoph = pd.read_excel('/content/drive/MyDrive/data/คำตอบนักประเมิน.xlsx',sheet_name='อาคารพาณิชย์')\n",
        "shoph.head(3)"
      ],
      "metadata": {
        "id": "klSYjP5NktwF",
        "outputId": "d3ddb550-476d-46e5-b51d-b970320bb340",
        "colab": {
          "base_uri": "https://localhost:8080/",
          "height": 413
        }
      },
      "execution_count": null,
      "outputs": [
        {
          "output_type": "execute_result",
          "data": {
            "text/plain": [
              "   ID ผู้ประเมิน                             post id          property_type  \\\n",
              "0              1   https://nayoo.co/khonkaen/posts/6  อาคารพาณิชย์/สำนักงาน   \n",
              "1              2   https://nayoo.co/khonkaen/posts/6  อาคารพาณิชย์/สำนักงาน   \n",
              "2              1  https://nayoo.co/khonkaen/posts/17  อาคารพาณิชย์/สำนักงาน   \n",
              "\n",
              "  ความมั่นใจในการเมินราคาทรัพย์  ราคาทรัพย์  ประเมินราคาซื้อ-ขาย  \\\n",
              "0                        มั่นใจ   7000000.0            6000000.0   \n",
              "1                        มั่นใจ   7000000.0            8000000.0   \n",
              "2                        มั่นใจ  12000000.0           12000000.0   \n",
              "\n",
              "             ปัจจัยในการประเมินราคาซื้อ-ขาย  เหตุผลไม่มั่นใจราคาประเมิน  \\\n",
              "0                              8,000-30,000                         NaN   \n",
              "1  ราคาเสนอขาย 4,000,000-6,000,000 บาท/คูหา                         NaN   \n",
              "2                              8,000-40,000                         NaN   \n",
              "\n",
              "                      ให้คะแนนทรัพย์  Unnamed: 9  \\\n",
              "0  3 ขายได้ ใช้ระยะเวลา 7 - 12 เดือน         3.0   \n",
              "1   4 ขายได้ ใช้ระยะเวลา 4 - 6 เดือน         4.0   \n",
              "2   4 ขายได้ ใช้ระยะเวลา 4 - 6 เดือน         4.0   \n",
              "\n",
              "                        Unnamed: 10  Unnamed: 11  Unnamed: 12  Unnamed: 13  \n",
              "0     ขายได้ ใช้ระยะเวลา 7-12 เดือน          NaN          NaN         10.0  \n",
              "1  ขายได้ยาก ใช้ระยะเวลามากว่า 1 ปี          NaN          NaN          NaN  \n",
              "2  ขายได้ยาก ใช้ระยะเวลามากว่า 1 ปี          NaN          NaN          NaN  "
            ],
            "text/html": [
              "\n",
              "  <div id=\"df-7eea5151-ab30-4f2c-8cb7-0c4c6cbf4917\">\n",
              "    <div class=\"colab-df-container\">\n",
              "      <div>\n",
              "<style scoped>\n",
              "    .dataframe tbody tr th:only-of-type {\n",
              "        vertical-align: middle;\n",
              "    }\n",
              "\n",
              "    .dataframe tbody tr th {\n",
              "        vertical-align: top;\n",
              "    }\n",
              "\n",
              "    .dataframe thead th {\n",
              "        text-align: right;\n",
              "    }\n",
              "</style>\n",
              "<table border=\"1\" class=\"dataframe\">\n",
              "  <thead>\n",
              "    <tr style=\"text-align: right;\">\n",
              "      <th></th>\n",
              "      <th>ID ผู้ประเมิน</th>\n",
              "      <th>post id</th>\n",
              "      <th>property_type</th>\n",
              "      <th>ความมั่นใจในการเมินราคาทรัพย์</th>\n",
              "      <th>ราคาทรัพย์</th>\n",
              "      <th>ประเมินราคาซื้อ-ขาย</th>\n",
              "      <th>ปัจจัยในการประเมินราคาซื้อ-ขาย</th>\n",
              "      <th>เหตุผลไม่มั่นใจราคาประเมิน</th>\n",
              "      <th>ให้คะแนนทรัพย์</th>\n",
              "      <th>Unnamed: 9</th>\n",
              "      <th>Unnamed: 10</th>\n",
              "      <th>Unnamed: 11</th>\n",
              "      <th>Unnamed: 12</th>\n",
              "      <th>Unnamed: 13</th>\n",
              "    </tr>\n",
              "  </thead>\n",
              "  <tbody>\n",
              "    <tr>\n",
              "      <th>0</th>\n",
              "      <td>1</td>\n",
              "      <td>https://nayoo.co/khonkaen/posts/6</td>\n",
              "      <td>อาคารพาณิชย์/สำนักงาน</td>\n",
              "      <td>มั่นใจ</td>\n",
              "      <td>7000000.0</td>\n",
              "      <td>6000000.0</td>\n",
              "      <td>8,000-30,000</td>\n",
              "      <td>NaN</td>\n",
              "      <td>3 ขายได้ ใช้ระยะเวลา 7 - 12 เดือน</td>\n",
              "      <td>3.0</td>\n",
              "      <td>ขายได้ ใช้ระยะเวลา 7-12 เดือน</td>\n",
              "      <td>NaN</td>\n",
              "      <td>NaN</td>\n",
              "      <td>10.0</td>\n",
              "    </tr>\n",
              "    <tr>\n",
              "      <th>1</th>\n",
              "      <td>2</td>\n",
              "      <td>https://nayoo.co/khonkaen/posts/6</td>\n",
              "      <td>อาคารพาณิชย์/สำนักงาน</td>\n",
              "      <td>มั่นใจ</td>\n",
              "      <td>7000000.0</td>\n",
              "      <td>8000000.0</td>\n",
              "      <td>ราคาเสนอขาย 4,000,000-6,000,000 บาท/คูหา</td>\n",
              "      <td>NaN</td>\n",
              "      <td>4 ขายได้ ใช้ระยะเวลา 4 - 6 เดือน</td>\n",
              "      <td>4.0</td>\n",
              "      <td>ขายได้ยาก ใช้ระยะเวลามากว่า 1 ปี</td>\n",
              "      <td>NaN</td>\n",
              "      <td>NaN</td>\n",
              "      <td>NaN</td>\n",
              "    </tr>\n",
              "    <tr>\n",
              "      <th>2</th>\n",
              "      <td>1</td>\n",
              "      <td>https://nayoo.co/khonkaen/posts/17</td>\n",
              "      <td>อาคารพาณิชย์/สำนักงาน</td>\n",
              "      <td>มั่นใจ</td>\n",
              "      <td>12000000.0</td>\n",
              "      <td>12000000.0</td>\n",
              "      <td>8,000-40,000</td>\n",
              "      <td>NaN</td>\n",
              "      <td>4 ขายได้ ใช้ระยะเวลา 4 - 6 เดือน</td>\n",
              "      <td>4.0</td>\n",
              "      <td>ขายได้ยาก ใช้ระยะเวลามากว่า 1 ปี</td>\n",
              "      <td>NaN</td>\n",
              "      <td>NaN</td>\n",
              "      <td>NaN</td>\n",
              "    </tr>\n",
              "  </tbody>\n",
              "</table>\n",
              "</div>\n",
              "      <button class=\"colab-df-convert\" onclick=\"convertToInteractive('df-7eea5151-ab30-4f2c-8cb7-0c4c6cbf4917')\"\n",
              "              title=\"Convert this dataframe to an interactive table.\"\n",
              "              style=\"display:none;\">\n",
              "        \n",
              "  <svg xmlns=\"http://www.w3.org/2000/svg\" height=\"24px\"viewBox=\"0 0 24 24\"\n",
              "       width=\"24px\">\n",
              "    <path d=\"M0 0h24v24H0V0z\" fill=\"none\"/>\n",
              "    <path d=\"M18.56 5.44l.94 2.06.94-2.06 2.06-.94-2.06-.94-.94-2.06-.94 2.06-2.06.94zm-11 1L8.5 8.5l.94-2.06 2.06-.94-2.06-.94L8.5 2.5l-.94 2.06-2.06.94zm10 10l.94 2.06.94-2.06 2.06-.94-2.06-.94-.94-2.06-.94 2.06-2.06.94z\"/><path d=\"M17.41 7.96l-1.37-1.37c-.4-.4-.92-.59-1.43-.59-.52 0-1.04.2-1.43.59L10.3 9.45l-7.72 7.72c-.78.78-.78 2.05 0 2.83L4 21.41c.39.39.9.59 1.41.59.51 0 1.02-.2 1.41-.59l7.78-7.78 2.81-2.81c.8-.78.8-2.07 0-2.86zM5.41 20L4 18.59l7.72-7.72 1.47 1.35L5.41 20z\"/>\n",
              "  </svg>\n",
              "      </button>\n",
              "      \n",
              "  <style>\n",
              "    .colab-df-container {\n",
              "      display:flex;\n",
              "      flex-wrap:wrap;\n",
              "      gap: 12px;\n",
              "    }\n",
              "\n",
              "    .colab-df-convert {\n",
              "      background-color: #E8F0FE;\n",
              "      border: none;\n",
              "      border-radius: 50%;\n",
              "      cursor: pointer;\n",
              "      display: none;\n",
              "      fill: #1967D2;\n",
              "      height: 32px;\n",
              "      padding: 0 0 0 0;\n",
              "      width: 32px;\n",
              "    }\n",
              "\n",
              "    .colab-df-convert:hover {\n",
              "      background-color: #E2EBFA;\n",
              "      box-shadow: 0px 1px 2px rgba(60, 64, 67, 0.3), 0px 1px 3px 1px rgba(60, 64, 67, 0.15);\n",
              "      fill: #174EA6;\n",
              "    }\n",
              "\n",
              "    [theme=dark] .colab-df-convert {\n",
              "      background-color: #3B4455;\n",
              "      fill: #D2E3FC;\n",
              "    }\n",
              "\n",
              "    [theme=dark] .colab-df-convert:hover {\n",
              "      background-color: #434B5C;\n",
              "      box-shadow: 0px 1px 3px 1px rgba(0, 0, 0, 0.15);\n",
              "      filter: drop-shadow(0px 1px 2px rgba(0, 0, 0, 0.3));\n",
              "      fill: #FFFFFF;\n",
              "    }\n",
              "  </style>\n",
              "\n",
              "      <script>\n",
              "        const buttonEl =\n",
              "          document.querySelector('#df-7eea5151-ab30-4f2c-8cb7-0c4c6cbf4917 button.colab-df-convert');\n",
              "        buttonEl.style.display =\n",
              "          google.colab.kernel.accessAllowed ? 'block' : 'none';\n",
              "\n",
              "        async function convertToInteractive(key) {\n",
              "          const element = document.querySelector('#df-7eea5151-ab30-4f2c-8cb7-0c4c6cbf4917');\n",
              "          const dataTable =\n",
              "            await google.colab.kernel.invokeFunction('convertToInteractive',\n",
              "                                                     [key], {});\n",
              "          if (!dataTable) return;\n",
              "\n",
              "          const docLinkHtml = 'Like what you see? Visit the ' +\n",
              "            '<a target=\"_blank\" href=https://colab.research.google.com/notebooks/data_table.ipynb>data table notebook</a>'\n",
              "            + ' to learn more about interactive tables.';\n",
              "          element.innerHTML = '';\n",
              "          dataTable['output_type'] = 'display_data';\n",
              "          await google.colab.output.renderOutput(dataTable, element);\n",
              "          const docLink = document.createElement('div');\n",
              "          docLink.innerHTML = docLinkHtml;\n",
              "          element.appendChild(docLink);\n",
              "        }\n",
              "      </script>\n",
              "    </div>\n",
              "  </div>\n",
              "  "
            ]
          },
          "metadata": {},
          "execution_count": 54
        }
      ]
    },
    {
      "cell_type": "code",
      "source": [
        "shoph['ID ผู้ประเมิน'].value_counts()"
      ],
      "metadata": {
        "id": "X6X4xm71k1zh",
        "outputId": "1363d52a-3ef9-48d1-93f5-fee0646486ee",
        "colab": {
          "base_uri": "https://localhost:8080/"
        }
      },
      "execution_count": null,
      "outputs": [
        {
          "output_type": "execute_result",
          "data": {
            "text/plain": [
              "1    10\n",
              "2    10\n",
              "Name: ID ผู้ประเมิน, dtype: int64"
            ]
          },
          "metadata": {},
          "execution_count": 55
        }
      ]
    },
    {
      "cell_type": "code",
      "source": [
        "est1_s = shoph[shoph['ID ผู้ประเมิน']==1]"
      ],
      "metadata": {
        "id": "jRjKguwPk4gJ"
      },
      "execution_count": null,
      "outputs": []
    },
    {
      "cell_type": "code",
      "source": [
        "est2_s = shoph[shoph['ID ผู้ประเมิน']==2]"
      ],
      "metadata": {
        "id": "XgoQKHx0k7Wc"
      },
      "execution_count": null,
      "outputs": []
    },
    {
      "cell_type": "code",
      "source": [
        "est2_s['ประเมิน1'] = est2_s['post id'].map(est1_s.set_index('post id')['ประเมินราคาซื้อ-ขาย']);"
      ],
      "metadata": {
        "id": "AKyBvrkrk-GH",
        "outputId": "32bf6d34-bcb8-4978-fd76-4f9aa999c1bf",
        "colab": {
          "base_uri": "https://localhost:8080/"
        }
      },
      "execution_count": null,
      "outputs": [
        {
          "output_type": "stream",
          "name": "stderr",
          "text": [
            "<ipython-input-58-dbcb5b2fbe34>:1: SettingWithCopyWarning: \n",
            "A value is trying to be set on a copy of a slice from a DataFrame.\n",
            "Try using .loc[row_indexer,col_indexer] = value instead\n",
            "\n",
            "See the caveats in the documentation: https://pandas.pydata.org/pandas-docs/stable/user_guide/indexing.html#returning-a-view-versus-a-copy\n",
            "  est2_s['ประเมิน1'] = est2_s['post id'].map(est1_s.set_index('post id')['ประเมินราคาซื้อ-ขาย']);\n"
          ]
        }
      ]
    },
    {
      "cell_type": "code",
      "source": [
        "est2_s['ประเมิน2'] = est2_s['post id'].map(est2_s.set_index('post id')['ประเมินราคาซื้อ-ขาย']);"
      ],
      "metadata": {
        "id": "IW3a6ZpvlBdx",
        "outputId": "ba05cfa5-d4e6-4b09-bcec-e8bea8b2e80c",
        "colab": {
          "base_uri": "https://localhost:8080/"
        }
      },
      "execution_count": null,
      "outputs": [
        {
          "output_type": "stream",
          "name": "stderr",
          "text": [
            "<ipython-input-59-343d57685f7b>:1: SettingWithCopyWarning: \n",
            "A value is trying to be set on a copy of a slice from a DataFrame.\n",
            "Try using .loc[row_indexer,col_indexer] = value instead\n",
            "\n",
            "See the caveats in the documentation: https://pandas.pydata.org/pandas-docs/stable/user_guide/indexing.html#returning-a-view-versus-a-copy\n",
            "  est2_s['ประเมิน2'] = est2_s['post id'].map(est2_s.set_index('post id')['ประเมินราคาซื้อ-ขาย']);\n"
          ]
        }
      ]
    },
    {
      "cell_type": "markdown",
      "source": [
        "####Table"
      ],
      "metadata": {
        "id": "c5lYj-eUlD6I"
      }
    },
    {
      "cell_type": "code",
      "source": [
        "assess_s = est2_s[['post id','ราคาทรัพย์','ประเมิน1','ประเมิน2']]\n",
        "assess_s"
      ],
      "metadata": {
        "id": "u8JUEv31lFt8",
        "outputId": "077e1f26-bc6a-4a31-c44a-7ace82de0ce3",
        "colab": {
          "base_uri": "https://localhost:8080/",
          "height": 363
        }
      },
      "execution_count": null,
      "outputs": [
        {
          "output_type": "execute_result",
          "data": {
            "text/plain": [
              "                                post id  ราคาทรัพย์    ประเมิน1    ประเมิน2\n",
              "1     https://nayoo.co/khonkaen/posts/6   7000000.0   6000000.0   8000000.0\n",
              "3    https://nayoo.co/khonkaen/posts/17  12000000.0  12000000.0  12000000.0\n",
              "5    https://nayoo.co/khonkaen/posts/21  22500000.0  13500000.0  20000000.0\n",
              "7    https://nayoo.co/khonkaen/posts/22   3500000.0   4000000.0   4000000.0\n",
              "9    https://nayoo.co/khonkaen/posts/24   3900000.0   2200000.0   3000000.0\n",
              "11   https://nayoo.co/khonkaen/posts/30   4800000.0   3600000.0   4000000.0\n",
              "13   https://nayoo.co/khonkaen/posts/35   2400000.0   2500000.0   2100000.0\n",
              "15  https://nayoo.co/khonkaen/posts/497   5000000.0   3800000.0   5000000.0\n",
              "17  https://nayoo.co/khonkaen/posts/498   7000000.0   7000000.0   8000000.0\n",
              "19  https://nayoo.co/khonkaen/posts/499   9000000.0   8000000.0  10000000.0"
            ],
            "text/html": [
              "\n",
              "  <div id=\"df-0d155c98-cc62-4021-91a7-cf5a93a1dae4\">\n",
              "    <div class=\"colab-df-container\">\n",
              "      <div>\n",
              "<style scoped>\n",
              "    .dataframe tbody tr th:only-of-type {\n",
              "        vertical-align: middle;\n",
              "    }\n",
              "\n",
              "    .dataframe tbody tr th {\n",
              "        vertical-align: top;\n",
              "    }\n",
              "\n",
              "    .dataframe thead th {\n",
              "        text-align: right;\n",
              "    }\n",
              "</style>\n",
              "<table border=\"1\" class=\"dataframe\">\n",
              "  <thead>\n",
              "    <tr style=\"text-align: right;\">\n",
              "      <th></th>\n",
              "      <th>post id</th>\n",
              "      <th>ราคาทรัพย์</th>\n",
              "      <th>ประเมิน1</th>\n",
              "      <th>ประเมิน2</th>\n",
              "    </tr>\n",
              "  </thead>\n",
              "  <tbody>\n",
              "    <tr>\n",
              "      <th>1</th>\n",
              "      <td>https://nayoo.co/khonkaen/posts/6</td>\n",
              "      <td>7000000.0</td>\n",
              "      <td>6000000.0</td>\n",
              "      <td>8000000.0</td>\n",
              "    </tr>\n",
              "    <tr>\n",
              "      <th>3</th>\n",
              "      <td>https://nayoo.co/khonkaen/posts/17</td>\n",
              "      <td>12000000.0</td>\n",
              "      <td>12000000.0</td>\n",
              "      <td>12000000.0</td>\n",
              "    </tr>\n",
              "    <tr>\n",
              "      <th>5</th>\n",
              "      <td>https://nayoo.co/khonkaen/posts/21</td>\n",
              "      <td>22500000.0</td>\n",
              "      <td>13500000.0</td>\n",
              "      <td>20000000.0</td>\n",
              "    </tr>\n",
              "    <tr>\n",
              "      <th>7</th>\n",
              "      <td>https://nayoo.co/khonkaen/posts/22</td>\n",
              "      <td>3500000.0</td>\n",
              "      <td>4000000.0</td>\n",
              "      <td>4000000.0</td>\n",
              "    </tr>\n",
              "    <tr>\n",
              "      <th>9</th>\n",
              "      <td>https://nayoo.co/khonkaen/posts/24</td>\n",
              "      <td>3900000.0</td>\n",
              "      <td>2200000.0</td>\n",
              "      <td>3000000.0</td>\n",
              "    </tr>\n",
              "    <tr>\n",
              "      <th>11</th>\n",
              "      <td>https://nayoo.co/khonkaen/posts/30</td>\n",
              "      <td>4800000.0</td>\n",
              "      <td>3600000.0</td>\n",
              "      <td>4000000.0</td>\n",
              "    </tr>\n",
              "    <tr>\n",
              "      <th>13</th>\n",
              "      <td>https://nayoo.co/khonkaen/posts/35</td>\n",
              "      <td>2400000.0</td>\n",
              "      <td>2500000.0</td>\n",
              "      <td>2100000.0</td>\n",
              "    </tr>\n",
              "    <tr>\n",
              "      <th>15</th>\n",
              "      <td>https://nayoo.co/khonkaen/posts/497</td>\n",
              "      <td>5000000.0</td>\n",
              "      <td>3800000.0</td>\n",
              "      <td>5000000.0</td>\n",
              "    </tr>\n",
              "    <tr>\n",
              "      <th>17</th>\n",
              "      <td>https://nayoo.co/khonkaen/posts/498</td>\n",
              "      <td>7000000.0</td>\n",
              "      <td>7000000.0</td>\n",
              "      <td>8000000.0</td>\n",
              "    </tr>\n",
              "    <tr>\n",
              "      <th>19</th>\n",
              "      <td>https://nayoo.co/khonkaen/posts/499</td>\n",
              "      <td>9000000.0</td>\n",
              "      <td>8000000.0</td>\n",
              "      <td>10000000.0</td>\n",
              "    </tr>\n",
              "  </tbody>\n",
              "</table>\n",
              "</div>\n",
              "      <button class=\"colab-df-convert\" onclick=\"convertToInteractive('df-0d155c98-cc62-4021-91a7-cf5a93a1dae4')\"\n",
              "              title=\"Convert this dataframe to an interactive table.\"\n",
              "              style=\"display:none;\">\n",
              "        \n",
              "  <svg xmlns=\"http://www.w3.org/2000/svg\" height=\"24px\"viewBox=\"0 0 24 24\"\n",
              "       width=\"24px\">\n",
              "    <path d=\"M0 0h24v24H0V0z\" fill=\"none\"/>\n",
              "    <path d=\"M18.56 5.44l.94 2.06.94-2.06 2.06-.94-2.06-.94-.94-2.06-.94 2.06-2.06.94zm-11 1L8.5 8.5l.94-2.06 2.06-.94-2.06-.94L8.5 2.5l-.94 2.06-2.06.94zm10 10l.94 2.06.94-2.06 2.06-.94-2.06-.94-.94-2.06-.94 2.06-2.06.94z\"/><path d=\"M17.41 7.96l-1.37-1.37c-.4-.4-.92-.59-1.43-.59-.52 0-1.04.2-1.43.59L10.3 9.45l-7.72 7.72c-.78.78-.78 2.05 0 2.83L4 21.41c.39.39.9.59 1.41.59.51 0 1.02-.2 1.41-.59l7.78-7.78 2.81-2.81c.8-.78.8-2.07 0-2.86zM5.41 20L4 18.59l7.72-7.72 1.47 1.35L5.41 20z\"/>\n",
              "  </svg>\n",
              "      </button>\n",
              "      \n",
              "  <style>\n",
              "    .colab-df-container {\n",
              "      display:flex;\n",
              "      flex-wrap:wrap;\n",
              "      gap: 12px;\n",
              "    }\n",
              "\n",
              "    .colab-df-convert {\n",
              "      background-color: #E8F0FE;\n",
              "      border: none;\n",
              "      border-radius: 50%;\n",
              "      cursor: pointer;\n",
              "      display: none;\n",
              "      fill: #1967D2;\n",
              "      height: 32px;\n",
              "      padding: 0 0 0 0;\n",
              "      width: 32px;\n",
              "    }\n",
              "\n",
              "    .colab-df-convert:hover {\n",
              "      background-color: #E2EBFA;\n",
              "      box-shadow: 0px 1px 2px rgba(60, 64, 67, 0.3), 0px 1px 3px 1px rgba(60, 64, 67, 0.15);\n",
              "      fill: #174EA6;\n",
              "    }\n",
              "\n",
              "    [theme=dark] .colab-df-convert {\n",
              "      background-color: #3B4455;\n",
              "      fill: #D2E3FC;\n",
              "    }\n",
              "\n",
              "    [theme=dark] .colab-df-convert:hover {\n",
              "      background-color: #434B5C;\n",
              "      box-shadow: 0px 1px 3px 1px rgba(0, 0, 0, 0.15);\n",
              "      filter: drop-shadow(0px 1px 2px rgba(0, 0, 0, 0.3));\n",
              "      fill: #FFFFFF;\n",
              "    }\n",
              "  </style>\n",
              "\n",
              "      <script>\n",
              "        const buttonEl =\n",
              "          document.querySelector('#df-0d155c98-cc62-4021-91a7-cf5a93a1dae4 button.colab-df-convert');\n",
              "        buttonEl.style.display =\n",
              "          google.colab.kernel.accessAllowed ? 'block' : 'none';\n",
              "\n",
              "        async function convertToInteractive(key) {\n",
              "          const element = document.querySelector('#df-0d155c98-cc62-4021-91a7-cf5a93a1dae4');\n",
              "          const dataTable =\n",
              "            await google.colab.kernel.invokeFunction('convertToInteractive',\n",
              "                                                     [key], {});\n",
              "          if (!dataTable) return;\n",
              "\n",
              "          const docLinkHtml = 'Like what you see? Visit the ' +\n",
              "            '<a target=\"_blank\" href=https://colab.research.google.com/notebooks/data_table.ipynb>data table notebook</a>'\n",
              "            + ' to learn more about interactive tables.';\n",
              "          element.innerHTML = '';\n",
              "          dataTable['output_type'] = 'display_data';\n",
              "          await google.colab.output.renderOutput(dataTable, element);\n",
              "          const docLink = document.createElement('div');\n",
              "          docLink.innerHTML = docLinkHtml;\n",
              "          element.appendChild(docLink);\n",
              "        }\n",
              "      </script>\n",
              "    </div>\n",
              "  </div>\n",
              "  "
            ]
          },
          "metadata": {},
          "execution_count": 60
        }
      ]
    },
    {
      "cell_type": "code",
      "source": [
        "assess_s.isnull().sum() "
      ],
      "metadata": {
        "id": "jdwX1QEUlKjf",
        "outputId": "e4f7e149-6739-4347-a12b-591eb450e214",
        "colab": {
          "base_uri": "https://localhost:8080/"
        }
      },
      "execution_count": null,
      "outputs": [
        {
          "output_type": "execute_result",
          "data": {
            "text/plain": [
              "post id       0\n",
              "ราคาทรัพย์    0\n",
              "ประเมิน1      0\n",
              "ประเมิน2      0\n",
              "dtype: int64"
            ]
          },
          "metadata": {},
          "execution_count": 61
        }
      ]
    },
    {
      "cell_type": "markdown",
      "source": [
        "####MAPE"
      ],
      "metadata": {
        "id": "X0DgqwiNlNkC"
      }
    },
    {
      "cell_type": "code",
      "source": [
        "actual_s = assess_s['ราคาทรัพย์']\n",
        "pre_s = assess_s['ประเมิน1']\n",
        "pre_s2 = assess_s['ประเมิน2']"
      ],
      "metadata": {
        "id": "fH8KgGj4lPkT"
      },
      "execution_count": null,
      "outputs": []
    },
    {
      "cell_type": "code",
      "source": [
        "pred1_s = mape(actual_s, pre_s)\n",
        "pred2_s = mape(actual_s, pre_s2)\n",
        "mapes = mape(pre_s,pre_s2)"
      ],
      "metadata": {
        "id": "e6Hzj98ClSnW"
      },
      "execution_count": null,
      "outputs": []
    },
    {
      "cell_type": "markdown",
      "source": [
        "###เขียน Function ตรวจสอบค่าที่เติมผิด"
      ],
      "metadata": {
        "id": "u0uhq6FLK8aL"
      }
    },
    {
      "cell_type": "code",
      "source": [
        "max(10,2)"
      ],
      "metadata": {
        "id": "swDAySYHLFWN",
        "outputId": "eca9652c-6d50-4142-f262-c7753624fd6b",
        "colab": {
          "base_uri": "https://localhost:8080/"
        }
      },
      "execution_count": 1,
      "outputs": [
        {
          "output_type": "execute_result",
          "data": {
            "text/plain": [
              "10"
            ]
          },
          "metadata": {},
          "execution_count": 1
        }
      ]
    },
    {
      "cell_type": "code",
      "source": [
        "def check_v (in1,in2):\n",
        "  return max(in1/in2,in2/in1)"
      ],
      "metadata": {
        "id": "PfbvIQYBLOiq"
      },
      "execution_count": 4,
      "outputs": []
    },
    {
      "cell_type": "code",
      "source": [
        "check_v(100,12)"
      ],
      "metadata": {
        "id": "33oWyNPLLxDh",
        "outputId": "958ded5b-0db3-44f1-9b97-d01beb619742",
        "colab": {
          "base_uri": "https://localhost:8080/"
        }
      },
      "execution_count": 5,
      "outputs": [
        {
          "output_type": "execute_result",
          "data": {
            "text/plain": [
              "8.333333333333334"
            ]
          },
          "metadata": {},
          "execution_count": 5
        }
      ]
    },
    {
      "cell_type": "code",
      "source": [
        "check_v(100,1200)"
      ],
      "metadata": {
        "id": "VypoZdC5L13j",
        "outputId": "1dc6ef05-e073-4432-9c51-f848207d5bdf",
        "colab": {
          "base_uri": "https://localhost:8080/"
        }
      },
      "execution_count": 6,
      "outputs": [
        {
          "output_type": "execute_result",
          "data": {
            "text/plain": [
              "12.0"
            ]
          },
          "metadata": {},
          "execution_count": 6
        }
      ]
    },
    {
      "cell_type": "markdown",
      "source": [
        "###สร้าง column ใหม่ลงในตาราง Home โดยค่าใน column คือค่าจาก Function check (ราคาตั้งขาย , ราคาทรัพย์ , ราคาประเมิน1)"
      ],
      "metadata": {
        "id": "uzAaEw4yL9AI"
      }
    },
    {
      "cell_type": "code",
      "source": [
        "\n",
        "check1 = list()"
      ],
      "metadata": {
        "id": "SzXGVIShMpCc"
      },
      "execution_count": null,
      "outputs": []
    },
    {
      "cell_type": "code",
      "source": [],
      "metadata": {
        "id": "ki54Ts91QPeT"
      },
      "execution_count": null,
      "outputs": []
    },
    {
      "cell_type": "markdown",
      "source": [
        "ใช้ที่ทำในวันนี้ไปแก้ค่าในตาราง ถ้าผิดค฿่ให้ลบเลย ข้ามคอนโดไปเลย"
      ],
      "metadata": {
        "id": "2hpG0mKJTBZF"
      }
    }
  ]
}